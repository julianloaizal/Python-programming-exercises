{
  "cells": [
    {
      "cell_type": "markdown",
      "metadata": {
        "id": "view-in-github",
        "colab_type": "text"
      },
      "source": [
        "<a href=\"https://colab.research.google.com/github/julianloaizal/Python-programming-exercises/blob/master/Clase19.ipynb\" target=\"_parent\"><img src=\"https://colab.research.google.com/assets/colab-badge.svg\" alt=\"Open In Colab\"/></a>"
      ]
    },
    {
      "cell_type": "markdown",
      "metadata": {
        "id": "D3zxitrY-06s"
      },
      "source": [
        "<div align=\"left\">\n",
        "<p><img alt=\"Sapiencia\" height=\"140px\" src=\"https://ubicua.ingeniaudea.co/pluginfile.php/32974/coursecat/description/RF_RedesNeuronales.png\" align=\"left\" hspace=\"10px\" vspace=\"0px\"></p></div>\n",
        "<div align=\"left\"></div>\n",
        "<div>\n",
        "\n",
        "<br></br>\n",
        "\n",
        "<div align=\"left\">\n",
        "<br></br>\n",
        "<br></br>\n",
        "\n",
        "\n",
        "\n",
        "<hr size=10 noshade color=\"#663398\">\n",
        "</p>\n",
        "<p>\n",
        "<img alt=\"CC\" height=\"70px\" src=\"https://mirrors.creativecommons.org/presskit/buttons/88x31/png/by-nc-sa.png\" align=\"left\" hspace=\"0px\" vspace=\"0px\">\n",
        "</p>\n",
        "\n",
        "<div align=\"right\">\n",
        "<h1> <b> Por: Julián Andrés Loaiza López </b> </h1>\n",
        "<h2> Ingeniero de sistemas </h2>\n",
        "<h2> Especialista en programación aplicada </h2>\n",
        "<a href=\"mailto:julian.loaizal@udea.edu.co\"> ✉ Julian Andres Loaiza Lopez</a>\n",
        "</div>\n",
        "\n",
        "<br>\n",
        "\n",
        "**El presente material hace parte de la ruta de formación del talento especializado de SAPIENCIA**\n",
        "\n",
        "**Los documentos que utilizaremos en la presente y proximas clases son una mezcla del trabajo de muchos profesores y académicos.**\n",
        "\n",
        "**En caso de utilizar el presente contenido favor citarlo y brindar los créditos respectivos.**"
      ]
    },
    {
      "cell_type": "markdown",
      "metadata": {
        "id": "Y3S0SPUg_Bmy"
      },
      "source": [
        "<p><a name=\"contents\"></a></p>\n",
        "\n",
        "# **Contenido Semanas 10, 11 y 12**\n",
        "\n",
        "\n",
        "- <a href=\"#s1\">01. NumPy</a><br>\n",
        "- <a href=\"#s2\">02. Pandas</a><br>\n",
        "- <a href=\"#s3\">03. Matplotlib</a><br>\n",
        "- <a href=\"#s4\">04. Manejo de archivos</a><br>\n",
        "- <a href=\"#s5\">05. Notas Finales</a><br>\n",
        "\n",
        "<p>\n",
        "\n",
        "El presente documento está basado en los siguientes librosy documentos:\n",
        "\n",
        "*   Python Website. (2021). Python 3.9.1 documentation. Retrieved February 03, 2021, from https://docs.python.org/\n",
        "*   W3schools.com. (2021). Python tutorial. Retrieved February 04, 2021, from https://www.w3schools.com/python/default.asp\n",
        "*   Martelli, A., Ravenscroft, A., & Ascher, D. (2005). Python cookbook. \" O'Reilly\n",
        "*   realpython.com. (2021). Real Python Tutorials. Retrieved February 04, 2021, from https://realpython.com/\n",
        "*   Sweigart, A. (2019). Automate the boring stuff with Python: practical programming for total beginners. No Starch Press.\n",
        "*   Ziadé, T. (2008). Expert Python Programming. Packt Publishing Ltd.\n",
        "*   Pilgrim, M., & Willison, S. (2009). Dive Into Python 3 (Vol. 2). Apress.\n",
        "*   Cairo, B. (2005). Metodología de la Programación: Algoritmos, diagramas de flujo y programas. Alfaomega.\n",
        "</p>\n",
        "\n",
        "[[Contenidos]](#contents)\n"
      ]
    },
    {
      "cell_type": "markdown",
      "metadata": {
        "id": "scrqrtlGZkRU"
      },
      "source": [
        "<p><a name=\"s1\"></a></p>\n",
        "\n",
        "# **01. NumPy**\n",
        "[[Contenidos]](#contents)\n",
        "\n",
        "[![](https://raw.githubusercontent.com/juliancastillo-iudigital/FundamentosProgramacionPosgrados2021-1/main/NumPy.png)](https://numpy.org/)"
      ]
    },
    {
      "cell_type": "markdown",
      "metadata": {
        "id": "g9AMIuz3xYC7"
      },
      "source": [
        "##**¿Qué es [NumPy](https://numpy.org/)?**\n",
        "\n",
        "\n",
        "NumPy es el paquete fundamental para la computación científica en Python. Es una biblioteca de Python que proporciona un objeto de matriz multidimensional, varios objetos derivados (como matrices y [matrices enmascaradas](https://numpy.org/doc/stable/reference/maskedarray.html) y una variedad de rutinas para operaciones rápidas en matrices, que incluyen operaciones matemáticas, lógica, manipulación de formas, clasificación, selección, I/O (input/output), transformadas discretas de Fourier, álgebra lineal básica, operaciones estadísticas básicas, simulación aleatoria y mucho más.\n",
        "\n",
        "En el núcleo del paquete NumPy, se encuentra el objeto `ndarray`. Esto encapsula matrices n-dimensionales de tipos de datos homogéneos, con muchas operaciones que se realizan en código compilado para mejorar el rendimiento. Hay varias diferencias importantes entre las matrices NumPy y las secuencias estándar de Python:\n",
        "\n",
        "*   Las matrices NumPy tienen un tamaño fijo en el momento de la creación, a diferencia de las listas de Python (que pueden crecer dinámicamente). Cambiar el tamaño de un ndarray creará una nueva matriz y eliminará la original.\n",
        "\n",
        "*   Todos los elementos de una matriz NumPy deben ser del mismo tipo de datos y, por lo tanto, tendrán el mismo tamaño en la memoria. La excepción: uno puede tener matrices de objetos (Python, incluido NumPy), lo que permite matrices de elementos de diferentes tamaños.\n",
        "\n",
        "*   Las matrices NumPy facilitan operaciones matemáticas avanzadas y de otro tipo en grandes cantidades de datos. Por lo general, estas operaciones se ejecutan de manera más eficiente y con menos código de lo que es posible usando las secuencias integradas de Python.\n",
        "\n",
        "*   Una creciente plétora de paquetes científicos y matemáticos basados ​​en Python utilizan matrices NumPy; aunque estos suelen admitir la entrada de secuencia de Python, convierten dicha entrada en matrices NumPy antes del procesamiento y, a menudo, generan matrices NumPy. En otras palabras, para usar de manera eficiente gran parte (quizás incluso la mayoría) del software científico / matemático basado en Python de hoy en día, simplemente saber cómo usar los tipos de secuencia integrados de Python es insuficiente; también es necesario saber cómo usar las matrices NumPy.\n",
        "\n",
        "Los puntos sobre el tamaño y la velocidad de la secuencia son particularmente importantes en la computación científica. Como ejemplo simple, considere el caso de multiplicar cada elemento en una secuencia 1-D con el elemento correspondiente en otra secuencia de la misma longitud. Si los datos se almacenan en dos listas de Python, `a` y `b`, podríamos iterar sobre cada elemento:\n",
        "\n",
        "```python\n",
        "c = []\n",
        "for i in range(len(a)):\n",
        "    c.append(a[i]*b[i])\n",
        "```\n",
        "Esto produce la respuesta correcta, pero si `a` y `b` contienen millones de números cada uno, pagaremos el precio por las ineficiencias de los bucles en Python. Podríamos realizar la misma tarea mucho más rápidamente en *C* escribiendo (para mayor claridad, descuidamos las declaraciones e inicializaciones de variables, la asignación de memoria, etc.)\n",
        "\n",
        "```c\n",
        "for (i = 0; i < rows; i++): {\n",
        "  c[i] = a[i]*b[i];\n",
        "}\n",
        "```\n",
        "Esto ahorra todos los gastos generales involucrados en la interpretación del código Python y la manipulación de objetos Python, pero a expensas de los beneficios obtenidos de la codificación en Python. Además, el trabajo de codificación requerido aumenta con la dimensionalidad de nuestros datos. En el caso de una matriz 2-D, por ejemplo, el código C (abreviado como antes) se expande a:\n",
        "```c\n",
        "for (i = 0; i < rows; i++): {\n",
        "  for (j = 0; j < columns; j++): {\n",
        "    c[i][j] = a[i][j]*b[i][j];\n",
        "  }\n",
        "}\n",
        "```\n",
        "NumPy nos da lo mejor de ambos mundos: las operaciones elemento por elemento son el \"modo predeterminado\" cuando se trata de un ndarray, pero la operación elemento por elemento se ejecuta rápidamente mediante código C precompilado. En NumPy `c = a * b` hace lo que hacen los ejemplos anteriores, a velocidades cercanas a *C*, pero con la simplicidad de código que esperamos de algo basado en Python. De hecho, ¡el modismo de NumPy es aún más simple! Este último ejemplo ilustra dos de las características de NumPy que son la base de gran parte de su poder: vectorización y difusión.\n",
        "\n",
        "###**¿Por qué NumPy es rápido?**\n",
        "\n",
        "La vectorización describe la ausencia de cualquier bucle explícito, indexación, etc., en el código; estas cosas están sucediendo, por supuesto, sólo \"detrás de escena\" en código *C* optimizado y precompilado. El código vectorizado tiene muchas ventajas, entre las que se encuentran:\n",
        "\n",
        "*   El código vectorizado es más conciso y más fácil de leer\n",
        "*   Menos líneas de código generalmente significan menos errores\n",
        "*   El código se parece más a la notación matemática estándar (lo que facilita, por lo general, codificar correctamente las construcciones matemáticas)\n",
        "*   La vectorización da como resultado un código más \"Pythonic\". Sin la vectorización, nuestro código estaría plagado de ciclos `for` ineficientes y difíciles de leer.\n",
        "\n",
        "###**Broadcasting**\n",
        "\n",
        "Broadcasting es el término utilizado para describir el comportamiento implícito elemento por elemento de las operaciones; En términos generales, en NumPy todas las operaciones, no solo las operaciones aritméticas, sino las lógicas, bit a bit, funcionales, etc., se comportan de esta manera implícita elemento por elemento, es decir, se realiza broadcast. Además, en el ejemplo anterior, `a` y `b` podrían ser matrices multidimensionales de la misma forma, o un escalar y una matriz, o incluso dos matrices con formas diferentes, siempre que la matriz más pequeña sea \"expandible\" a la forma de la más grande. de tal manera que la emisión resultante sea inequívoca. Para conocer las “reglas” detalladas de broadcasting, consulte [`basics.broadcasting`](https://numpy.org/doc/stable/user/basics.broadcasting.html)"
      ]
    },
    {
      "cell_type": "markdown",
      "metadata": {
        "id": "ontirwFJ0m93"
      },
      "source": [
        "##**Instalación de NumPy**\n",
        "\n",
        "Instalar NumPy en Google Colab no es necesario, dicho módulo se encuentra instalado, en caso de necesitar la instalación relacionamos un `pip install` con la llamada al módulo NumPy.\n",
        "\n",
        "\n",
        "```python\n",
        "!pip install numpy\n",
        "```\n",
        "Importar el módulo NumPy se realiza con la palabra clave `import` y nótese el alias asignado al módulo es `np` el cual es de uso generalizado en la comunidad de NumPy.\n",
        "\n",
        "```python\n",
        "import numpy as np\n",
        "```\n",
        "Ahora utilicemos nuestro nuevo módulo para crear un vector (array).\n",
        "\n",
        "```python\n",
        "arr = np.array([1, 2, 3, 4, 5])\n",
        "print(arr)\n",
        "```\n",
        "Para verificar la versión de Numpy se puede realizar con `!pip list` o con la llamada especifica usando `!pip show numpy` o `!pip show --verbose numpy`\n"
      ]
    },
    {
      "cell_type": "code",
      "execution_count": null,
      "metadata": {
        "id": "r4XkkiWA0xes",
        "colab": {
          "base_uri": "https://localhost:8080/"
        },
        "outputId": "032f839e-f407-4b7d-e3eb-8e9c8f46a302"
      },
      "outputs": [
        {
          "output_type": "stream",
          "name": "stdout",
          "text": [
            "Package                          Version               Location                                Installer\n",
            "-------------------------------- --------------------- --------------------------------------- ---------\n",
            "absl-py                          1.4.0                 /usr/local/lib/python3.10/dist-packages pip\n",
            "aiohttp                          3.8.6                 /usr/local/lib/python3.10/dist-packages pip\n",
            "aiosignal                        1.3.1                 /usr/local/lib/python3.10/dist-packages pip\n",
            "alabaster                        0.7.13                /usr/local/lib/python3.10/dist-packages pip\n",
            "albumentations                   1.3.1                 /usr/local/lib/python3.10/dist-packages pip\n",
            "altair                           4.2.2                 /usr/local/lib/python3.10/dist-packages pip\n",
            "anyio                            3.7.1                 /usr/local/lib/python3.10/dist-packages pip\n",
            "appdirs                          1.4.4                 /usr/local/lib/python3.10/dist-packages pip\n",
            "argon2-cffi                      23.1.0                /usr/local/lib/python3.10/dist-packages pip\n",
            "argon2-cffi-bindings             21.2.0                /usr/local/lib/python3.10/dist-packages pip\n",
            "array-record                     0.4.1                 /usr/local/lib/python3.10/dist-packages pip\n",
            "arviz                            0.15.1                /usr/local/lib/python3.10/dist-packages pip\n",
            "astropy                          5.3.4                 /usr/local/lib/python3.10/dist-packages pip\n",
            "astunparse                       1.6.3                 /usr/local/lib/python3.10/dist-packages pip\n",
            "async-timeout                    4.0.3                 /usr/local/lib/python3.10/dist-packages pip\n",
            "attrs                            23.1.0                /usr/local/lib/python3.10/dist-packages pip\n",
            "audioread                        3.0.1                 /usr/local/lib/python3.10/dist-packages pip\n",
            "autograd                         1.6.2                 /usr/local/lib/python3.10/dist-packages pip\n",
            "Babel                            2.13.0                /usr/local/lib/python3.10/dist-packages pip\n",
            "backcall                         0.2.0                 /usr/local/lib/python3.10/dist-packages pip\n",
            "beautifulsoup4                   4.11.2                /usr/local/lib/python3.10/dist-packages pip\n",
            "bleach                           6.1.0                 /usr/local/lib/python3.10/dist-packages pip\n",
            "blinker                          1.4                   /usr/lib/python3/dist-packages\n",
            "blis                             0.7.11                /usr/local/lib/python3.10/dist-packages pip\n",
            "blosc2                           2.0.0                 /usr/local/lib/python3.10/dist-packages pip\n",
            "bokeh                            3.2.2                 /usr/local/lib/python3.10/dist-packages pip\n",
            "bqplot                           0.12.40               /usr/local/lib/python3.10/dist-packages pip\n",
            "branca                           0.6.0                 /usr/local/lib/python3.10/dist-packages pip\n",
            "build                            1.0.3                 /usr/local/lib/python3.10/dist-packages pip\n",
            "CacheControl                     0.13.1                /usr/local/lib/python3.10/dist-packages pip\n",
            "cachetools                       5.3.1                 /usr/local/lib/python3.10/dist-packages pip\n",
            "catalogue                        2.0.10                /usr/local/lib/python3.10/dist-packages pip\n",
            "certifi                          2023.7.22             /usr/local/lib/python3.10/dist-packages pip\n",
            "cffi                             1.16.0                /usr/local/lib/python3.10/dist-packages pip\n",
            "chardet                          5.2.0                 /usr/local/lib/python3.10/dist-packages pip\n",
            "charset-normalizer               3.3.0                 /usr/local/lib/python3.10/dist-packages pip\n",
            "chex                             0.1.7                 /usr/local/lib/python3.10/dist-packages pip\n",
            "click                            8.1.7                 /usr/local/lib/python3.10/dist-packages pip\n",
            "click-plugins                    1.1.1                 /usr/local/lib/python3.10/dist-packages pip\n",
            "cligj                            0.7.2                 /usr/local/lib/python3.10/dist-packages pip\n",
            "cloudpickle                      2.2.1                 /usr/local/lib/python3.10/dist-packages pip\n",
            "cmake                            3.27.6                /usr/local/lib/python3.10/dist-packages pip\n",
            "cmdstanpy                        1.2.0                 /usr/local/lib/python3.10/dist-packages pip\n",
            "colorcet                         3.0.1                 /usr/local/lib/python3.10/dist-packages pip\n",
            "colorlover                       0.3.0                 /usr/local/lib/python3.10/dist-packages pip\n",
            "colour                           0.1.5                 /usr/local/lib/python3.10/dist-packages pip\n",
            "community                        1.0.0b1               /usr/local/lib/python3.10/dist-packages pip\n",
            "confection                       0.1.3                 /usr/local/lib/python3.10/dist-packages pip\n",
            "cons                             0.4.6                 /usr/local/lib/python3.10/dist-packages pip\n",
            "contextlib2                      21.6.0                /usr/local/lib/python3.10/dist-packages pip\n",
            "contourpy                        1.1.1                 /usr/local/lib/python3.10/dist-packages pip\n",
            "cryptography                     41.0.4                /usr/local/lib/python3.10/dist-packages pip\n",
            "cufflinks                        0.17.3                /usr/local/lib/python3.10/dist-packages pip\n",
            "cupy-cuda11x                     11.0.0                /usr/local/lib/python3.10/dist-packages pip\n",
            "cvxopt                           1.3.2                 /usr/local/lib/python3.10/dist-packages pip\n",
            "cvxpy                            1.3.2                 /usr/local/lib/python3.10/dist-packages pip\n",
            "cycler                           0.12.1                /usr/local/lib/python3.10/dist-packages pip\n",
            "cymem                            2.0.8                 /usr/local/lib/python3.10/dist-packages pip\n",
            "Cython                           3.0.3                 /usr/local/lib/python3.10/dist-packages pip\n",
            "dask                             2023.8.1              /usr/local/lib/python3.10/dist-packages pip\n",
            "datascience                      0.17.6                /usr/local/lib/python3.10/dist-packages pip\n",
            "db-dtypes                        1.1.1                 /usr/local/lib/python3.10/dist-packages pip\n",
            "dbus-python                      1.2.18                /usr/lib/python3/dist-packages\n",
            "debugpy                          1.6.6                 /usr/local/lib/python3.10/dist-packages pip\n",
            "decorator                        4.4.2                 /usr/local/lib/python3.10/dist-packages pip\n",
            "defusedxml                       0.7.1                 /usr/local/lib/python3.10/dist-packages pip\n",
            "diskcache                        5.6.3                 /usr/local/lib/python3.10/dist-packages pip\n",
            "distributed                      2023.8.1              /usr/local/lib/python3.10/dist-packages pip\n",
            "distro                           1.7.0                 /usr/lib/python3/dist-packages\n",
            "dlib                             19.24.2               /usr/local/lib/python3.10/dist-packages pip\n",
            "dm-tree                          0.1.8                 /usr/local/lib/python3.10/dist-packages pip\n",
            "docutils                         0.18.1                /usr/local/lib/python3.10/dist-packages pip\n",
            "dopamine-rl                      4.0.6                 /usr/local/lib/python3.10/dist-packages pip\n",
            "duckdb                           0.8.1                 /usr/local/lib/python3.10/dist-packages pip\n",
            "earthengine-api                  0.1.374               /usr/local/lib/python3.10/dist-packages pip\n",
            "easydict                         1.10                  /usr/local/lib/python3.10/dist-packages pip\n",
            "ecos                             2.0.12                /usr/local/lib/python3.10/dist-packages pip\n",
            "editdistance                     0.6.2                 /usr/local/lib/python3.10/dist-packages pip\n",
            "eerepr                           0.0.4                 /usr/local/lib/python3.10/dist-packages pip\n",
            "en-core-web-sm                   3.6.0                 /usr/local/lib/python3.10/dist-packages pip\n",
            "entrypoints                      0.4                   /usr/local/lib/python3.10/dist-packages pip\n",
            "et-xmlfile                       1.1.0                 /usr/local/lib/python3.10/dist-packages pip\n",
            "etils                            1.5.0                 /usr/local/lib/python3.10/dist-packages pip\n",
            "etuples                          0.3.9                 /usr/local/lib/python3.10/dist-packages pip\n",
            "exceptiongroup                   1.1.3                 /usr/local/lib/python3.10/dist-packages pip\n",
            "fastai                           2.7.12                /usr/local/lib/python3.10/dist-packages pip\n",
            "fastcore                         1.5.29                /usr/local/lib/python3.10/dist-packages pip\n",
            "fastdownload                     0.0.7                 /usr/local/lib/python3.10/dist-packages pip\n",
            "fastjsonschema                   2.18.1                /usr/local/lib/python3.10/dist-packages pip\n",
            "fastprogress                     1.0.3                 /usr/local/lib/python3.10/dist-packages pip\n",
            "fastrlock                        0.8.2                 /usr/local/lib/python3.10/dist-packages pip\n",
            "filelock                         3.12.4                /usr/local/lib/python3.10/dist-packages pip\n",
            "Fiona                            1.9.4.post1           /usr/local/lib/python3.10/dist-packages pip\n",
            "firebase-admin                   5.3.0                 /usr/local/lib/python3.10/dist-packages pip\n",
            "Flask                            2.2.5                 /usr/local/lib/python3.10/dist-packages pip\n",
            "flatbuffers                      23.5.26               /usr/local/lib/python3.10/dist-packages pip\n",
            "flax                             0.7.4                 /usr/local/lib/python3.10/dist-packages pip\n",
            "folium                           0.14.0                /usr/local/lib/python3.10/dist-packages pip\n",
            "fonttools                        4.43.1                /usr/local/lib/python3.10/dist-packages pip\n",
            "frozendict                       2.3.8                 /usr/local/lib/python3.10/dist-packages pip\n",
            "frozenlist                       1.4.0                 /usr/local/lib/python3.10/dist-packages pip\n",
            "fsspec                           2023.6.0              /usr/local/lib/python3.10/dist-packages pip\n",
            "future                           0.18.3                /usr/local/lib/python3.10/dist-packages pip\n",
            "gast                             0.4.0                 /usr/local/lib/python3.10/dist-packages pip\n",
            "gcsfs                            2023.6.0              /usr/local/lib/python3.10/dist-packages pip\n",
            "GDAL                             3.4.3                 /usr/local/lib/python3.10/dist-packages pip\n",
            "gdown                            4.6.6                 /usr/local/lib/python3.10/dist-packages pip\n",
            "geemap                           0.28.2                /usr/local/lib/python3.10/dist-packages pip\n",
            "gensim                           4.3.2                 /usr/local/lib/python3.10/dist-packages pip\n",
            "geocoder                         1.38.1                /usr/local/lib/python3.10/dist-packages pip\n",
            "geographiclib                    2.0                   /usr/local/lib/python3.10/dist-packages pip\n",
            "geopandas                        0.13.2                /usr/local/lib/python3.10/dist-packages pip\n",
            "geopy                            2.3.0                 /usr/local/lib/python3.10/dist-packages pip\n",
            "gin-config                       0.5.0                 /usr/local/lib/python3.10/dist-packages pip\n",
            "glob2                            0.7                   /usr/local/lib/python3.10/dist-packages pip\n",
            "google                           2.0.3                 /usr/local/lib/python3.10/dist-packages pip\n",
            "google-api-core                  2.11.1                /usr/local/lib/python3.10/dist-packages pip\n",
            "google-api-python-client         2.84.0                /usr/local/lib/python3.10/dist-packages pip\n",
            "google-auth                      2.17.3                /usr/local/lib/python3.10/dist-packages pip\n",
            "google-auth-httplib2             0.1.1                 /usr/local/lib/python3.10/dist-packages pip\n",
            "google-auth-oauthlib             1.0.0                 /usr/local/lib/python3.10/dist-packages pip\n",
            "google-cloud-bigquery            3.10.0                /usr/local/lib/python3.10/dist-packages pip\n",
            "google-cloud-bigquery-connection 1.12.1                /usr/local/lib/python3.10/dist-packages pip\n",
            "google-cloud-bigquery-storage    2.22.0                /usr/local/lib/python3.10/dist-packages pip\n",
            "google-cloud-core                2.3.3                 /usr/local/lib/python3.10/dist-packages pip\n",
            "google-cloud-datastore           2.15.2                /usr/local/lib/python3.10/dist-packages pip\n",
            "google-cloud-firestore           2.11.1                /usr/local/lib/python3.10/dist-packages pip\n",
            "google-cloud-functions           1.13.3                /usr/local/lib/python3.10/dist-packages pip\n",
            "google-cloud-language            2.9.1                 /usr/local/lib/python3.10/dist-packages pip\n",
            "google-cloud-storage             2.8.0                 /usr/local/lib/python3.10/dist-packages pip\n",
            "google-cloud-translate           3.11.3                /usr/local/lib/python3.10/dist-packages pip\n",
            "google-colab                     1.0.0                 /usr/local/lib/python3.10/dist-packages pip\n",
            "google-crc32c                    1.5.0                 /usr/local/lib/python3.10/dist-packages pip\n",
            "google-pasta                     0.2.0                 /usr/local/lib/python3.10/dist-packages pip\n",
            "google-resumable-media           2.6.0                 /usr/local/lib/python3.10/dist-packages pip\n",
            "googleapis-common-protos         1.60.0                /usr/local/lib/python3.10/dist-packages pip\n",
            "googledrivedownloader            0.4                   /usr/local/lib/python3.10/dist-packages pip\n",
            "graphviz                         0.20.1                /usr/local/lib/python3.10/dist-packages pip\n",
            "greenlet                         3.0.0                 /usr/local/lib/python3.10/dist-packages pip\n",
            "grpc-google-iam-v1               0.12.6                /usr/local/lib/python3.10/dist-packages pip\n",
            "grpcio                           1.59.0                /usr/local/lib/python3.10/dist-packages pip\n",
            "grpcio-status                    1.48.2                /usr/local/lib/python3.10/dist-packages pip\n",
            "gspread                          3.4.2                 /usr/local/lib/python3.10/dist-packages pip\n",
            "gspread-dataframe                3.3.1                 /usr/local/lib/python3.10/dist-packages pip\n",
            "gym                              0.25.2                /usr/local/lib/python3.10/dist-packages pip\n",
            "gym-notices                      0.0.8                 /usr/local/lib/python3.10/dist-packages pip\n",
            "h5netcdf                         1.2.0                 /usr/local/lib/python3.10/dist-packages pip\n",
            "h5py                             3.9.0                 /usr/local/lib/python3.10/dist-packages pip\n",
            "holidays                         0.34                  /usr/local/lib/python3.10/dist-packages pip\n",
            "holoviews                        1.17.1                /usr/local/lib/python3.10/dist-packages pip\n",
            "html5lib                         1.1                   /usr/local/lib/python3.10/dist-packages pip\n",
            "httpimport                       1.3.1                 /usr/local/lib/python3.10/dist-packages pip\n",
            "httplib2                         0.22.0                /usr/local/lib/python3.10/dist-packages pip\n",
            "humanize                         4.7.0                 /usr/local/lib/python3.10/dist-packages pip\n",
            "hyperopt                         0.2.7                 /usr/local/lib/python3.10/dist-packages pip\n",
            "idna                             3.4                   /usr/local/lib/python3.10/dist-packages pip\n",
            "imageio                          2.31.5                /usr/local/lib/python3.10/dist-packages pip\n",
            "imageio-ffmpeg                   0.4.9                 /usr/local/lib/python3.10/dist-packages pip\n",
            "imagesize                        1.4.1                 /usr/local/lib/python3.10/dist-packages pip\n",
            "imbalanced-learn                 0.10.1                /usr/local/lib/python3.10/dist-packages pip\n",
            "imgaug                           0.4.0                 /usr/local/lib/python3.10/dist-packages pip\n",
            "importlib-metadata               6.8.0                 /usr/local/lib/python3.10/dist-packages pip\n",
            "importlib-resources              6.1.0                 /usr/local/lib/python3.10/dist-packages pip\n",
            "imutils                          0.5.4                 /usr/local/lib/python3.10/dist-packages pip\n",
            "inflect                          7.0.0                 /usr/local/lib/python3.10/dist-packages pip\n",
            "iniconfig                        2.0.0                 /usr/local/lib/python3.10/dist-packages pip\n",
            "install                          1.3.5                 /usr/local/lib/python3.10/dist-packages pip\n",
            "intel-openmp                     2023.2.0              /usr/local/lib/python3.10/dist-packages pip\n",
            "ipyevents                        2.0.2                 /usr/local/lib/python3.10/dist-packages pip\n",
            "ipyfilechooser                   0.6.0                 /usr/local/lib/python3.10/dist-packages pip\n",
            "ipykernel                        5.5.6                 /usr/local/lib/python3.10/dist-packages pip\n",
            "ipyleaflet                       0.17.4                /usr/local/lib/python3.10/dist-packages pip\n",
            "ipython                          7.34.0                /usr/local/lib/python3.10/dist-packages pip\n",
            "ipython-genutils                 0.2.0                 /usr/local/lib/python3.10/dist-packages pip\n",
            "ipython-sql                      0.5.0                 /usr/local/lib/python3.10/dist-packages pip\n",
            "ipytree                          0.2.2                 /usr/local/lib/python3.10/dist-packages pip\n",
            "ipywidgets                       7.7.1                 /usr/local/lib/python3.10/dist-packages pip\n",
            "itsdangerous                     2.1.2                 /usr/local/lib/python3.10/dist-packages pip\n",
            "jax                              0.4.16                /usr/local/lib/python3.10/dist-packages pip\n",
            "jaxlib                           0.4.16+cuda11.cudnn86 /usr/local/lib/python3.10/dist-packages pip\n",
            "jeepney                          0.7.1                 /usr/lib/python3/dist-packages          flit\n",
            "jieba                            0.42.1                /usr/local/lib/python3.10/dist-packages pip\n",
            "Jinja2                           3.1.2                 /usr/local/lib/python3.10/dist-packages pip\n",
            "joblib                           1.3.2                 /usr/local/lib/python3.10/dist-packages pip\n",
            "jsonpickle                       3.0.2                 /usr/local/lib/python3.10/dist-packages pip\n",
            "jsonschema                       4.19.1                /usr/local/lib/python3.10/dist-packages pip\n",
            "jsonschema-specifications        2023.7.1              /usr/local/lib/python3.10/dist-packages pip\n",
            "jupyter-client                   6.1.12                /usr/local/lib/python3.10/dist-packages pip\n",
            "jupyter-console                  6.1.0                 /usr/local/lib/python3.10/dist-packages pip\n",
            "jupyter_core                     5.4.0                 /usr/local/lib/python3.10/dist-packages pip\n",
            "jupyter-server                   1.24.0                /usr/local/lib/python3.10/dist-packages pip\n",
            "jupyterlab-pygments              0.2.2                 /usr/local/lib/python3.10/dist-packages pip\n",
            "jupyterlab-widgets               3.0.9                 /usr/local/lib/python3.10/dist-packages pip\n",
            "kaggle                           1.5.16                /usr/local/lib/python3.10/dist-packages pip\n",
            "keras                            2.13.1                /usr/local/lib/python3.10/dist-packages pip\n",
            "keyring                          23.5.0                /usr/lib/python3/dist-packages\n",
            "kiwisolver                       1.4.5                 /usr/local/lib/python3.10/dist-packages pip\n",
            "langcodes                        3.3.0                 /usr/local/lib/python3.10/dist-packages pip\n",
            "launchpadlib                     1.10.16               /usr/lib/python3/dist-packages\n",
            "lazr.restfulclient               0.14.4                /usr/lib/python3/dist-packages\n",
            "lazr.uri                         1.0.6                 /usr/lib/python3/dist-packages\n",
            "lazy_loader                      0.3                   /usr/local/lib/python3.10/dist-packages pip\n",
            "libclang                         16.0.6                /usr/local/lib/python3.10/dist-packages pip\n",
            "librosa                          0.10.1                /usr/local/lib/python3.10/dist-packages pip\n",
            "lida                             0.0.10                /usr/local/lib/python3.10/dist-packages pip\n",
            "lightgbm                         4.0.0                 /usr/local/lib/python3.10/dist-packages pip\n",
            "linkify-it-py                    2.0.2                 /usr/local/lib/python3.10/dist-packages pip\n",
            "lit                              17.0.2                /usr/local/lib/python3.10/dist-packages pip\n",
            "llmx                             0.0.15a0              /usr/local/lib/python3.10/dist-packages pip\n",
            "llvmlite                         0.39.1                /usr/local/lib/python3.10/dist-packages pip\n",
            "locket                           1.0.0                 /usr/local/lib/python3.10/dist-packages pip\n",
            "logical-unification              0.4.6                 /usr/local/lib/python3.10/dist-packages pip\n",
            "lxml                             4.9.3                 /usr/local/lib/python3.10/dist-packages pip\n",
            "malloy                           2023.1056             /usr/local/lib/python3.10/dist-packages pip\n",
            "Markdown                         3.5                   /usr/local/lib/python3.10/dist-packages pip\n",
            "markdown-it-py                   3.0.0                 /usr/local/lib/python3.10/dist-packages pip\n",
            "MarkupSafe                       2.1.3                 /usr/local/lib/python3.10/dist-packages pip\n",
            "matplotlib                       3.7.1                 /usr/local/lib/python3.10/dist-packages pip\n",
            "matplotlib-inline                0.1.6                 /usr/local/lib/python3.10/dist-packages pip\n",
            "matplotlib-venn                  0.11.9                /usr/local/lib/python3.10/dist-packages pip\n",
            "mdit-py-plugins                  0.4.0                 /usr/local/lib/python3.10/dist-packages pip\n",
            "mdurl                            0.1.2                 /usr/local/lib/python3.10/dist-packages pip\n",
            "miniKanren                       1.0.3                 /usr/local/lib/python3.10/dist-packages pip\n",
            "missingno                        0.5.2                 /usr/local/lib/python3.10/dist-packages pip\n",
            "mistune                          0.8.4                 /usr/local/lib/python3.10/dist-packages pip\n",
            "mizani                           0.9.3                 /usr/local/lib/python3.10/dist-packages pip\n",
            "mkl                              2023.2.0              /usr/local/lib/python3.10/dist-packages pip\n",
            "ml-dtypes                        0.3.1                 /usr/local/lib/python3.10/dist-packages pip\n",
            "mlxtend                          0.22.0                /usr/local/lib/python3.10/dist-packages pip\n",
            "more-itertools                   10.1.0                /usr/local/lib/python3.10/dist-packages pip\n",
            "moviepy                          1.0.3                 /usr/local/lib/python3.10/dist-packages pip\n",
            "mpmath                           1.3.0                 /usr/local/lib/python3.10/dist-packages pip\n",
            "msgpack                          1.0.7                 /usr/local/lib/python3.10/dist-packages pip\n",
            "multidict                        6.0.4                 /usr/local/lib/python3.10/dist-packages pip\n",
            "multipledispatch                 1.0.0                 /usr/local/lib/python3.10/dist-packages pip\n",
            "multitasking                     0.0.11                /usr/local/lib/python3.10/dist-packages pip\n",
            "murmurhash                       1.0.10                /usr/local/lib/python3.10/dist-packages pip\n",
            "music21                          9.1.0                 /usr/local/lib/python3.10/dist-packages pip\n",
            "natsort                          8.4.0                 /usr/local/lib/python3.10/dist-packages pip\n",
            "nbclassic                        1.0.0                 /usr/local/lib/python3.10/dist-packages pip\n",
            "nbclient                         0.8.0                 /usr/local/lib/python3.10/dist-packages pip\n",
            "nbconvert                        6.5.4                 /usr/local/lib/python3.10/dist-packages pip\n",
            "nbformat                         5.9.2                 /usr/local/lib/python3.10/dist-packages pip\n",
            "nest-asyncio                     1.5.8                 /usr/local/lib/python3.10/dist-packages pip\n",
            "networkx                         3.1                   /usr/local/lib/python3.10/dist-packages pip\n",
            "nibabel                          4.0.2                 /usr/local/lib/python3.10/dist-packages pip\n",
            "nltk                             3.8.1                 /usr/local/lib/python3.10/dist-packages pip\n",
            "notebook                         6.5.5                 /usr/local/lib/python3.10/dist-packages pip\n",
            "notebook_shim                    0.2.3                 /usr/local/lib/python3.10/dist-packages pip\n",
            "numba                            0.56.4                /usr/local/lib/python3.10/dist-packages pip\n",
            "numexpr                          2.8.7                 /usr/local/lib/python3.10/dist-packages pip\n",
            "numpy                            1.23.5                /usr/local/lib/python3.10/dist-packages pip\n",
            "oauth2client                     4.1.3                 /usr/local/lib/python3.10/dist-packages pip\n",
            "oauthlib                         3.2.2                 /usr/local/lib/python3.10/dist-packages pip\n",
            "opencv-contrib-python            4.8.0.76              /usr/local/lib/python3.10/dist-packages pip\n",
            "opencv-python                    4.8.0.76              /usr/local/lib/python3.10/dist-packages pip\n",
            "opencv-python-headless           4.8.1.78              /usr/local/lib/python3.10/dist-packages pip\n",
            "openpyxl                         3.1.2                 /usr/local/lib/python3.10/dist-packages pip\n",
            "opt-einsum                       3.3.0                 /usr/local/lib/python3.10/dist-packages pip\n",
            "optax                            0.1.7                 /usr/local/lib/python3.10/dist-packages pip\n",
            "orbax-checkpoint                 0.4.1                 /usr/local/lib/python3.10/dist-packages pip\n",
            "osqp                             0.6.2.post8           /usr/local/lib/python3.10/dist-packages pip\n",
            "packaging                        23.2                  /usr/local/lib/python3.10/dist-packages pip\n",
            "pandas                           1.5.3                 /usr/local/lib/python3.10/dist-packages pip\n",
            "pandas-datareader                0.10.0                /usr/local/lib/python3.10/dist-packages pip\n",
            "pandas-gbq                       0.17.9                /usr/local/lib/python3.10/dist-packages pip\n",
            "pandas-stubs                     1.5.3.230304          /usr/local/lib/python3.10/dist-packages pip\n",
            "pandocfilters                    1.5.0                 /usr/local/lib/python3.10/dist-packages pip\n",
            "panel                            1.2.3                 /usr/local/lib/python3.10/dist-packages pip\n",
            "param                            1.13.0                /usr/local/lib/python3.10/dist-packages pip\n",
            "parso                            0.8.3                 /usr/local/lib/python3.10/dist-packages pip\n",
            "partd                            1.4.1                 /usr/local/lib/python3.10/dist-packages pip\n",
            "pathlib                          1.0.1                 /usr/local/lib/python3.10/dist-packages pip\n",
            "pathy                            0.10.2                /usr/local/lib/python3.10/dist-packages pip\n",
            "patsy                            0.5.3                 /usr/local/lib/python3.10/dist-packages pip\n",
            "peewee                           3.16.3                /usr/local/lib/python3.10/dist-packages pip\n",
            "pexpect                          4.8.0                 /usr/local/lib/python3.10/dist-packages pip\n",
            "pickleshare                      0.7.5                 /usr/local/lib/python3.10/dist-packages pip\n",
            "Pillow                           9.4.0                 /usr/local/lib/python3.10/dist-packages pip\n",
            "pip                              23.1.2                /usr/local/lib/python3.10/dist-packages pip\n",
            "pip-tools                        6.13.0                /usr/local/lib/python3.10/dist-packages pip\n",
            "platformdirs                     3.11.0                /usr/local/lib/python3.10/dist-packages pip\n",
            "plotly                           5.15.0                /usr/local/lib/python3.10/dist-packages pip\n",
            "plotnine                         0.12.3                /usr/local/lib/python3.10/dist-packages pip\n",
            "pluggy                           1.3.0                 /usr/local/lib/python3.10/dist-packages pip\n",
            "polars                           0.17.3                /usr/local/lib/python3.10/dist-packages pip\n",
            "pooch                            1.7.0                 /usr/local/lib/python3.10/dist-packages pip\n",
            "portpicker                       1.5.2                 /usr/local/lib/python3.10/dist-packages pip\n",
            "prefetch-generator               1.0.3                 /usr/local/lib/python3.10/dist-packages pip\n",
            "preshed                          3.0.9                 /usr/local/lib/python3.10/dist-packages pip\n",
            "prettytable                      3.9.0                 /usr/local/lib/python3.10/dist-packages pip\n",
            "proglog                          0.1.10                /usr/local/lib/python3.10/dist-packages pip\n",
            "progressbar2                     4.2.0                 /usr/local/lib/python3.10/dist-packages pip\n",
            "prometheus-client                0.17.1                /usr/local/lib/python3.10/dist-packages pip\n",
            "promise                          2.3                   /usr/local/lib/python3.10/dist-packages pip\n",
            "prompt-toolkit                   3.0.39                /usr/local/lib/python3.10/dist-packages pip\n",
            "prophet                          1.1.5                 /usr/local/lib/python3.10/dist-packages pip\n",
            "proto-plus                       1.22.3                /usr/local/lib/python3.10/dist-packages pip\n",
            "protobuf                         3.20.3                /usr/local/lib/python3.10/dist-packages pip\n",
            "psutil                           5.9.5                 /usr/local/lib/python3.10/dist-packages pip\n",
            "psycopg2                         2.9.9                 /usr/local/lib/python3.10/dist-packages pip\n",
            "ptyprocess                       0.7.0                 /usr/local/lib/python3.10/dist-packages pip\n",
            "py-cpuinfo                       9.0.0                 /usr/local/lib/python3.10/dist-packages pip\n",
            "py4j                             0.10.9.7              /usr/local/lib/python3.10/dist-packages pip\n",
            "pyarrow                          9.0.0                 /usr/local/lib/python3.10/dist-packages pip\n",
            "pyasn1                           0.5.0                 /usr/local/lib/python3.10/dist-packages pip\n",
            "pyasn1-modules                   0.3.0                 /usr/local/lib/python3.10/dist-packages pip\n",
            "pycocotools                      2.0.7                 /usr/local/lib/python3.10/dist-packages pip\n",
            "pycparser                        2.21                  /usr/local/lib/python3.10/dist-packages pip\n",
            "pyct                             0.5.0                 /usr/local/lib/python3.10/dist-packages pip\n",
            "pydantic                         1.10.13               /usr/local/lib/python3.10/dist-packages pip\n",
            "pydata-google-auth               1.8.2                 /usr/local/lib/python3.10/dist-packages pip\n",
            "pydot                            1.4.2                 /usr/local/lib/python3.10/dist-packages pip\n",
            "pydot-ng                         2.0.0                 /usr/local/lib/python3.10/dist-packages pip\n",
            "pydotplus                        2.0.2                 /usr/local/lib/python3.10/dist-packages pip\n",
            "PyDrive                          1.3.1                 /usr/local/lib/python3.10/dist-packages pip\n",
            "PyDrive2                         1.6.3                 /usr/local/lib/python3.10/dist-packages pip\n",
            "pyerfa                           2.0.0.3               /usr/local/lib/python3.10/dist-packages pip\n",
            "pygame                           2.5.2                 /usr/local/lib/python3.10/dist-packages pip\n",
            "Pygments                         2.16.1                /usr/local/lib/python3.10/dist-packages pip\n",
            "PyGObject                        3.42.1                /usr/lib/python3/dist-packages\n",
            "PyJWT                            2.3.0                 /usr/lib/python3/dist-packages\n",
            "pymc                             5.7.2                 /usr/local/lib/python3.10/dist-packages pip\n",
            "pymystem3                        0.2.0                 /usr/local/lib/python3.10/dist-packages pip\n",
            "PyOpenGL                         3.1.7                 /usr/local/lib/python3.10/dist-packages pip\n",
            "pyOpenSSL                        23.2.0                /usr/local/lib/python3.10/dist-packages pip\n",
            "pyparsing                        3.1.1                 /usr/local/lib/python3.10/dist-packages pip\n",
            "pyperclip                        1.8.2                 /usr/local/lib/python3.10/dist-packages pip\n",
            "pyproj                           3.6.1                 /usr/local/lib/python3.10/dist-packages pip\n",
            "pyproject_hooks                  1.0.0                 /usr/local/lib/python3.10/dist-packages pip\n",
            "pyshp                            2.3.1                 /usr/local/lib/python3.10/dist-packages pip\n",
            "PySocks                          1.7.1                 /usr/local/lib/python3.10/dist-packages pip\n",
            "pytensor                         2.14.2                /usr/local/lib/python3.10/dist-packages pip\n",
            "pytest                           7.4.2                 /usr/local/lib/python3.10/dist-packages pip\n",
            "python-apt                       0.0.0                 /usr/local/lib/python3.10/dist-packages\n",
            "python-box                       7.1.1                 /usr/local/lib/python3.10/dist-packages pip\n",
            "python-dateutil                  2.8.2                 /usr/local/lib/python3.10/dist-packages pip\n",
            "python-louvain                   0.16                  /usr/local/lib/python3.10/dist-packages pip\n",
            "python-slugify                   8.0.1                 /usr/local/lib/python3.10/dist-packages pip\n",
            "python-utils                     3.8.1                 /usr/local/lib/python3.10/dist-packages pip\n",
            "pytz                             2023.3.post1          /usr/local/lib/python3.10/dist-packages pip\n",
            "pyviz_comms                      3.0.0                 /usr/local/lib/python3.10/dist-packages pip\n",
            "PyWavelets                       1.4.1                 /usr/local/lib/python3.10/dist-packages pip\n",
            "PyYAML                           6.0.1                 /usr/local/lib/python3.10/dist-packages pip\n",
            "pyzmq                            23.2.1                /usr/local/lib/python3.10/dist-packages pip\n",
            "qdldl                            0.1.7.post0           /usr/local/lib/python3.10/dist-packages pip\n",
            "qudida                           0.0.4                 /usr/local/lib/python3.10/dist-packages pip\n",
            "ratelim                          0.1.6                 /usr/local/lib/python3.10/dist-packages pip\n",
            "referencing                      0.30.2                /usr/local/lib/python3.10/dist-packages pip\n",
            "regex                            2023.6.3              /usr/local/lib/python3.10/dist-packages pip\n",
            "requests                         2.31.0                /usr/local/lib/python3.10/dist-packages pip\n",
            "requests-oauthlib                1.3.1                 /usr/local/lib/python3.10/dist-packages pip\n",
            "requirements-parser              0.5.0                 /usr/local/lib/python3.10/dist-packages pip\n",
            "rich                             13.6.0                /usr/local/lib/python3.10/dist-packages pip\n",
            "rpds-py                          0.10.4                /usr/local/lib/python3.10/dist-packages pip\n",
            "rpy2                             3.4.2                 /usr/local/lib/python3.10/dist-packages pip\n",
            "rsa                              4.9                   /usr/local/lib/python3.10/dist-packages pip\n",
            "scikit-image                     0.19.3                /usr/local/lib/python3.10/dist-packages pip\n",
            "scikit-learn                     1.2.2                 /usr/local/lib/python3.10/dist-packages pip\n",
            "scipy                            1.11.3                /usr/local/lib/python3.10/dist-packages pip\n",
            "scooby                           0.7.4                 /usr/local/lib/python3.10/dist-packages pip\n",
            "scs                              3.2.3                 /usr/local/lib/python3.10/dist-packages pip\n",
            "seaborn                          0.12.2                /usr/local/lib/python3.10/dist-packages pip\n",
            "SecretStorage                    3.3.1                 /usr/lib/python3/dist-packages\n",
            "Send2Trash                       1.8.2                 /usr/local/lib/python3.10/dist-packages pip\n",
            "setuptools                       67.7.2                /usr/local/lib/python3.10/dist-packages pip\n",
            "shapely                          2.0.1                 /usr/local/lib/python3.10/dist-packages pip\n",
            "six                              1.16.0                /usr/local/lib/python3.10/dist-packages pip\n",
            "sklearn-pandas                   2.2.0                 /usr/local/lib/python3.10/dist-packages pip\n",
            "smart-open                       6.4.0                 /usr/local/lib/python3.10/dist-packages pip\n",
            "sniffio                          1.3.0                 /usr/local/lib/python3.10/dist-packages pip\n",
            "snowballstemmer                  2.2.0                 /usr/local/lib/python3.10/dist-packages pip\n",
            "sortedcontainers                 2.4.0                 /usr/local/lib/python3.10/dist-packages pip\n",
            "soundfile                        0.12.1                /usr/local/lib/python3.10/dist-packages pip\n",
            "soupsieve                        2.5                   /usr/local/lib/python3.10/dist-packages pip\n",
            "soxr                             0.3.7                 /usr/local/lib/python3.10/dist-packages pip\n",
            "spacy                            3.6.1                 /usr/local/lib/python3.10/dist-packages pip\n",
            "spacy-legacy                     3.0.12                /usr/local/lib/python3.10/dist-packages pip\n",
            "spacy-loggers                    1.0.5                 /usr/local/lib/python3.10/dist-packages pip\n",
            "Sphinx                           5.0.2                 /usr/local/lib/python3.10/dist-packages pip\n",
            "sphinxcontrib-applehelp          1.0.7                 /usr/local/lib/python3.10/dist-packages pip\n",
            "sphinxcontrib-devhelp            1.0.5                 /usr/local/lib/python3.10/dist-packages pip\n",
            "sphinxcontrib-htmlhelp           2.0.4                 /usr/local/lib/python3.10/dist-packages pip\n",
            "sphinxcontrib-jsmath             1.0.1                 /usr/local/lib/python3.10/dist-packages pip\n",
            "sphinxcontrib-qthelp             1.0.6                 /usr/local/lib/python3.10/dist-packages pip\n",
            "sphinxcontrib-serializinghtml    1.1.9                 /usr/local/lib/python3.10/dist-packages pip\n",
            "SQLAlchemy                       2.0.21                /usr/local/lib/python3.10/dist-packages pip\n",
            "sqlparse                         0.4.4                 /usr/local/lib/python3.10/dist-packages pip\n",
            "srsly                            2.4.8                 /usr/local/lib/python3.10/dist-packages pip\n",
            "stanio                           0.3.0                 /usr/local/lib/python3.10/dist-packages pip\n",
            "statsmodels                      0.14.0                /usr/local/lib/python3.10/dist-packages pip\n",
            "sympy                            1.12                  /usr/local/lib/python3.10/dist-packages pip\n",
            "tables                           3.8.0                 /usr/local/lib/python3.10/dist-packages pip\n",
            "tabulate                         0.9.0                 /usr/local/lib/python3.10/dist-packages pip\n",
            "tbb                              2021.10.0             /usr/local/lib/python3.10/dist-packages pip\n",
            "tblib                            2.0.0                 /usr/local/lib/python3.10/dist-packages pip\n",
            "tenacity                         8.2.3                 /usr/local/lib/python3.10/dist-packages pip\n",
            "tensorboard                      2.13.0                /usr/local/lib/python3.10/dist-packages pip\n",
            "tensorboard-data-server          0.7.1                 /usr/local/lib/python3.10/dist-packages pip\n",
            "tensorflow                       2.13.0                /usr/local/lib/python3.10/dist-packages pip\n",
            "tensorflow-datasets              4.9.3                 /usr/local/lib/python3.10/dist-packages pip\n",
            "tensorflow-estimator             2.13.0                /usr/local/lib/python3.10/dist-packages pip\n",
            "tensorflow-gcs-config            2.13.0                /usr/local/lib/python3.10/dist-packages pip\n",
            "tensorflow-hub                   0.15.0                /usr/local/lib/python3.10/dist-packages pip\n",
            "tensorflow-io-gcs-filesystem     0.34.0                /usr/local/lib/python3.10/dist-packages pip\n",
            "tensorflow-metadata              1.14.0                /usr/local/lib/python3.10/dist-packages pip\n",
            "tensorflow-probability           0.20.1                /usr/local/lib/python3.10/dist-packages pip\n",
            "tensorstore                      0.1.45                /usr/local/lib/python3.10/dist-packages pip\n",
            "termcolor                        2.3.0                 /usr/local/lib/python3.10/dist-packages pip\n",
            "terminado                        0.17.1                /usr/local/lib/python3.10/dist-packages pip\n",
            "text-unidecode                   1.3                   /usr/local/lib/python3.10/dist-packages pip\n",
            "textblob                         0.17.1                /usr/local/lib/python3.10/dist-packages pip\n",
            "tf-slim                          1.1.0                 /usr/local/lib/python3.10/dist-packages pip\n",
            "thinc                            8.1.12                /usr/local/lib/python3.10/dist-packages pip\n",
            "threadpoolctl                    3.2.0                 /usr/local/lib/python3.10/dist-packages pip\n",
            "tifffile                         2023.9.26             /usr/local/lib/python3.10/dist-packages pip\n",
            "tinycss2                         1.2.1                 /usr/local/lib/python3.10/dist-packages pip\n",
            "toml                             0.10.2                /usr/local/lib/python3.10/dist-packages pip\n",
            "tomli                            2.0.1                 /usr/local/lib/python3.10/dist-packages pip\n",
            "toolz                            0.12.0                /usr/local/lib/python3.10/dist-packages pip\n",
            "torch                            2.0.1+cu118           /usr/local/lib/python3.10/dist-packages pip\n",
            "torchaudio                       2.0.2+cu118           /usr/local/lib/python3.10/dist-packages pip\n",
            "torchdata                        0.6.1                 /usr/local/lib/python3.10/dist-packages pip\n",
            "torchsummary                     1.5.1                 /usr/local/lib/python3.10/dist-packages pip\n",
            "torchtext                        0.15.2                /usr/local/lib/python3.10/dist-packages pip\n",
            "torchvision                      0.15.2+cu118          /usr/local/lib/python3.10/dist-packages pip\n",
            "tornado                          6.3.2                 /usr/local/lib/python3.10/dist-packages pip\n",
            "tqdm                             4.66.1                /usr/local/lib/python3.10/dist-packages pip\n",
            "traitlets                        5.7.1                 /usr/local/lib/python3.10/dist-packages pip\n",
            "traittypes                       0.2.1                 /usr/local/lib/python3.10/dist-packages pip\n",
            "triton                           2.0.0                 /usr/local/lib/python3.10/dist-packages pip\n",
            "tweepy                           4.13.0                /usr/local/lib/python3.10/dist-packages pip\n",
            "typer                            0.9.0                 /usr/local/lib/python3.10/dist-packages pip\n",
            "types-pytz                       2023.3.1.1            /usr/local/lib/python3.10/dist-packages pip\n",
            "types-setuptools                 68.2.0.0              /usr/local/lib/python3.10/dist-packages pip\n",
            "typing_extensions                4.5.0                 /usr/local/lib/python3.10/dist-packages pip\n",
            "tzlocal                          5.1                   /usr/local/lib/python3.10/dist-packages pip\n",
            "uc-micro-py                      1.0.2                 /usr/local/lib/python3.10/dist-packages pip\n",
            "uritemplate                      4.1.1                 /usr/local/lib/python3.10/dist-packages pip\n",
            "urllib3                          2.0.6                 /usr/local/lib/python3.10/dist-packages pip\n",
            "vega-datasets                    0.9.0                 /usr/local/lib/python3.10/dist-packages pip\n",
            "wadllib                          1.3.6                 /usr/lib/python3/dist-packages\n",
            "wasabi                           1.1.2                 /usr/local/lib/python3.10/dist-packages pip\n",
            "wcwidth                          0.2.8                 /usr/local/lib/python3.10/dist-packages pip\n",
            "webcolors                        1.13                  /usr/local/lib/python3.10/dist-packages pip\n",
            "webencodings                     0.5.1                 /usr/local/lib/python3.10/dist-packages pip\n",
            "websocket-client                 1.6.4                 /usr/local/lib/python3.10/dist-packages pip\n",
            "Werkzeug                         3.0.0                 /usr/local/lib/python3.10/dist-packages pip\n",
            "wheel                            0.41.2                /usr/local/lib/python3.10/dist-packages pip\n",
            "widgetsnbextension               3.6.6                 /usr/local/lib/python3.10/dist-packages pip\n",
            "wordcloud                        1.9.2                 /usr/local/lib/python3.10/dist-packages pip\n",
            "wrapt                            1.15.0                /usr/local/lib/python3.10/dist-packages pip\n",
            "xarray                           2023.7.0              /usr/local/lib/python3.10/dist-packages pip\n",
            "xarray-einstats                  0.6.0                 /usr/local/lib/python3.10/dist-packages pip\n",
            "xgboost                          2.0.0                 /usr/local/lib/python3.10/dist-packages pip\n",
            "xlrd                             2.0.1                 /usr/local/lib/python3.10/dist-packages pip\n",
            "xyzservices                      2023.10.0             /usr/local/lib/python3.10/dist-packages pip\n",
            "yarl                             1.9.2                 /usr/local/lib/python3.10/dist-packages pip\n",
            "yellowbrick                      1.5                   /usr/local/lib/python3.10/dist-packages pip\n",
            "yfinance                         0.2.31                /usr/local/lib/python3.10/dist-packages pip\n",
            "zict                             3.0.0                 /usr/local/lib/python3.10/dist-packages pip\n",
            "zipp                             3.17.0                /usr/local/lib/python3.10/dist-packages pip\n"
          ]
        }
      ],
      "source": [
        "!pip list -v"
      ]
    },
    {
      "cell_type": "code",
      "execution_count": null,
      "metadata": {
        "id": "JIyQsBxD13ZX",
        "colab": {
          "base_uri": "https://localhost:8080/"
        },
        "outputId": "93984381-e501-4739-94b1-b9441d303fa3"
      },
      "outputs": [
        {
          "output_type": "stream",
          "name": "stdout",
          "text": [
            "Requirement already satisfied: numpy in /usr/local/lib/python3.10/dist-packages (1.23.5)\n"
          ]
        }
      ],
      "source": [
        "!pip install numpy"
      ]
    },
    {
      "cell_type": "code",
      "source": [
        "!pip list -v"
      ],
      "metadata": {
        "colab": {
          "base_uri": "https://localhost:8080/"
        },
        "id": "Qwra4UdwFl9f",
        "outputId": "ac77e49d-9fdb-4718-cdfe-233181592447"
      },
      "execution_count": null,
      "outputs": [
        {
          "output_type": "stream",
          "name": "stdout",
          "text": [
            "Package                          Version               Location                                Installer\n",
            "-------------------------------- --------------------- --------------------------------------- ---------\n",
            "absl-py                          1.4.0                 /usr/local/lib/python3.10/dist-packages pip\n",
            "aiohttp                          3.8.6                 /usr/local/lib/python3.10/dist-packages pip\n",
            "aiosignal                        1.3.1                 /usr/local/lib/python3.10/dist-packages pip\n",
            "alabaster                        0.7.13                /usr/local/lib/python3.10/dist-packages pip\n",
            "albumentations                   1.3.1                 /usr/local/lib/python3.10/dist-packages pip\n",
            "altair                           4.2.2                 /usr/local/lib/python3.10/dist-packages pip\n",
            "anyio                            3.7.1                 /usr/local/lib/python3.10/dist-packages pip\n",
            "appdirs                          1.4.4                 /usr/local/lib/python3.10/dist-packages pip\n",
            "argon2-cffi                      23.1.0                /usr/local/lib/python3.10/dist-packages pip\n",
            "argon2-cffi-bindings             21.2.0                /usr/local/lib/python3.10/dist-packages pip\n",
            "array-record                     0.4.1                 /usr/local/lib/python3.10/dist-packages pip\n",
            "arviz                            0.15.1                /usr/local/lib/python3.10/dist-packages pip\n",
            "astropy                          5.3.4                 /usr/local/lib/python3.10/dist-packages pip\n",
            "astunparse                       1.6.3                 /usr/local/lib/python3.10/dist-packages pip\n",
            "async-timeout                    4.0.3                 /usr/local/lib/python3.10/dist-packages pip\n",
            "attrs                            23.1.0                /usr/local/lib/python3.10/dist-packages pip\n",
            "audioread                        3.0.1                 /usr/local/lib/python3.10/dist-packages pip\n",
            "autograd                         1.6.2                 /usr/local/lib/python3.10/dist-packages pip\n",
            "Babel                            2.13.0                /usr/local/lib/python3.10/dist-packages pip\n",
            "backcall                         0.2.0                 /usr/local/lib/python3.10/dist-packages pip\n",
            "beautifulsoup4                   4.11.2                /usr/local/lib/python3.10/dist-packages pip\n",
            "bleach                           6.1.0                 /usr/local/lib/python3.10/dist-packages pip\n",
            "blinker                          1.4                   /usr/lib/python3/dist-packages\n",
            "blis                             0.7.11                /usr/local/lib/python3.10/dist-packages pip\n",
            "blosc2                           2.0.0                 /usr/local/lib/python3.10/dist-packages pip\n",
            "bokeh                            3.2.2                 /usr/local/lib/python3.10/dist-packages pip\n",
            "bqplot                           0.12.40               /usr/local/lib/python3.10/dist-packages pip\n",
            "branca                           0.6.0                 /usr/local/lib/python3.10/dist-packages pip\n",
            "build                            1.0.3                 /usr/local/lib/python3.10/dist-packages pip\n",
            "CacheControl                     0.13.1                /usr/local/lib/python3.10/dist-packages pip\n",
            "cachetools                       5.3.1                 /usr/local/lib/python3.10/dist-packages pip\n",
            "catalogue                        2.0.10                /usr/local/lib/python3.10/dist-packages pip\n",
            "certifi                          2023.7.22             /usr/local/lib/python3.10/dist-packages pip\n",
            "cffi                             1.16.0                /usr/local/lib/python3.10/dist-packages pip\n",
            "chardet                          5.2.0                 /usr/local/lib/python3.10/dist-packages pip\n",
            "charset-normalizer               3.3.0                 /usr/local/lib/python3.10/dist-packages pip\n",
            "chex                             0.1.7                 /usr/local/lib/python3.10/dist-packages pip\n",
            "click                            8.1.7                 /usr/local/lib/python3.10/dist-packages pip\n",
            "click-plugins                    1.1.1                 /usr/local/lib/python3.10/dist-packages pip\n",
            "cligj                            0.7.2                 /usr/local/lib/python3.10/dist-packages pip\n",
            "cloudpickle                      2.2.1                 /usr/local/lib/python3.10/dist-packages pip\n",
            "cmake                            3.27.6                /usr/local/lib/python3.10/dist-packages pip\n",
            "cmdstanpy                        1.2.0                 /usr/local/lib/python3.10/dist-packages pip\n",
            "colorcet                         3.0.1                 /usr/local/lib/python3.10/dist-packages pip\n",
            "colorlover                       0.3.0                 /usr/local/lib/python3.10/dist-packages pip\n",
            "colour                           0.1.5                 /usr/local/lib/python3.10/dist-packages pip\n",
            "community                        1.0.0b1               /usr/local/lib/python3.10/dist-packages pip\n",
            "confection                       0.1.3                 /usr/local/lib/python3.10/dist-packages pip\n",
            "cons                             0.4.6                 /usr/local/lib/python3.10/dist-packages pip\n",
            "contextlib2                      21.6.0                /usr/local/lib/python3.10/dist-packages pip\n",
            "contourpy                        1.1.1                 /usr/local/lib/python3.10/dist-packages pip\n",
            "cryptography                     41.0.4                /usr/local/lib/python3.10/dist-packages pip\n",
            "cufflinks                        0.17.3                /usr/local/lib/python3.10/dist-packages pip\n",
            "cupy-cuda11x                     11.0.0                /usr/local/lib/python3.10/dist-packages pip\n",
            "cvxopt                           1.3.2                 /usr/local/lib/python3.10/dist-packages pip\n",
            "cvxpy                            1.3.2                 /usr/local/lib/python3.10/dist-packages pip\n",
            "cycler                           0.12.1                /usr/local/lib/python3.10/dist-packages pip\n",
            "cymem                            2.0.8                 /usr/local/lib/python3.10/dist-packages pip\n",
            "Cython                           3.0.3                 /usr/local/lib/python3.10/dist-packages pip\n",
            "dask                             2023.8.1              /usr/local/lib/python3.10/dist-packages pip\n",
            "datascience                      0.17.6                /usr/local/lib/python3.10/dist-packages pip\n",
            "db-dtypes                        1.1.1                 /usr/local/lib/python3.10/dist-packages pip\n",
            "dbus-python                      1.2.18                /usr/lib/python3/dist-packages\n",
            "debugpy                          1.6.6                 /usr/local/lib/python3.10/dist-packages pip\n",
            "decorator                        4.4.2                 /usr/local/lib/python3.10/dist-packages pip\n",
            "defusedxml                       0.7.1                 /usr/local/lib/python3.10/dist-packages pip\n",
            "diskcache                        5.6.3                 /usr/local/lib/python3.10/dist-packages pip\n",
            "distributed                      2023.8.1              /usr/local/lib/python3.10/dist-packages pip\n",
            "distro                           1.7.0                 /usr/lib/python3/dist-packages\n",
            "dlib                             19.24.2               /usr/local/lib/python3.10/dist-packages pip\n",
            "dm-tree                          0.1.8                 /usr/local/lib/python3.10/dist-packages pip\n",
            "docutils                         0.18.1                /usr/local/lib/python3.10/dist-packages pip\n",
            "dopamine-rl                      4.0.6                 /usr/local/lib/python3.10/dist-packages pip\n",
            "duckdb                           0.8.1                 /usr/local/lib/python3.10/dist-packages pip\n",
            "earthengine-api                  0.1.374               /usr/local/lib/python3.10/dist-packages pip\n",
            "easydict                         1.10                  /usr/local/lib/python3.10/dist-packages pip\n",
            "ecos                             2.0.12                /usr/local/lib/python3.10/dist-packages pip\n",
            "editdistance                     0.6.2                 /usr/local/lib/python3.10/dist-packages pip\n",
            "eerepr                           0.0.4                 /usr/local/lib/python3.10/dist-packages pip\n",
            "en-core-web-sm                   3.6.0                 /usr/local/lib/python3.10/dist-packages pip\n",
            "entrypoints                      0.4                   /usr/local/lib/python3.10/dist-packages pip\n",
            "et-xmlfile                       1.1.0                 /usr/local/lib/python3.10/dist-packages pip\n",
            "etils                            1.5.0                 /usr/local/lib/python3.10/dist-packages pip\n",
            "etuples                          0.3.9                 /usr/local/lib/python3.10/dist-packages pip\n",
            "exceptiongroup                   1.1.3                 /usr/local/lib/python3.10/dist-packages pip\n",
            "fastai                           2.7.12                /usr/local/lib/python3.10/dist-packages pip\n",
            "fastcore                         1.5.29                /usr/local/lib/python3.10/dist-packages pip\n",
            "fastdownload                     0.0.7                 /usr/local/lib/python3.10/dist-packages pip\n",
            "fastjsonschema                   2.18.1                /usr/local/lib/python3.10/dist-packages pip\n",
            "fastprogress                     1.0.3                 /usr/local/lib/python3.10/dist-packages pip\n",
            "fastrlock                        0.8.2                 /usr/local/lib/python3.10/dist-packages pip\n",
            "filelock                         3.12.4                /usr/local/lib/python3.10/dist-packages pip\n",
            "Fiona                            1.9.4.post1           /usr/local/lib/python3.10/dist-packages pip\n",
            "firebase-admin                   5.3.0                 /usr/local/lib/python3.10/dist-packages pip\n",
            "Flask                            2.2.5                 /usr/local/lib/python3.10/dist-packages pip\n",
            "flatbuffers                      23.5.26               /usr/local/lib/python3.10/dist-packages pip\n",
            "flax                             0.7.4                 /usr/local/lib/python3.10/dist-packages pip\n",
            "folium                           0.14.0                /usr/local/lib/python3.10/dist-packages pip\n",
            "fonttools                        4.43.1                /usr/local/lib/python3.10/dist-packages pip\n",
            "frozendict                       2.3.8                 /usr/local/lib/python3.10/dist-packages pip\n",
            "frozenlist                       1.4.0                 /usr/local/lib/python3.10/dist-packages pip\n",
            "fsspec                           2023.6.0              /usr/local/lib/python3.10/dist-packages pip\n",
            "future                           0.18.3                /usr/local/lib/python3.10/dist-packages pip\n",
            "gast                             0.4.0                 /usr/local/lib/python3.10/dist-packages pip\n",
            "gcsfs                            2023.6.0              /usr/local/lib/python3.10/dist-packages pip\n",
            "GDAL                             3.4.3                 /usr/local/lib/python3.10/dist-packages pip\n",
            "gdown                            4.6.6                 /usr/local/lib/python3.10/dist-packages pip\n",
            "geemap                           0.28.2                /usr/local/lib/python3.10/dist-packages pip\n",
            "gensim                           4.3.2                 /usr/local/lib/python3.10/dist-packages pip\n",
            "geocoder                         1.38.1                /usr/local/lib/python3.10/dist-packages pip\n",
            "geographiclib                    2.0                   /usr/local/lib/python3.10/dist-packages pip\n",
            "geopandas                        0.13.2                /usr/local/lib/python3.10/dist-packages pip\n",
            "geopy                            2.3.0                 /usr/local/lib/python3.10/dist-packages pip\n",
            "gin-config                       0.5.0                 /usr/local/lib/python3.10/dist-packages pip\n",
            "glob2                            0.7                   /usr/local/lib/python3.10/dist-packages pip\n",
            "google                           2.0.3                 /usr/local/lib/python3.10/dist-packages pip\n",
            "google-api-core                  2.11.1                /usr/local/lib/python3.10/dist-packages pip\n",
            "google-api-python-client         2.84.0                /usr/local/lib/python3.10/dist-packages pip\n",
            "google-auth                      2.17.3                /usr/local/lib/python3.10/dist-packages pip\n",
            "google-auth-httplib2             0.1.1                 /usr/local/lib/python3.10/dist-packages pip\n",
            "google-auth-oauthlib             1.0.0                 /usr/local/lib/python3.10/dist-packages pip\n",
            "google-cloud-bigquery            3.10.0                /usr/local/lib/python3.10/dist-packages pip\n",
            "google-cloud-bigquery-connection 1.12.1                /usr/local/lib/python3.10/dist-packages pip\n",
            "google-cloud-bigquery-storage    2.22.0                /usr/local/lib/python3.10/dist-packages pip\n",
            "google-cloud-core                2.3.3                 /usr/local/lib/python3.10/dist-packages pip\n",
            "google-cloud-datastore           2.15.2                /usr/local/lib/python3.10/dist-packages pip\n",
            "google-cloud-firestore           2.11.1                /usr/local/lib/python3.10/dist-packages pip\n",
            "google-cloud-functions           1.13.3                /usr/local/lib/python3.10/dist-packages pip\n",
            "google-cloud-language            2.9.1                 /usr/local/lib/python3.10/dist-packages pip\n",
            "google-cloud-storage             2.8.0                 /usr/local/lib/python3.10/dist-packages pip\n",
            "google-cloud-translate           3.11.3                /usr/local/lib/python3.10/dist-packages pip\n",
            "google-colab                     1.0.0                 /usr/local/lib/python3.10/dist-packages pip\n",
            "google-crc32c                    1.5.0                 /usr/local/lib/python3.10/dist-packages pip\n",
            "google-pasta                     0.2.0                 /usr/local/lib/python3.10/dist-packages pip\n",
            "google-resumable-media           2.6.0                 /usr/local/lib/python3.10/dist-packages pip\n",
            "googleapis-common-protos         1.60.0                /usr/local/lib/python3.10/dist-packages pip\n",
            "googledrivedownloader            0.4                   /usr/local/lib/python3.10/dist-packages pip\n",
            "graphviz                         0.20.1                /usr/local/lib/python3.10/dist-packages pip\n",
            "greenlet                         3.0.0                 /usr/local/lib/python3.10/dist-packages pip\n",
            "grpc-google-iam-v1               0.12.6                /usr/local/lib/python3.10/dist-packages pip\n",
            "grpcio                           1.59.0                /usr/local/lib/python3.10/dist-packages pip\n",
            "grpcio-status                    1.48.2                /usr/local/lib/python3.10/dist-packages pip\n",
            "gspread                          3.4.2                 /usr/local/lib/python3.10/dist-packages pip\n",
            "gspread-dataframe                3.3.1                 /usr/local/lib/python3.10/dist-packages pip\n",
            "gym                              0.25.2                /usr/local/lib/python3.10/dist-packages pip\n",
            "gym-notices                      0.0.8                 /usr/local/lib/python3.10/dist-packages pip\n",
            "h5netcdf                         1.2.0                 /usr/local/lib/python3.10/dist-packages pip\n",
            "h5py                             3.9.0                 /usr/local/lib/python3.10/dist-packages pip\n",
            "holidays                         0.34                  /usr/local/lib/python3.10/dist-packages pip\n",
            "holoviews                        1.17.1                /usr/local/lib/python3.10/dist-packages pip\n",
            "html5lib                         1.1                   /usr/local/lib/python3.10/dist-packages pip\n",
            "httpimport                       1.3.1                 /usr/local/lib/python3.10/dist-packages pip\n",
            "httplib2                         0.22.0                /usr/local/lib/python3.10/dist-packages pip\n",
            "humanize                         4.7.0                 /usr/local/lib/python3.10/dist-packages pip\n",
            "hyperopt                         0.2.7                 /usr/local/lib/python3.10/dist-packages pip\n",
            "idna                             3.4                   /usr/local/lib/python3.10/dist-packages pip\n",
            "imageio                          2.31.5                /usr/local/lib/python3.10/dist-packages pip\n",
            "imageio-ffmpeg                   0.4.9                 /usr/local/lib/python3.10/dist-packages pip\n",
            "imagesize                        1.4.1                 /usr/local/lib/python3.10/dist-packages pip\n",
            "imbalanced-learn                 0.10.1                /usr/local/lib/python3.10/dist-packages pip\n",
            "imgaug                           0.4.0                 /usr/local/lib/python3.10/dist-packages pip\n",
            "importlib-metadata               6.8.0                 /usr/local/lib/python3.10/dist-packages pip\n",
            "importlib-resources              6.1.0                 /usr/local/lib/python3.10/dist-packages pip\n",
            "imutils                          0.5.4                 /usr/local/lib/python3.10/dist-packages pip\n",
            "inflect                          7.0.0                 /usr/local/lib/python3.10/dist-packages pip\n",
            "iniconfig                        2.0.0                 /usr/local/lib/python3.10/dist-packages pip\n",
            "install                          1.3.5                 /usr/local/lib/python3.10/dist-packages pip\n",
            "intel-openmp                     2023.2.0              /usr/local/lib/python3.10/dist-packages pip\n",
            "ipyevents                        2.0.2                 /usr/local/lib/python3.10/dist-packages pip\n",
            "ipyfilechooser                   0.6.0                 /usr/local/lib/python3.10/dist-packages pip\n",
            "ipykernel                        5.5.6                 /usr/local/lib/python3.10/dist-packages pip\n",
            "ipyleaflet                       0.17.4                /usr/local/lib/python3.10/dist-packages pip\n",
            "ipython                          7.34.0                /usr/local/lib/python3.10/dist-packages pip\n",
            "ipython-genutils                 0.2.0                 /usr/local/lib/python3.10/dist-packages pip\n",
            "ipython-sql                      0.5.0                 /usr/local/lib/python3.10/dist-packages pip\n",
            "ipytree                          0.2.2                 /usr/local/lib/python3.10/dist-packages pip\n",
            "ipywidgets                       7.7.1                 /usr/local/lib/python3.10/dist-packages pip\n",
            "itsdangerous                     2.1.2                 /usr/local/lib/python3.10/dist-packages pip\n",
            "jax                              0.4.16                /usr/local/lib/python3.10/dist-packages pip\n",
            "jaxlib                           0.4.16+cuda11.cudnn86 /usr/local/lib/python3.10/dist-packages pip\n",
            "jeepney                          0.7.1                 /usr/lib/python3/dist-packages          flit\n",
            "jieba                            0.42.1                /usr/local/lib/python3.10/dist-packages pip\n",
            "Jinja2                           3.1.2                 /usr/local/lib/python3.10/dist-packages pip\n",
            "joblib                           1.3.2                 /usr/local/lib/python3.10/dist-packages pip\n",
            "jsonpickle                       3.0.2                 /usr/local/lib/python3.10/dist-packages pip\n",
            "jsonschema                       4.19.1                /usr/local/lib/python3.10/dist-packages pip\n",
            "jsonschema-specifications        2023.7.1              /usr/local/lib/python3.10/dist-packages pip\n",
            "jupyter-client                   6.1.12                /usr/local/lib/python3.10/dist-packages pip\n",
            "jupyter-console                  6.1.0                 /usr/local/lib/python3.10/dist-packages pip\n",
            "jupyter_core                     5.4.0                 /usr/local/lib/python3.10/dist-packages pip\n",
            "jupyter-server                   1.24.0                /usr/local/lib/python3.10/dist-packages pip\n",
            "jupyterlab-pygments              0.2.2                 /usr/local/lib/python3.10/dist-packages pip\n",
            "jupyterlab-widgets               3.0.9                 /usr/local/lib/python3.10/dist-packages pip\n",
            "kaggle                           1.5.16                /usr/local/lib/python3.10/dist-packages pip\n",
            "keras                            2.13.1                /usr/local/lib/python3.10/dist-packages pip\n",
            "keyring                          23.5.0                /usr/lib/python3/dist-packages\n",
            "kiwisolver                       1.4.5                 /usr/local/lib/python3.10/dist-packages pip\n",
            "langcodes                        3.3.0                 /usr/local/lib/python3.10/dist-packages pip\n",
            "launchpadlib                     1.10.16               /usr/lib/python3/dist-packages\n",
            "lazr.restfulclient               0.14.4                /usr/lib/python3/dist-packages\n",
            "lazr.uri                         1.0.6                 /usr/lib/python3/dist-packages\n",
            "lazy_loader                      0.3                   /usr/local/lib/python3.10/dist-packages pip\n",
            "libclang                         16.0.6                /usr/local/lib/python3.10/dist-packages pip\n",
            "librosa                          0.10.1                /usr/local/lib/python3.10/dist-packages pip\n",
            "lida                             0.0.10                /usr/local/lib/python3.10/dist-packages pip\n",
            "lightgbm                         4.0.0                 /usr/local/lib/python3.10/dist-packages pip\n",
            "linkify-it-py                    2.0.2                 /usr/local/lib/python3.10/dist-packages pip\n",
            "lit                              17.0.2                /usr/local/lib/python3.10/dist-packages pip\n",
            "llmx                             0.0.15a0              /usr/local/lib/python3.10/dist-packages pip\n",
            "llvmlite                         0.39.1                /usr/local/lib/python3.10/dist-packages pip\n",
            "locket                           1.0.0                 /usr/local/lib/python3.10/dist-packages pip\n",
            "logical-unification              0.4.6                 /usr/local/lib/python3.10/dist-packages pip\n",
            "lxml                             4.9.3                 /usr/local/lib/python3.10/dist-packages pip\n",
            "malloy                           2023.1056             /usr/local/lib/python3.10/dist-packages pip\n",
            "Markdown                         3.5                   /usr/local/lib/python3.10/dist-packages pip\n",
            "markdown-it-py                   3.0.0                 /usr/local/lib/python3.10/dist-packages pip\n",
            "MarkupSafe                       2.1.3                 /usr/local/lib/python3.10/dist-packages pip\n",
            "matplotlib                       3.7.1                 /usr/local/lib/python3.10/dist-packages pip\n",
            "matplotlib-inline                0.1.6                 /usr/local/lib/python3.10/dist-packages pip\n",
            "matplotlib-venn                  0.11.9                /usr/local/lib/python3.10/dist-packages pip\n",
            "mdit-py-plugins                  0.4.0                 /usr/local/lib/python3.10/dist-packages pip\n",
            "mdurl                            0.1.2                 /usr/local/lib/python3.10/dist-packages pip\n",
            "miniKanren                       1.0.3                 /usr/local/lib/python3.10/dist-packages pip\n",
            "missingno                        0.5.2                 /usr/local/lib/python3.10/dist-packages pip\n",
            "mistune                          0.8.4                 /usr/local/lib/python3.10/dist-packages pip\n",
            "mizani                           0.9.3                 /usr/local/lib/python3.10/dist-packages pip\n",
            "mkl                              2023.2.0              /usr/local/lib/python3.10/dist-packages pip\n",
            "ml-dtypes                        0.3.1                 /usr/local/lib/python3.10/dist-packages pip\n",
            "mlxtend                          0.22.0                /usr/local/lib/python3.10/dist-packages pip\n",
            "more-itertools                   10.1.0                /usr/local/lib/python3.10/dist-packages pip\n",
            "moviepy                          1.0.3                 /usr/local/lib/python3.10/dist-packages pip\n",
            "mpmath                           1.3.0                 /usr/local/lib/python3.10/dist-packages pip\n",
            "msgpack                          1.0.7                 /usr/local/lib/python3.10/dist-packages pip\n",
            "multidict                        6.0.4                 /usr/local/lib/python3.10/dist-packages pip\n",
            "multipledispatch                 1.0.0                 /usr/local/lib/python3.10/dist-packages pip\n",
            "multitasking                     0.0.11                /usr/local/lib/python3.10/dist-packages pip\n",
            "murmurhash                       1.0.10                /usr/local/lib/python3.10/dist-packages pip\n",
            "music21                          9.1.0                 /usr/local/lib/python3.10/dist-packages pip\n",
            "natsort                          8.4.0                 /usr/local/lib/python3.10/dist-packages pip\n",
            "nbclassic                        1.0.0                 /usr/local/lib/python3.10/dist-packages pip\n",
            "nbclient                         0.8.0                 /usr/local/lib/python3.10/dist-packages pip\n",
            "nbconvert                        6.5.4                 /usr/local/lib/python3.10/dist-packages pip\n",
            "nbformat                         5.9.2                 /usr/local/lib/python3.10/dist-packages pip\n",
            "nest-asyncio                     1.5.8                 /usr/local/lib/python3.10/dist-packages pip\n",
            "networkx                         3.1                   /usr/local/lib/python3.10/dist-packages pip\n",
            "nibabel                          4.0.2                 /usr/local/lib/python3.10/dist-packages pip\n",
            "nltk                             3.8.1                 /usr/local/lib/python3.10/dist-packages pip\n",
            "notebook                         6.5.5                 /usr/local/lib/python3.10/dist-packages pip\n",
            "notebook_shim                    0.2.3                 /usr/local/lib/python3.10/dist-packages pip\n",
            "numba                            0.56.4                /usr/local/lib/python3.10/dist-packages pip\n",
            "numexpr                          2.8.7                 /usr/local/lib/python3.10/dist-packages pip\n",
            "numpy                            1.23.5                /usr/local/lib/python3.10/dist-packages pip\n",
            "oauth2client                     4.1.3                 /usr/local/lib/python3.10/dist-packages pip\n",
            "oauthlib                         3.2.2                 /usr/local/lib/python3.10/dist-packages pip\n",
            "opencv-contrib-python            4.8.0.76              /usr/local/lib/python3.10/dist-packages pip\n",
            "opencv-python                    4.8.0.76              /usr/local/lib/python3.10/dist-packages pip\n",
            "opencv-python-headless           4.8.1.78              /usr/local/lib/python3.10/dist-packages pip\n",
            "openpyxl                         3.1.2                 /usr/local/lib/python3.10/dist-packages pip\n",
            "opt-einsum                       3.3.0                 /usr/local/lib/python3.10/dist-packages pip\n",
            "optax                            0.1.7                 /usr/local/lib/python3.10/dist-packages pip\n",
            "orbax-checkpoint                 0.4.1                 /usr/local/lib/python3.10/dist-packages pip\n",
            "osqp                             0.6.2.post8           /usr/local/lib/python3.10/dist-packages pip\n",
            "packaging                        23.2                  /usr/local/lib/python3.10/dist-packages pip\n",
            "pandas                           1.5.3                 /usr/local/lib/python3.10/dist-packages pip\n",
            "pandas-datareader                0.10.0                /usr/local/lib/python3.10/dist-packages pip\n",
            "pandas-gbq                       0.17.9                /usr/local/lib/python3.10/dist-packages pip\n",
            "pandas-stubs                     1.5.3.230304          /usr/local/lib/python3.10/dist-packages pip\n",
            "pandocfilters                    1.5.0                 /usr/local/lib/python3.10/dist-packages pip\n",
            "panel                            1.2.3                 /usr/local/lib/python3.10/dist-packages pip\n",
            "param                            1.13.0                /usr/local/lib/python3.10/dist-packages pip\n",
            "parso                            0.8.3                 /usr/local/lib/python3.10/dist-packages pip\n",
            "partd                            1.4.1                 /usr/local/lib/python3.10/dist-packages pip\n",
            "pathlib                          1.0.1                 /usr/local/lib/python3.10/dist-packages pip\n",
            "pathy                            0.10.2                /usr/local/lib/python3.10/dist-packages pip\n",
            "patsy                            0.5.3                 /usr/local/lib/python3.10/dist-packages pip\n",
            "peewee                           3.16.3                /usr/local/lib/python3.10/dist-packages pip\n",
            "pexpect                          4.8.0                 /usr/local/lib/python3.10/dist-packages pip\n",
            "pickleshare                      0.7.5                 /usr/local/lib/python3.10/dist-packages pip\n",
            "Pillow                           9.4.0                 /usr/local/lib/python3.10/dist-packages pip\n",
            "pip                              23.1.2                /usr/local/lib/python3.10/dist-packages pip\n",
            "pip-tools                        6.13.0                /usr/local/lib/python3.10/dist-packages pip\n",
            "platformdirs                     3.11.0                /usr/local/lib/python3.10/dist-packages pip\n",
            "plotly                           5.15.0                /usr/local/lib/python3.10/dist-packages pip\n",
            "plotnine                         0.12.3                /usr/local/lib/python3.10/dist-packages pip\n",
            "pluggy                           1.3.0                 /usr/local/lib/python3.10/dist-packages pip\n",
            "polars                           0.17.3                /usr/local/lib/python3.10/dist-packages pip\n",
            "pooch                            1.7.0                 /usr/local/lib/python3.10/dist-packages pip\n",
            "portpicker                       1.5.2                 /usr/local/lib/python3.10/dist-packages pip\n",
            "prefetch-generator               1.0.3                 /usr/local/lib/python3.10/dist-packages pip\n",
            "preshed                          3.0.9                 /usr/local/lib/python3.10/dist-packages pip\n",
            "prettytable                      3.9.0                 /usr/local/lib/python3.10/dist-packages pip\n",
            "proglog                          0.1.10                /usr/local/lib/python3.10/dist-packages pip\n",
            "progressbar2                     4.2.0                 /usr/local/lib/python3.10/dist-packages pip\n",
            "prometheus-client                0.17.1                /usr/local/lib/python3.10/dist-packages pip\n",
            "promise                          2.3                   /usr/local/lib/python3.10/dist-packages pip\n",
            "prompt-toolkit                   3.0.39                /usr/local/lib/python3.10/dist-packages pip\n",
            "prophet                          1.1.5                 /usr/local/lib/python3.10/dist-packages pip\n",
            "proto-plus                       1.22.3                /usr/local/lib/python3.10/dist-packages pip\n",
            "protobuf                         3.20.3                /usr/local/lib/python3.10/dist-packages pip\n",
            "psutil                           5.9.5                 /usr/local/lib/python3.10/dist-packages pip\n",
            "psycopg2                         2.9.9                 /usr/local/lib/python3.10/dist-packages pip\n",
            "ptyprocess                       0.7.0                 /usr/local/lib/python3.10/dist-packages pip\n",
            "py-cpuinfo                       9.0.0                 /usr/local/lib/python3.10/dist-packages pip\n",
            "py4j                             0.10.9.7              /usr/local/lib/python3.10/dist-packages pip\n",
            "pyarrow                          9.0.0                 /usr/local/lib/python3.10/dist-packages pip\n",
            "pyasn1                           0.5.0                 /usr/local/lib/python3.10/dist-packages pip\n",
            "pyasn1-modules                   0.3.0                 /usr/local/lib/python3.10/dist-packages pip\n",
            "pycocotools                      2.0.7                 /usr/local/lib/python3.10/dist-packages pip\n",
            "pycparser                        2.21                  /usr/local/lib/python3.10/dist-packages pip\n",
            "pyct                             0.5.0                 /usr/local/lib/python3.10/dist-packages pip\n",
            "pydantic                         1.10.13               /usr/local/lib/python3.10/dist-packages pip\n",
            "pydata-google-auth               1.8.2                 /usr/local/lib/python3.10/dist-packages pip\n",
            "pydot                            1.4.2                 /usr/local/lib/python3.10/dist-packages pip\n",
            "pydot-ng                         2.0.0                 /usr/local/lib/python3.10/dist-packages pip\n",
            "pydotplus                        2.0.2                 /usr/local/lib/python3.10/dist-packages pip\n",
            "PyDrive                          1.3.1                 /usr/local/lib/python3.10/dist-packages pip\n",
            "PyDrive2                         1.6.3                 /usr/local/lib/python3.10/dist-packages pip\n",
            "pyerfa                           2.0.0.3               /usr/local/lib/python3.10/dist-packages pip\n",
            "pygame                           2.5.2                 /usr/local/lib/python3.10/dist-packages pip\n",
            "Pygments                         2.16.1                /usr/local/lib/python3.10/dist-packages pip\n",
            "PyGObject                        3.42.1                /usr/lib/python3/dist-packages\n",
            "PyJWT                            2.3.0                 /usr/lib/python3/dist-packages\n",
            "pymc                             5.7.2                 /usr/local/lib/python3.10/dist-packages pip\n",
            "pymystem3                        0.2.0                 /usr/local/lib/python3.10/dist-packages pip\n",
            "PyOpenGL                         3.1.7                 /usr/local/lib/python3.10/dist-packages pip\n",
            "pyOpenSSL                        23.2.0                /usr/local/lib/python3.10/dist-packages pip\n",
            "pyparsing                        3.1.1                 /usr/local/lib/python3.10/dist-packages pip\n",
            "pyperclip                        1.8.2                 /usr/local/lib/python3.10/dist-packages pip\n",
            "pyproj                           3.6.1                 /usr/local/lib/python3.10/dist-packages pip\n",
            "pyproject_hooks                  1.0.0                 /usr/local/lib/python3.10/dist-packages pip\n",
            "pyshp                            2.3.1                 /usr/local/lib/python3.10/dist-packages pip\n",
            "PySocks                          1.7.1                 /usr/local/lib/python3.10/dist-packages pip\n",
            "pytensor                         2.14.2                /usr/local/lib/python3.10/dist-packages pip\n",
            "pytest                           7.4.2                 /usr/local/lib/python3.10/dist-packages pip\n",
            "python-apt                       0.0.0                 /usr/local/lib/python3.10/dist-packages\n",
            "python-box                       7.1.1                 /usr/local/lib/python3.10/dist-packages pip\n",
            "python-dateutil                  2.8.2                 /usr/local/lib/python3.10/dist-packages pip\n",
            "python-louvain                   0.16                  /usr/local/lib/python3.10/dist-packages pip\n",
            "python-slugify                   8.0.1                 /usr/local/lib/python3.10/dist-packages pip\n",
            "python-utils                     3.8.1                 /usr/local/lib/python3.10/dist-packages pip\n",
            "pytz                             2023.3.post1          /usr/local/lib/python3.10/dist-packages pip\n",
            "pyviz_comms                      3.0.0                 /usr/local/lib/python3.10/dist-packages pip\n",
            "PyWavelets                       1.4.1                 /usr/local/lib/python3.10/dist-packages pip\n",
            "PyYAML                           6.0.1                 /usr/local/lib/python3.10/dist-packages pip\n",
            "pyzmq                            23.2.1                /usr/local/lib/python3.10/dist-packages pip\n",
            "qdldl                            0.1.7.post0           /usr/local/lib/python3.10/dist-packages pip\n",
            "qudida                           0.0.4                 /usr/local/lib/python3.10/dist-packages pip\n",
            "ratelim                          0.1.6                 /usr/local/lib/python3.10/dist-packages pip\n",
            "referencing                      0.30.2                /usr/local/lib/python3.10/dist-packages pip\n",
            "regex                            2023.6.3              /usr/local/lib/python3.10/dist-packages pip\n",
            "requests                         2.31.0                /usr/local/lib/python3.10/dist-packages pip\n",
            "requests-oauthlib                1.3.1                 /usr/local/lib/python3.10/dist-packages pip\n",
            "requirements-parser              0.5.0                 /usr/local/lib/python3.10/dist-packages pip\n",
            "rich                             13.6.0                /usr/local/lib/python3.10/dist-packages pip\n",
            "rpds-py                          0.10.4                /usr/local/lib/python3.10/dist-packages pip\n",
            "rpy2                             3.4.2                 /usr/local/lib/python3.10/dist-packages pip\n",
            "rsa                              4.9                   /usr/local/lib/python3.10/dist-packages pip\n",
            "scikit-image                     0.19.3                /usr/local/lib/python3.10/dist-packages pip\n",
            "scikit-learn                     1.2.2                 /usr/local/lib/python3.10/dist-packages pip\n",
            "scipy                            1.11.3                /usr/local/lib/python3.10/dist-packages pip\n",
            "scooby                           0.7.4                 /usr/local/lib/python3.10/dist-packages pip\n",
            "scs                              3.2.3                 /usr/local/lib/python3.10/dist-packages pip\n",
            "seaborn                          0.12.2                /usr/local/lib/python3.10/dist-packages pip\n",
            "SecretStorage                    3.3.1                 /usr/lib/python3/dist-packages\n",
            "Send2Trash                       1.8.2                 /usr/local/lib/python3.10/dist-packages pip\n",
            "setuptools                       67.7.2                /usr/local/lib/python3.10/dist-packages pip\n",
            "shapely                          2.0.1                 /usr/local/lib/python3.10/dist-packages pip\n",
            "six                              1.16.0                /usr/local/lib/python3.10/dist-packages pip\n",
            "sklearn-pandas                   2.2.0                 /usr/local/lib/python3.10/dist-packages pip\n",
            "smart-open                       6.4.0                 /usr/local/lib/python3.10/dist-packages pip\n",
            "sniffio                          1.3.0                 /usr/local/lib/python3.10/dist-packages pip\n",
            "snowballstemmer                  2.2.0                 /usr/local/lib/python3.10/dist-packages pip\n",
            "sortedcontainers                 2.4.0                 /usr/local/lib/python3.10/dist-packages pip\n",
            "soundfile                        0.12.1                /usr/local/lib/python3.10/dist-packages pip\n",
            "soupsieve                        2.5                   /usr/local/lib/python3.10/dist-packages pip\n",
            "soxr                             0.3.7                 /usr/local/lib/python3.10/dist-packages pip\n",
            "spacy                            3.6.1                 /usr/local/lib/python3.10/dist-packages pip\n",
            "spacy-legacy                     3.0.12                /usr/local/lib/python3.10/dist-packages pip\n",
            "spacy-loggers                    1.0.5                 /usr/local/lib/python3.10/dist-packages pip\n",
            "Sphinx                           5.0.2                 /usr/local/lib/python3.10/dist-packages pip\n",
            "sphinxcontrib-applehelp          1.0.7                 /usr/local/lib/python3.10/dist-packages pip\n",
            "sphinxcontrib-devhelp            1.0.5                 /usr/local/lib/python3.10/dist-packages pip\n",
            "sphinxcontrib-htmlhelp           2.0.4                 /usr/local/lib/python3.10/dist-packages pip\n",
            "sphinxcontrib-jsmath             1.0.1                 /usr/local/lib/python3.10/dist-packages pip\n",
            "sphinxcontrib-qthelp             1.0.6                 /usr/local/lib/python3.10/dist-packages pip\n",
            "sphinxcontrib-serializinghtml    1.1.9                 /usr/local/lib/python3.10/dist-packages pip\n",
            "SQLAlchemy                       2.0.21                /usr/local/lib/python3.10/dist-packages pip\n",
            "sqlparse                         0.4.4                 /usr/local/lib/python3.10/dist-packages pip\n",
            "srsly                            2.4.8                 /usr/local/lib/python3.10/dist-packages pip\n",
            "stanio                           0.3.0                 /usr/local/lib/python3.10/dist-packages pip\n",
            "statsmodels                      0.14.0                /usr/local/lib/python3.10/dist-packages pip\n",
            "sympy                            1.12                  /usr/local/lib/python3.10/dist-packages pip\n",
            "tables                           3.8.0                 /usr/local/lib/python3.10/dist-packages pip\n",
            "tabulate                         0.9.0                 /usr/local/lib/python3.10/dist-packages pip\n",
            "tbb                              2021.10.0             /usr/local/lib/python3.10/dist-packages pip\n",
            "tblib                            2.0.0                 /usr/local/lib/python3.10/dist-packages pip\n",
            "tenacity                         8.2.3                 /usr/local/lib/python3.10/dist-packages pip\n",
            "tensorboard                      2.13.0                /usr/local/lib/python3.10/dist-packages pip\n",
            "tensorboard-data-server          0.7.1                 /usr/local/lib/python3.10/dist-packages pip\n",
            "tensorflow                       2.13.0                /usr/local/lib/python3.10/dist-packages pip\n",
            "tensorflow-datasets              4.9.3                 /usr/local/lib/python3.10/dist-packages pip\n",
            "tensorflow-estimator             2.13.0                /usr/local/lib/python3.10/dist-packages pip\n",
            "tensorflow-gcs-config            2.13.0                /usr/local/lib/python3.10/dist-packages pip\n",
            "tensorflow-hub                   0.15.0                /usr/local/lib/python3.10/dist-packages pip\n",
            "tensorflow-io-gcs-filesystem     0.34.0                /usr/local/lib/python3.10/dist-packages pip\n",
            "tensorflow-metadata              1.14.0                /usr/local/lib/python3.10/dist-packages pip\n",
            "tensorflow-probability           0.20.1                /usr/local/lib/python3.10/dist-packages pip\n",
            "tensorstore                      0.1.45                /usr/local/lib/python3.10/dist-packages pip\n",
            "termcolor                        2.3.0                 /usr/local/lib/python3.10/dist-packages pip\n",
            "terminado                        0.17.1                /usr/local/lib/python3.10/dist-packages pip\n",
            "text-unidecode                   1.3                   /usr/local/lib/python3.10/dist-packages pip\n",
            "textblob                         0.17.1                /usr/local/lib/python3.10/dist-packages pip\n",
            "tf-slim                          1.1.0                 /usr/local/lib/python3.10/dist-packages pip\n",
            "thinc                            8.1.12                /usr/local/lib/python3.10/dist-packages pip\n",
            "threadpoolctl                    3.2.0                 /usr/local/lib/python3.10/dist-packages pip\n",
            "tifffile                         2023.9.26             /usr/local/lib/python3.10/dist-packages pip\n",
            "tinycss2                         1.2.1                 /usr/local/lib/python3.10/dist-packages pip\n",
            "toml                             0.10.2                /usr/local/lib/python3.10/dist-packages pip\n",
            "tomli                            2.0.1                 /usr/local/lib/python3.10/dist-packages pip\n",
            "toolz                            0.12.0                /usr/local/lib/python3.10/dist-packages pip\n",
            "torch                            2.0.1+cu118           /usr/local/lib/python3.10/dist-packages pip\n",
            "torchaudio                       2.0.2+cu118           /usr/local/lib/python3.10/dist-packages pip\n",
            "torchdata                        0.6.1                 /usr/local/lib/python3.10/dist-packages pip\n",
            "torchsummary                     1.5.1                 /usr/local/lib/python3.10/dist-packages pip\n",
            "torchtext                        0.15.2                /usr/local/lib/python3.10/dist-packages pip\n",
            "torchvision                      0.15.2+cu118          /usr/local/lib/python3.10/dist-packages pip\n",
            "tornado                          6.3.2                 /usr/local/lib/python3.10/dist-packages pip\n",
            "tqdm                             4.66.1                /usr/local/lib/python3.10/dist-packages pip\n",
            "traitlets                        5.7.1                 /usr/local/lib/python3.10/dist-packages pip\n",
            "traittypes                       0.2.1                 /usr/local/lib/python3.10/dist-packages pip\n",
            "triton                           2.0.0                 /usr/local/lib/python3.10/dist-packages pip\n",
            "tweepy                           4.13.0                /usr/local/lib/python3.10/dist-packages pip\n",
            "typer                            0.9.0                 /usr/local/lib/python3.10/dist-packages pip\n",
            "types-pytz                       2023.3.1.1            /usr/local/lib/python3.10/dist-packages pip\n",
            "types-setuptools                 68.2.0.0              /usr/local/lib/python3.10/dist-packages pip\n",
            "typing_extensions                4.5.0                 /usr/local/lib/python3.10/dist-packages pip\n",
            "tzlocal                          5.1                   /usr/local/lib/python3.10/dist-packages pip\n",
            "uc-micro-py                      1.0.2                 /usr/local/lib/python3.10/dist-packages pip\n",
            "uritemplate                      4.1.1                 /usr/local/lib/python3.10/dist-packages pip\n",
            "urllib3                          2.0.6                 /usr/local/lib/python3.10/dist-packages pip\n",
            "vega-datasets                    0.9.0                 /usr/local/lib/python3.10/dist-packages pip\n",
            "wadllib                          1.3.6                 /usr/lib/python3/dist-packages\n",
            "wasabi                           1.1.2                 /usr/local/lib/python3.10/dist-packages pip\n",
            "wcwidth                          0.2.8                 /usr/local/lib/python3.10/dist-packages pip\n",
            "webcolors                        1.13                  /usr/local/lib/python3.10/dist-packages pip\n",
            "webencodings                     0.5.1                 /usr/local/lib/python3.10/dist-packages pip\n",
            "websocket-client                 1.6.4                 /usr/local/lib/python3.10/dist-packages pip\n",
            "Werkzeug                         3.0.0                 /usr/local/lib/python3.10/dist-packages pip\n",
            "wheel                            0.41.2                /usr/local/lib/python3.10/dist-packages pip\n",
            "widgetsnbextension               3.6.6                 /usr/local/lib/python3.10/dist-packages pip\n",
            "wordcloud                        1.9.2                 /usr/local/lib/python3.10/dist-packages pip\n",
            "wrapt                            1.15.0                /usr/local/lib/python3.10/dist-packages pip\n",
            "xarray                           2023.7.0              /usr/local/lib/python3.10/dist-packages pip\n",
            "xarray-einstats                  0.6.0                 /usr/local/lib/python3.10/dist-packages pip\n",
            "xgboost                          2.0.0                 /usr/local/lib/python3.10/dist-packages pip\n",
            "xlrd                             2.0.1                 /usr/local/lib/python3.10/dist-packages pip\n",
            "xyzservices                      2023.10.0             /usr/local/lib/python3.10/dist-packages pip\n",
            "yarl                             1.9.2                 /usr/local/lib/python3.10/dist-packages pip\n",
            "yellowbrick                      1.5                   /usr/local/lib/python3.10/dist-packages pip\n",
            "yfinance                         0.2.31                /usr/local/lib/python3.10/dist-packages pip\n",
            "zict                             3.0.0                 /usr/local/lib/python3.10/dist-packages pip\n",
            "zipp                             3.17.0                /usr/local/lib/python3.10/dist-packages pip\n"
          ]
        }
      ]
    },
    {
      "cell_type": "code",
      "execution_count": null,
      "metadata": {
        "id": "Ftv7YlGN2oyo",
        "colab": {
          "base_uri": "https://localhost:8080/"
        },
        "outputId": "7fcb37b9-9278-4182-ca4e-d90ec6c48522"
      },
      "outputs": [
        {
          "output_type": "stream",
          "name": "stdout",
          "text": [
            "[1 2 3 4 5]\n",
            "<class 'numpy.ndarray'>\n"
          ]
        }
      ],
      "source": [
        "import numpy as np\n",
        "arr = np.array([1, 2, 3, 4, 5])\n",
        "print(arr)\n",
        "print(type(arr))"
      ]
    },
    {
      "cell_type": "code",
      "execution_count": null,
      "metadata": {
        "id": "z1G6RA1b3NZJ",
        "colab": {
          "base_uri": "https://localhost:8080/"
        },
        "outputId": "e105db7a-7f80-4a79-f890-849f5c8c1518"
      },
      "outputs": [
        {
          "output_type": "stream",
          "name": "stdout",
          "text": [
            "Name: numpy\n",
            "Version: 1.23.5\n",
            "Summary: NumPy is the fundamental package for array computing with Python.\n",
            "Home-page: https://www.numpy.org\n",
            "Author: Travis E. Oliphant et al.\n",
            "Author-email: \n",
            "License: BSD\n",
            "Location: /usr/local/lib/python3.10/dist-packages\n",
            "Requires: \n",
            "Required-by: albumentations, altair, arviz, astropy, autograd, blis, bokeh, bqplot, chex, cmdstanpy, contourpy, cufflinks, cupy-cuda11x, cvxpy, datascience, db-dtypes, dopamine-rl, ecos, flax, folium, geemap, gensim, gym, h5py, holoviews, hyperopt, imageio, imbalanced-learn, imgaug, jax, jaxlib, librosa, lida, lightgbm, matplotlib, matplotlib-venn, missingno, mizani, ml-dtypes, mlxtend, moviepy, music21, nibabel, numba, numexpr, opencv-contrib-python, opencv-python, opencv-python-headless, opt-einsum, optax, orbax-checkpoint, osqp, pandas, pandas-gbq, patsy, plotnine, prophet, pyarrow, pycocotools, pyerfa, pymc, pytensor, python-louvain, PyWavelets, qdldl, qudida, scikit-image, scikit-learn, scipy, scs, seaborn, shapely, sklearn-pandas, soxr, spacy, stanio, statsmodels, tables, tensorboard, tensorflow, tensorflow-datasets, tensorflow-hub, tensorflow-probability, tensorstore, thinc, tifffile, torchtext, torchvision, wordcloud, xarray, xarray-einstats, xgboost, yellowbrick, yfinance\n"
          ]
        }
      ],
      "source": [
        "!pip show numpy"
      ]
    },
    {
      "cell_type": "code",
      "execution_count": null,
      "metadata": {
        "id": "0kB6kUTe4IAJ",
        "colab": {
          "base_uri": "https://localhost:8080/"
        },
        "outputId": "2720ccc4-405a-4278-e0c8-ecd819313cde"
      },
      "outputs": [
        {
          "output_type": "stream",
          "name": "stdout",
          "text": [
            "Name: numpy\n",
            "Version: 1.23.5\n",
            "Summary: NumPy is the fundamental package for array computing with Python.\n",
            "Home-page: https://www.numpy.org\n",
            "Author: Travis E. Oliphant et al.\n",
            "Author-email: \n",
            "License: BSD\n",
            "Location: /usr/local/lib/python3.10/dist-packages\n",
            "Requires: \n",
            "Required-by: albumentations, altair, arviz, astropy, autograd, blis, bokeh, bqplot, chex, cmdstanpy, contourpy, cufflinks, cupy-cuda11x, cvxpy, datascience, db-dtypes, dopamine-rl, ecos, flax, folium, geemap, gensim, gym, h5py, holoviews, hyperopt, imageio, imbalanced-learn, imgaug, jax, jaxlib, librosa, lida, lightgbm, matplotlib, matplotlib-venn, missingno, mizani, ml-dtypes, mlxtend, moviepy, music21, nibabel, numba, numexpr, opencv-contrib-python, opencv-python, opencv-python-headless, opt-einsum, optax, orbax-checkpoint, osqp, pandas, pandas-gbq, patsy, plotnine, prophet, pyarrow, pycocotools, pyerfa, pymc, pytensor, python-louvain, PyWavelets, qdldl, qudida, scikit-image, scikit-learn, scipy, scs, seaborn, shapely, sklearn-pandas, soxr, spacy, stanio, statsmodels, tables, tensorboard, tensorflow, tensorflow-datasets, tensorflow-hub, tensorflow-probability, tensorstore, thinc, tifffile, torchtext, torchvision, wordcloud, xarray, xarray-einstats, xgboost, yellowbrick, yfinance\n",
            "Metadata-Version: 2.1\n",
            "Installer: pip\n",
            "Classifiers:\n",
            "  Development Status :: 5 - Production/Stable\n",
            "  Intended Audience :: Science/Research\n",
            "  Intended Audience :: Developers\n",
            "  License :: OSI Approved :: BSD License\n",
            "  Programming Language :: C\n",
            "  Programming Language :: Python\n",
            "  Programming Language :: Python :: 3\n",
            "  Programming Language :: Python :: 3.8\n",
            "  Programming Language :: Python :: 3.9\n",
            "  Programming Language :: Python :: 3.10\n",
            "  Programming Language :: Python :: 3.11\n",
            "  Programming Language :: Python :: 3 :: Only\n",
            "  Programming Language :: Python :: Implementation :: CPython\n",
            "  Topic :: Software Development\n",
            "  Topic :: Scientific/Engineering\n",
            "  Typing :: Typed\n",
            "  Operating System :: Microsoft :: Windows\n",
            "  Operating System :: POSIX\n",
            "  Operating System :: Unix\n",
            "  Operating System :: MacOS\n",
            "Entry-points:\n",
            "  [array_api]\n",
            "  numpy = numpy.array_api\n",
            "  \n",
            "  [console_scripts]\n",
            "  f2py = numpy.f2py.f2py2e:main\n",
            "  f2py3 = numpy.f2py.f2py2e:main\n",
            "  f2py3.10 = numpy.f2py.f2py2e:main\n",
            "  \n",
            "  [pyinstaller40]\n",
            "  hook-dirs = numpy:_pyinstaller_hooks_dir\n",
            "  \n",
            "Project-URLs:\n",
            "  Bug Tracker, https://github.com/numpy/numpy/issues\n",
            "  Documentation, https://numpy.org/doc/1.23\n",
            "  Source Code, https://github.com/numpy/numpy\n"
          ]
        }
      ],
      "source": [
        "!pip show --verbose numpy"
      ]
    },
    {
      "cell_type": "markdown",
      "metadata": {
        "id": "obgJ-0Z98L4R"
      },
      "source": [
        "##**NumPy creando matrices**\n",
        "\n",
        "NumPy se utiliza para trabajar con matrices (vectores). El objeto de NumPy para matrices o vectores se llama `ndarray`.\n",
        "\n",
        "Podemos crear un objeto `ndarray` NumPy usando la función `array()`.\n",
        "\n",
        "Un objeto `ndarray` representa una matriz homogénea y multidimensional de elementos de tamaño fijo. Un objeto de tipo de datos asociado describe el formato de cada elemento en la matriz (su orden de bytes, cuántos bytes ocupa en la memoria, si es un entero, un número flotante u otra cosa, etc.)\n",
        "\n",
        "Las matrices deben construirse utilizando `array`, `zeros` o `empty`. Los parámetros dados aquí se refieren a un método de bajo nivel `(ndarray(…))` para instanciar una matriz.\n",
        "\n",
        "\n",
        "\n",
        "```python\n",
        "arr = np.array([1, 2, 3, 4, 5])\n",
        "print(arr)\n",
        "print(type(arr))\n",
        "```\n",
        "Nota: `type()`; esta función incorporada de Python nos dice el tipo de objeto que se le pasa. Como en el código anterior, muestra que arr es del tipo `numpy.ndarray`.\n",
        "\n",
        "Para crear un `ndarray`, podemos pasar una lista, tupla o cualquier objeto similar a una matriz en el método `array()`, y se convertirá en un `ndarray`:\n",
        "\n",
        "```python\n",
        "arr = np.array((1, 2, 3, 4, 5))\n",
        "print(arr)\n",
        "```"
      ]
    },
    {
      "cell_type": "code",
      "execution_count": null,
      "metadata": {
        "id": "tnf3Xpgq9HwM",
        "colab": {
          "base_uri": "https://localhost:8080/"
        },
        "outputId": "d298bb7a-4a31-4125-8728-8eb67e5d96b1"
      },
      "outputs": [
        {
          "output_type": "stream",
          "name": "stdout",
          "text": [
            "[1 2 3 4 5]\n",
            "<class 'numpy.ndarray'>\n"
          ]
        }
      ],
      "source": [
        "arr = np.array([1, 2, 3, 4, 5])\n",
        "print(arr)\n",
        "print(type(arr))"
      ]
    },
    {
      "cell_type": "code",
      "execution_count": null,
      "metadata": {
        "id": "7UildXZS9kN-",
        "colab": {
          "base_uri": "https://localhost:8080/"
        },
        "outputId": "2b85dd57-0edd-4343-ebeb-9692cc88a389"
      },
      "outputs": [
        {
          "output_type": "stream",
          "name": "stdout",
          "text": [
            "[1 2 3 4 5]\n",
            "<class 'numpy.ndarray'>\n"
          ]
        }
      ],
      "source": [
        "arr = np.array((1, 2, 3, 4, 5))\n",
        "print(arr)\n",
        "print(type(arr))"
      ]
    },
    {
      "cell_type": "markdown",
      "metadata": {
        "id": "DIcUYTWm9qwH"
      },
      "source": [
        "##**Dimensiones en matrices**\n",
        "\n",
        "Una dimensión en matrices es un nivel de profundidad de matriz (matrices anidadas).\n",
        "\n",
        "Matriz anidada: son matrices que tienen matrices como elementos.\n",
        "\n",
        "###**Matrices 0-D**\n",
        "\n",
        "Las matrices 0-D, o escalares, son los elementos de una matriz. Cada valor de una matriz es una matriz 0-D.\n",
        "\n",
        "\n",
        "```python\n",
        "arr = np.array(42)\n",
        "print(arr)\n",
        "```\n",
        "###**Matrices 1-D**\n",
        "\n",
        "Una matriz que tiene matrices 0-D como sus elementos se llama matriz unidimensional o 1-D. Estos son los arreglos más comunes y básicos.\n",
        "\n",
        "```python\n",
        "arr = np.array([1, 2, 3, 4, 5])\n",
        "print(arr)\n",
        "```\n",
        "\n",
        "###**Matrices 2-D**\n",
        "\n",
        "Una matriz que tiene matrices 1-D como sus elementos se denomina matriz 2-D. A menudo se utilizan para representar tensores de segundo orden.\n",
        "NumPy tiene un submódulo completo dedicado a operaciones matriciales llamado `numpy.mat`\n",
        "\n",
        "```python\n",
        "arr = np.array([[1, 2, 3], [4, 5, 6]])\n",
        "print(arr)\n",
        "```\n",
        "\n",
        "###**Matrices 3-D**\n",
        "\n",
        "Una matriz que tiene matrices 2-D (matrices) como sus elementos se llama matriz 3-D. A menudo se utilizan para representar un tensor de tercer orden.\n",
        "\n",
        "```python\n",
        "arr = np.array([[[1, 2, 3], [4, 5, 6]], [[1, 2, 3], [4, 5, 6]]])\n",
        "print(arr)\n",
        "```\n",
        "\n",
        "###**¿Verifique el número de dimensiones?**\n",
        "\n",
        "NumPy Arrays proporciona el atributo `ndim` que devuelve un número entero que nos dice cuántas dimensiones tiene la matriz.\n",
        "\n",
        "```python\n",
        "a = np.array(42)\n",
        "b = np.array([1, 2, 3, 4, 5])\n",
        "c = np.array([[1, 2, 3], [4, 5, 6]])\n",
        "d = np.array([[[1, 2, 3], [4, 5, 6]], [[1, 2, 3], [4, 5, 6]]])\n",
        "\n",
        "print(a.ndim)\n",
        "print(b.ndim)\n",
        "print(c.ndim)\n",
        "print(d.ndim)\n",
        "```\n",
        "\n",
        "###**Matrices de dimensiones superiores**\n",
        "\n",
        "Una matriz puede tener cualquier número de dimensiones.\n",
        "Cuando se crea la matriz, puede definir el número de dimensiones utilizando el argumento `ndmin`.\n",
        "\n",
        "```python\n",
        "arr = np.array([1, 2, 3, 4], ndmin=5)\n",
        "print(arr)\n",
        "print('número de dimensiones :', arr.ndim)\n",
        "```"
      ]
    },
    {
      "cell_type": "code",
      "execution_count": null,
      "metadata": {
        "id": "0Hp900yf-eHw",
        "colab": {
          "base_uri": "https://localhost:8080/"
        },
        "outputId": "8bae50c4-88de-4442-ac51-847b0b63b8be"
      },
      "outputs": [
        {
          "output_type": "stream",
          "name": "stdout",
          "text": [
            "42\n"
          ]
        }
      ],
      "source": [
        "arr = np.array(42)\n",
        "print(arr)"
      ]
    },
    {
      "cell_type": "code",
      "execution_count": null,
      "metadata": {
        "id": "yWBcChra_BXh",
        "colab": {
          "base_uri": "https://localhost:8080/"
        },
        "outputId": "bc9fc63e-2628-4050-b429-394a3f44dc51"
      },
      "outputs": [
        {
          "output_type": "stream",
          "name": "stdout",
          "text": [
            "[1 2 3 4 5]\n"
          ]
        }
      ],
      "source": [
        "arr = np.array([1, 2, 3, 4, 5])\n",
        "print(arr)"
      ]
    },
    {
      "cell_type": "code",
      "execution_count": null,
      "metadata": {
        "id": "UYUJX7n7_DFu",
        "colab": {
          "base_uri": "https://localhost:8080/"
        },
        "outputId": "a6fbad9f-ad92-4213-8d9c-40caf30a4aea"
      },
      "outputs": [
        {
          "output_type": "stream",
          "name": "stdout",
          "text": [
            "[[1 2 3]\n",
            " [4 5 6]]\n"
          ]
        }
      ],
      "source": [
        "arr = np.array([[1, 2, 3], [4, 5, 6]])\n",
        "print(arr)"
      ]
    },
    {
      "cell_type": "code",
      "execution_count": null,
      "metadata": {
        "id": "MM9THTqsdtRx",
        "colab": {
          "base_uri": "https://localhost:8080/"
        },
        "outputId": "e9795992-deb0-4ffc-a140-cdf1ec56397f"
      },
      "outputs": [
        {
          "output_type": "stream",
          "name": "stdout",
          "text": [
            "[[[1 2 3]\n",
            "  [4 5 6]]\n",
            "\n",
            " [[1 2 3]\n",
            "  [4 5 6]]]\n"
          ]
        }
      ],
      "source": [
        "arr = np.array([[[1, 2, 3], [4, 5, 6]], [[1, 2, 3], [4, 5, 6]]])\n",
        "print(arr)"
      ]
    },
    {
      "cell_type": "code",
      "execution_count": null,
      "metadata": {
        "id": "1GYPTXw6eRk_",
        "colab": {
          "base_uri": "https://localhost:8080/"
        },
        "outputId": "5e08447f-777d-4856-9ff7-e59ea5810ff3"
      },
      "outputs": [
        {
          "output_type": "stream",
          "name": "stdout",
          "text": [
            "0\n",
            "<class 'numpy.ndarray'>\n",
            "1\n",
            "<class 'numpy.ndarray'>\n",
            "2\n",
            "<class 'numpy.ndarray'>\n",
            "3\n",
            "<class 'numpy.ndarray'>\n"
          ]
        }
      ],
      "source": [
        "a = np.array(42)\n",
        "b = np.array([1, 2, 3, 4, 5])\n",
        "c = np.array([[1, 2, 3], [4, 5, 6]])\n",
        "d = np.array([[[1, 2, 3], [4, 5, 6]], [[1, 2, 3], [4, 5, 6]]])\n",
        "\n",
        "print(a.ndim)\n",
        "print(type(a))\n",
        "print(b.ndim)\n",
        "print(type(b))\n",
        "print(c.ndim)\n",
        "print(type(c))\n",
        "print(d.ndim)\n",
        "print(type(d))"
      ]
    },
    {
      "cell_type": "code",
      "execution_count": null,
      "metadata": {
        "id": "icXEbVoKfIDE",
        "colab": {
          "base_uri": "https://localhost:8080/"
        },
        "outputId": "93d30f42-7212-489f-9e72-7d93d84d30f8"
      },
      "outputs": [
        {
          "output_type": "stream",
          "name": "stdout",
          "text": [
            "[[[[[1 2 3 4]]]]]\n",
            "número de dimensiones : 5\n"
          ]
        }
      ],
      "source": [
        "arr = np.array([1, 2, 3, 4], ndmin=5)\n",
        "print(arr)\n",
        "print('número de dimensiones :', arr.ndim)"
      ]
    },
    {
      "cell_type": "markdown",
      "metadata": {
        "id": "FgU6LvvlfaBX"
      },
      "source": [
        "##**Indexación de matrices NumPy**\n",
        "\n",
        "###**Acceso a elementos de matriz**\n",
        "\n",
        "La indexación de matrices es lo mismo que acceder a un elemento de matriz. Puede acceder a un elemento de matriz consultando su número de índice.\n",
        "\n",
        "Los índices en las matrices NumPy comienzan con $0$, lo que significa que el primer elemento tiene un índice $0$ y el segundo tiene un índice $1$, etc.\n",
        "\n",
        "\n",
        "\n",
        "```python\n",
        "arr = np.array([1, 2, 3, 4])\n",
        "print(arr[0])\n",
        "print(arr[1])\n",
        "print(arr[2] + arr[3])\n",
        "```\n",
        "###**Acceder a matrices 2-D**\n",
        "\n",
        "Para acceder a elementos de matrices 2-D, podemos usar enteros separados por comas que representan la dimensión y el índice del elemento.\n",
        "\n",
        "```python\n",
        "arr = np.array([[1,2,3,4,5], [6,7,8,9,10]])\n",
        "print('Fila 0 Columna 1: ', arr[0, 1])\n",
        "print('Fila 1 Columna 4: ', arr[1, 4])\n",
        "```\n",
        "\n",
        "###**Acceder a matrices 3-D**\n",
        "\n",
        "Para acceder a elementos de matrices 3-D, podemos usar enteros separados por comas que representan las dimensiones y el índice del elemento.\n",
        "\n",
        "```python\n",
        "arr = np.array([[[1, 2, 3], [4, 5, 6]], [[7, 8, 9], [10, 11, 12]]])\n",
        "print(arr[0, 1, 2])\n",
        "```\n",
        "\n",
        "###**Indexación negativa**\n",
        "\n",
        "NumPy permite el uso de indexación negativa, por lo tanto, se puede utilizar para acceder a una matriz desde el final.\n",
        "\n",
        "```python\n",
        "arr = np.array([[1,2,3,4,5], [6,7,8,9,10]])\n",
        "print('Ultimo elemento de la segund: ', arr[1, -1])\n",
        "```\n",
        "\n",
        "\n",
        "![](https://aprendeconalf.es/docencia/python/manual/img/arrays.png)"
      ]
    },
    {
      "cell_type": "code",
      "execution_count": null,
      "metadata": {
        "id": "M0uYZtnQglud",
        "colab": {
          "base_uri": "https://localhost:8080/"
        },
        "outputId": "767b27b0-3207-41b5-a316-170e639a0093"
      },
      "outputs": [
        {
          "output_type": "stream",
          "name": "stdout",
          "text": [
            "1\n",
            "2\n",
            "7\n"
          ]
        }
      ],
      "source": [
        "arr = np.array([1, 2, 3, 4])\n",
        "print(arr[0])\n",
        "print(arr[1])\n",
        "print(arr[2] + arr[3])"
      ]
    },
    {
      "cell_type": "code",
      "execution_count": null,
      "metadata": {
        "id": "etYhPnpTjo1q",
        "colab": {
          "base_uri": "https://localhost:8080/"
        },
        "outputId": "9ef75dd3-2589-4bd1-bf15-042ba7851ae5"
      },
      "outputs": [
        {
          "output_type": "stream",
          "name": "stdout",
          "text": [
            "Fila 0 Columna 1:  2\n",
            "Fila 1 Columna 4:  10\n",
            "Fila 2 Columna 4:  15\n"
          ]
        }
      ],
      "source": [
        "arr = np.array([[1,2,3,4,5], [6,7,8,9,10], [6,7,8,15,10]])\n",
        "print('Fila 0 Columna 1: ', arr[0, 1])\n",
        "print('Fila 1 Columna 4: ', arr[1, 4])\n",
        "print('Fila 2 Columna 4: ', arr[2, 3])"
      ]
    },
    {
      "cell_type": "code",
      "execution_count": null,
      "metadata": {
        "id": "MeO4tjUvrJdo",
        "colab": {
          "base_uri": "https://localhost:8080/"
        },
        "outputId": "3c004c7a-34a2-49de-befd-00cf86f2da5e"
      },
      "outputs": [
        {
          "output_type": "stream",
          "name": "stdout",
          "text": [
            "6\n",
            "[[[ 1  2  3]\n",
            "  [ 4  5  6]]\n",
            "\n",
            " [[ 7  8  9]\n",
            "  [10 11 12]]]\n"
          ]
        }
      ],
      "source": [
        "arr = np.array([[[1, 2, 3], [4, 5, 6]], [[7, 8, 9], [10, 11, 12]]])\n",
        "print(arr[0, 1, 2])\n",
        "print(arr)"
      ]
    },
    {
      "cell_type": "code",
      "execution_count": null,
      "metadata": {
        "id": "n5_51f7gyzXN"
      },
      "outputs": [],
      "source": [
        "#La matriz es 2x5\n",
        "arr = np.array([[1,2,3,4,5], [6,7,8,9,10]])\n",
        "print('Fila 1 Columna -1(Ultima): ', arr[1, -1])"
      ]
    },
    {
      "cell_type": "markdown",
      "metadata": {
        "id": "xNpiruUI0b6H"
      },
      "source": [
        "##**Slicing de Matrices NumPy**\n",
        "\n",
        "\n",
        "El Slicing de python para NumPy es similar o en este caso igual al utilizado previamente.\n",
        "\n",
        "###**Slicing**\n",
        "\n",
        "El índice se detalla con corchetes de la siguiente forma: `[inicio: fin]`.\n",
        "\n",
        "También se puede definir el paso, así: `[inicio: final: paso]`.\n",
        "\n",
        "*   Si no pasamos `inicio` se considera $0$\n",
        "*   Si no pasamos `final` su longitud se considera la longitud de la matriz.\n",
        "*   Si no pasamos `paso` se considera $1$\n",
        "\n",
        "```python\n",
        "arr = np.array([1, 2, 3, 4, 5, 6, 7])\n",
        "print(arr[1:5])\n",
        "print(arr[4:])\n",
        "print(arr[:4])\n",
        "```\n",
        "\n",
        "**Nota: El resultado incluye el índice inicial, pero excluye el índice final.**\n",
        "\n",
        "###**Slicing Negativo**\n",
        "\n",
        "Utilice el operador menos para hacer referencia a un índice desde el final:\n",
        "\n",
        "```python\n",
        "arr = np.array([1, 2, 3, 4, 5, 6, 7])\n",
        "print(arr[-3:-1])\n",
        "```\n",
        "###**Paso**\n",
        "\n",
        "Utilice el valor del paso para determinar el paso del slicing:\n",
        "\n",
        "```python\n",
        "arr = np.array([1, 2, 3, 4, 5, 6, 7])\n",
        "print(arr[1:5:2])\n",
        "print(arr[::2])\n",
        "```\n",
        "###**Slicing Matrices 2-D**\n",
        "\n",
        "Debemos detallar que el segundo elemento tiene índice 1.\n",
        "\n",
        "```python\n",
        "arr = np.array([[1, 2, 3, 4, 5], [6, 7, 8, 9, 10]])\n",
        "print(arr[1, 1:4])\n",
        "print(arr[0:2, 2])\n",
        "print(arr[0:2, 1:4])\n",
        "```"
      ]
    },
    {
      "cell_type": "code",
      "execution_count": null,
      "metadata": {
        "id": "4CbjAEm23qAc"
      },
      "outputs": [],
      "source": [
        "arr = np.array([1, 2, 3, 4, 5, 6, 7])\n",
        "print(arr[1:5])\n",
        "print(arr[4:])\n",
        "print(arr[:4])"
      ]
    },
    {
      "cell_type": "code",
      "execution_count": null,
      "metadata": {
        "id": "VkEfe7yd4ze_"
      },
      "outputs": [],
      "source": [
        "arr = np.array([1, 2, 3, 4, 5, 6, 7])\n",
        "print(arr[-3:-1])"
      ]
    },
    {
      "cell_type": "code",
      "execution_count": null,
      "metadata": {
        "id": "Xc2m7HNR5fHr"
      },
      "outputs": [],
      "source": [
        "arr = np.array([1, 2, 3, 4, 5, 6, 7])\n",
        "#Devuelve todos los demás elementos del índice 1 al índice 5:\n",
        "print(arr[1:5:2])\n",
        "#Devuelve todos los demás elementos de la matriz completa de 2 en 2:\n",
        "print(arr[::2])"
      ]
    },
    {
      "cell_type": "code",
      "execution_count": null,
      "metadata": {
        "id": "wCmMv97y6mru"
      },
      "outputs": [],
      "source": [
        "arr = np.array([[1, 2, 3, 4, 5], [6, 7, 8, 9, 10]])\n",
        "#Desde el segundo elemento, corte los elementos del índice 1 al índice 4 (no incluido):\n",
        "print(arr[1, 1:4])\n",
        "#De ambos elementos, devuelve el índice 2:\n",
        "arr = np.array([[1, 2, 3, 4, 5], [6, 7, 8, 9, 10]])\n",
        "#De ambos elementos, corte el índice 1 al índice 4 (no incluido), esto devolverá una matriz 2-D:\n",
        "print(arr[0:2, 1:4])"
      ]
    },
    {
      "cell_type": "markdown",
      "metadata": {
        "id": "0c2e4g6LVl_O"
      },
      "source": [
        "##**Tipos de Datos NumPy**\n",
        "\n",
        "###**Tipos de datos en Python**\n",
        "\n",
        "Por defecto, Python tiene estos tipos de datos:\n",
        "\n",
        "*   `string`: se utilizan para representar datos de texto, el texto se indica entre comillas. p.ej. `\"A B C D\"`\n",
        "*   `integer`: se utiliza para representar números enteros. p.ej. `-1`, `-2`, `-3`\n",
        "*   `float`: se utiliza para representar números reales. p.ej. `1.2`, `42.42`\n",
        "*   `boolean`: se utiliza para representar Verdadero o Falso. `True` `False`\n",
        "*   `complex`: se utiliza para representar números complejos. p.ej. `1.0 + 2.0j`, `1.5 + 2.5j`\n",
        "\n",
        "###**Tipos de datos en NumPy**\n",
        "\n",
        "NumPy tiene algunos tipos de datos adicionales y se refiere a tipos de datos con un carácter, como `i` para enteros, `u` para enteros sin signo, etc.\n",
        "\n",
        "A continuación se muestra una lista de todos los tipos de datos en NumPy y los caracteres utilizados para representarlos.\n",
        "\n",
        "*   `i` - entero\n",
        "*   `b` - booleano\n",
        "*   `u` - entero sin signo\n",
        "*   `f` - flotar\n",
        "*   `c` - flotador complejo\n",
        "*   `m` - timedelta\n",
        "*   `M` - fecha y hora\n",
        "*   `O` - objeto\n",
        "*   `S` - cuerda\n",
        "*   `U` - cadena Unicode\n",
        "*   `V` - fragmento de memoria fijo para otro tipo (vacío)\n",
        "\n",
        "###**Tipo de datos de una matriz**\n",
        "\n",
        "El objeto de matriz NumPy tiene una propiedad llamada `dtype` que devuelve el tipo de datos de la matriz:\n",
        "\n",
        "```python\n",
        "arr = np.array([1, 2, 3, 4])\n",
        "print(arr.dtype)\n",
        "```\n",
        "\n",
        "###**Creación de matrices con un tipo de datos definido**\n",
        "\n",
        "Usamos la función `array()` para crear matrices, esta función puede tomar un argumento opcional: `dtype` que nos permite definir el tipo de datos esperado de los elementos de la matriz:\n",
        "\n",
        "```python\n",
        "arr = np.array([1, 2, 3, 4], dtype='S')\n",
        "print(arr)\n",
        "print(arr.dtype)\n",
        "```\n",
        "Para `i`, `u`, `f`, `S` and `U` también podemos definir el tamaño.\n",
        "\n",
        "```python\n",
        "arr = np.array([1, 2, 3, 4], dtype='i4')\n",
        "#Creamos una matriz con tipo de datos entero de 4 bytes = 32bits\n",
        "print(arr)\n",
        "print(arr.dtype)\n",
        "```\n",
        "###**¿Qué pasa si un valor no se puede convertir?**\n",
        "\n",
        "Si se da un tipo en el que los elementos no se pueden convertir, NumPy generará un ValueError.\n",
        "\n",
        "ValueError: en Python ValueError se genera cuando el tipo de argumento pasado a una función es inesperado / incorrecto.\n",
        "\n",
        "Ejemplo\n",
        "Una cadena que no sea un número entero como `'a'` no se puede convertir en un número entero (generará un error):\n",
        "\n",
        "```python\n",
        "arr = np.array (['a', '2', '3'], dtype = 'i')\n",
        "```\n",
        "\n",
        "###**Conversión de tipos de datos en matrices existentes**\n",
        "\n",
        "La mejor manera de cambiar el tipo de datos de una matriz existente es hacer una copia de la matriz con el método `astype()`.\n",
        "\n",
        "La función `astype()` crea una copia de la matriz y le permite especificar el tipo de datos como un argumento.\n",
        "\n",
        "El tipo de datos se puede especificar usando una cadena, como `'f'` para float, `'i'` para integer, etc. o puede usar el tipo de datos directamente como `float` para float e `int` para integer.\n",
        "\n",
        "```python\n",
        "#Cambie el tipo de datos de flotante a entero usando 'i' como valor de parámetro:\n",
        "arr = np.array([1.1, 2.1, 3.1])\n",
        "newarr = arr.astype('i')\n",
        "print(newarr)\n",
        "print(newarr.dtype)\n",
        "```\n",
        "```python\n",
        "# Cambie el tipo de datos de flotante a entero utilizando int como valor de parámetro:\n",
        "arr = np.array([1.1, 2.1, 3.1])\n",
        "newarr = arr.astype(int)\n",
        "print(newarr)\n",
        "print(newarr.dtype)\n",
        "```\n",
        "```python\n",
        "# Cambiar el tipo de datos de entero a Booleano\n",
        "arr = np.array([1, 0, 3])\n",
        "newarr = arr.astype(bool)\n",
        "print(newarr)\n",
        "print(newarr.dtype)\n",
        "```\n",
        "\n",
        "---\n",
        "Caracter|Descripción|Ejemplo\n",
        "---|---|---\n",
        "`b`|Byte|`np.dtype('b')`\n",
        "`i`|Signed integer|`np.dtype('i4') == np.int32`\n",
        "`u`|Unsigned integer|`np.dtype('u1') == np.uint8`\n",
        "f`|Floating point|`np.dtype('f8') == np.int64`\n",
        "`c`|Complex floating point|`np.dtype('c16') == np.complex128`\n",
        "`S`, `'a'`|String|`np.dtype('S5')`\n",
        "`U`|Unicode string|`np.dtype('U') == np.str_`\n",
        "`V`|Raw data (void)|`np.dtype('V') == np.void`"
      ]
    },
    {
      "cell_type": "code",
      "execution_count": null,
      "metadata": {
        "id": "zcn-lR_EXAmy"
      },
      "outputs": [],
      "source": [
        "arr = np.array([1, 2, 3, 4])\n",
        "print(arr.dtype)"
      ]
    },
    {
      "cell_type": "code",
      "execution_count": null,
      "metadata": {
        "id": "oflcUd2AbrkL"
      },
      "outputs": [],
      "source": [
        "arr = np.array(['apple', 'banana', 'cherry'])\n",
        "print(arr.dtype)"
      ]
    },
    {
      "cell_type": "code",
      "execution_count": null,
      "metadata": {
        "id": "0E2x47JAgdWc"
      },
      "outputs": [],
      "source": [
        "arr = np.array([1, 2, 3, 4], dtype='S')\n",
        "print(arr)\n",
        "print(arr.dtype)"
      ]
    },
    {
      "cell_type": "code",
      "execution_count": null,
      "metadata": {
        "id": "yqRMva04hFlo"
      },
      "outputs": [],
      "source": [
        "arr = np.array([1, 2, 3, 4], dtype='i4')\n",
        "#Creamos una matriz con tipo de datos entero de 4 bytes\n",
        "print(arr)\n",
        "print(arr.dtype)"
      ]
    },
    {
      "cell_type": "code",
      "execution_count": null,
      "metadata": {
        "id": "JncIFhEXvCxR"
      },
      "outputs": [],
      "source": [
        "# arr = np.array (['a', '2', '3'], dtype = 'i')"
      ]
    },
    {
      "cell_type": "code",
      "execution_count": null,
      "metadata": {
        "id": "FbDljsYHw7Gq"
      },
      "outputs": [],
      "source": [
        "# Cambie el tipo de datos de flotante a entero usando 'i' como valor de parámetro:\n",
        "arr = np.array([1.1, 2.1, 3.1])\n",
        "newarr = arr.astype('i')\n",
        "print(newarr)\n",
        "print(newarr.dtype)"
      ]
    },
    {
      "cell_type": "code",
      "execution_count": null,
      "metadata": {
        "id": "egXfK4jcxEcQ"
      },
      "outputs": [],
      "source": [
        "# Cambie el tipo de datos de flotante a entero utilizando int como valor de parámetro:\n",
        "arr = np.array([1.1, 2.1, 3.1])\n",
        "newarr = arr.astype(int)\n",
        "print(newarr)\n",
        "print(newarr.dtype)"
      ]
    },
    {
      "cell_type": "code",
      "execution_count": null,
      "metadata": {
        "id": "ULFURMKMxmDn"
      },
      "outputs": [],
      "source": [
        "arr = np.array([1, 0, 3])\n",
        "newarr = arr.astype(bool)\n",
        "print(newarr)\n",
        "print(newarr.dtype)"
      ]
    },
    {
      "cell_type": "markdown",
      "metadata": {
        "id": "5tbEEfp-x7QC"
      },
      "source": [
        "##**Forma(Shape) de una matriz NumPy**\n",
        "\n",
        "###**Forma de una matriz**\n",
        "\n",
        "La forma de una matriz es el número de elementos en cada dimensión.\n",
        "\n",
        "###**Obtener la forma de una matriz**\n",
        "\n",
        "Las matrices NumPy tienen un atributo llamado forma que devuelve una tupla con cada índice que tiene el número de elementos correspondientes.\n",
        "\n",
        "```python\n",
        "arr = np.array([[1, 2, 3, 4], [5, 6, 7, 8]])\n",
        "print(arr.shape)\n",
        "```\n",
        "El ejemplo anterior devuelve `(2, 4)`, lo que significa que la matriz tiene 2 dimensiones (filas) y cada dimensión tiene 4 elementos (columnas).\n",
        "\n",
        "Cree una matriz con 5 dimensiones usando `ndmin` con valores `1, 2, 3, 4` y verifique que la última columna tenga el valor `4`:\n",
        "```python\n",
        "arr = np.array([1, 2, 3, 4], ndmin=5)\n",
        "print(arr)\n",
        "print('Forma de la matriz :', arr.shape)\n",
        "```\n",
        "Los enteros en cada índice indican el número de elementos que tiene la dimensión (fila) correspondiente. En el ejemplo anterior en el índice-4 tenemos el valor 4, por lo que podemos decir que la quinta dimensión (4 + 1ª) tiene 4 elementos.\n",
        "\n",
        "###**Reformado de matrices**\n",
        "\n",
        "Reformar significa cambiar la forma de una matriz. La forma de una matriz es el número de elementos en cada dimensión. Al remodelar, podemos agregar o eliminar dimensiones o cambiar el número de elementos en cada dimensión.\n",
        "\n",
        "###**Reformar 1-D a 2-D**\n",
        "\n",
        "Convertir una matriz 1-D con 12 elementos en una matriz 2-D. La dimensión más externa tendrá 4 matrices, cada una con 3 elementos:\n",
        "\n",
        "```python\n",
        "arr = np.array([1, 2, 3, 4, 5, 6, 7, 8, 9, 10, 11, 12])\n",
        "newarr = arr.reshape(4, 3)\n",
        "print(newarr)\n",
        "```\n",
        "\n",
        "###**Reformar 1-D a 3-D**\n",
        "\n",
        "Convierta la siguiente matriz 1-D con 12 elementos en una matriz 3-D. La dimensión más externa tendrá 2 matrices que contienen 3 matrices, cada una con 2 elementos:\n",
        "\n",
        "```python\n",
        "arr = np.array([1, 2, 3, 4, 5, 6, 7, 8, 9, 10, 11, 12])\n",
        "newarr = arr.reshape(2, 3, 2)\n",
        "print(newarr)\n",
        "```\n",
        "\n",
        "¿Podemos reformar en cualquier forma?\n",
        "Sí, siempre que los elementos necesarios para reformar sean iguales en ambas formas.\n",
        "\n",
        "Podemos remodelar una matriz 1D de 8 elementos en 4 elementos en una matriz 2D de 2 filas, pero no podemos remodelarla en una matriz 2D de 3 elementos y 3 filas, ya que eso requeriría 3x3 = 9 elementos."
      ]
    },
    {
      "cell_type": "code",
      "execution_count": null,
      "metadata": {
        "id": "gL3bHpVfy6tS"
      },
      "outputs": [],
      "source": [
        "arr = np.array([[1, 2, 3, 4], [5, 6, 7, 8]])\n",
        "print(arr.shape)"
      ]
    },
    {
      "cell_type": "code",
      "execution_count": null,
      "metadata": {
        "id": "poNt7v1kzgBC"
      },
      "outputs": [],
      "source": [
        "arr = np.array([1, 2, 3, 4], ndmin=5)\n",
        "print(arr)\n",
        "print('Forma de la matriz :', arr.shape)"
      ]
    },
    {
      "cell_type": "code",
      "execution_count": null,
      "metadata": {
        "id": "Gk9Vw5AE0bYx"
      },
      "outputs": [],
      "source": [
        "arr = np.array([1, 2, 3, 4, 5, 6, 7, 8, 9, 10, 11, 12])\n",
        "newarr = arr.reshape(4, 3)\n",
        "print(newarr)"
      ]
    },
    {
      "cell_type": "code",
      "execution_count": null,
      "metadata": {
        "id": "SvWtd3PF05cL"
      },
      "outputs": [],
      "source": [
        "arr = np.array([1, 2, 3, 4, 5, 6, 7, 8, 9, 10, 11, 12])\n",
        "newarr = arr.reshape(2, 3, 2)\n",
        "print(newarr)"
      ]
    },
    {
      "cell_type": "markdown",
      "metadata": {
        "id": "vd6E4IwT10SC"
      },
      "source": [
        "##**Iteración de Matrices NumPy**\n",
        "\n",
        "Iterar significa pasar por los elementos uno por uno. Como tratamos con matrices multidimensionales en NumPy, podemos hacer esto usando el ciclo `for` básico de Python.\n",
        "\n",
        "###**Iterar una Matriz 1-D**\n",
        "\n",
        "Si iteramos en una matriz 1-D, pasará por cada elemento uno por uno.\n",
        "\n",
        "```python\n",
        "arr = np.array([1, 2, 3])\n",
        "for x in arr:\n",
        "  print(x)\n",
        "```\n",
        "\n",
        "###**Iterar una Matriz 2-D**\n",
        "\n",
        "En una matriz 2-D, pasará por todas las filas.\n",
        "\n",
        "```python\n",
        "arr = np.array([[1, 2, 3], [4, 5, 6]])\n",
        "for x in arr:\n",
        "  print(x)\n",
        "```\n",
        "Si iteramos en una matriz n-D, pasará por la n-1a dimensión una por una.\n",
        "\n",
        "Para devolver los valores reales, los escalares, tenemos que iterar las matrices en cada dimensión.\n",
        "\n",
        "```python\n",
        "#Iterar cada elemento escalar de la matriz 2-D:\n",
        "arr = np.array([[1, 2, 3], [4, 5, 6]])\n",
        "for x in arr:\n",
        "  for y in x:\n",
        "    print(y)\n",
        "```\n",
        "\n",
        "###**Iterar una Matriz 3-D**\n",
        "\n",
        "En una matriz 3-D, pasará por todas las matrices 2-D.\n",
        "\n",
        "```python\n",
        "arr = np.array([[[1, 2, 3], [4, 5, 6]], [[7, 8, 9], [10, 11, 12]]])\n",
        "for x in arr:\n",
        "  print(x)\n",
        "```\n",
        "Para devolver los valores reales (escalares), tenemos que iterar las matrices en cada dimensión.\n",
        "\n",
        "```python\n",
        "#Iterar cada elemento escalar de la matriz 2-D:\n",
        "arr = np.array([[[1, 2, 3], [4, 5, 6]], [[7, 8, 9], [10, 11, 12]]])\n",
        "for x in arr:\n",
        "  for y in x:\n",
        "    for z in y:\n",
        "      print(z)\n",
        "```\n",
        "\n",
        "###**Iterando matrices usando `nditer()`**\n",
        "\n",
        "La función `nditer()` es una función de ayuda que se puede utilizar desde iteraciones muy básicas hasta muy avanzadas. Resuelve algunos problemas básicos que enfrentamos en iteración,\n",
        "\n",
        "###**Iterando en cada elemento escalar**\n",
        "\n",
        "En ciclos `for` básicos, iterando a través de cada escalar de una matriz, necesitamos usar `n` ciclos `for` que pueden ser difíciles de escribir para matrices con una dimensionalidad muy alta. `nditer()` es un objeto iterador multidimensional eficiente para iterar sobre matrices.\n",
        "Ejemplo\n",
        "Itere a través de la siguiente matriz 3-D:\n",
        "\n",
        "```python\n",
        "arr = np.array([[[1, 2], [3, 4]], [[5, 6], [7, 8]]])\n",
        "for x in np.nditer(arr):\n",
        "  print(x)\n",
        "```"
      ]
    },
    {
      "cell_type": "code",
      "execution_count": null,
      "metadata": {
        "id": "yNOGFqnc6xKn"
      },
      "outputs": [],
      "source": [
        "arr = np.array([1, 2, 3])\n",
        "for x in arr:\n",
        "  print(x)"
      ]
    },
    {
      "cell_type": "code",
      "execution_count": null,
      "metadata": {
        "id": "dwiHJXZJ7f4f"
      },
      "outputs": [],
      "source": [
        "arr = np.array([[1, 2, 3], [4, 5, 6]])\n",
        "for x in arr:\n",
        "  print(x)"
      ]
    },
    {
      "cell_type": "code",
      "execution_count": null,
      "metadata": {
        "id": "nx-CKwmK73zT"
      },
      "outputs": [],
      "source": [
        "#Iterar cada elemento escalar de la matriz 2-D:\n",
        "arr = np.array([[1, 2, 3], [4, 5, 6]])\n",
        "for x in arr:\n",
        "    print('Fila', x)\n",
        "    for y in x:\n",
        "        print('columna', y)"
      ]
    },
    {
      "cell_type": "code",
      "execution_count": null,
      "metadata": {
        "id": "gsNvg-Cd9GNr"
      },
      "outputs": [],
      "source": [
        "arr = np.array([[[1, 2, 3], [4, 5, 6]], [[7, 8, 9], [10, 11, 12]]])\n",
        "for x in arr:\n",
        "    print(x)"
      ]
    },
    {
      "cell_type": "code",
      "execution_count": null,
      "metadata": {
        "id": "Q2dC-Fzv9I-p"
      },
      "outputs": [],
      "source": [
        "arr = np.array([[[1, 2, 3], [4, 5, 6]], [[7, 8, 9], [10, 11, 12]]])\n",
        "for x in arr:\n",
        "  for y in x:\n",
        "    for z in y:\n",
        "      print(z)"
      ]
    },
    {
      "cell_type": "code",
      "execution_count": null,
      "metadata": {
        "id": "t4mAniKf9KGv"
      },
      "outputs": [],
      "source": [
        "arr = np.array([[[1, 2, 3], [4, 5, 6]], [[7, 8, 9], [10, 11, 12]]])\n",
        "for x in arr:\n",
        "    print('Matriz 2D',list(x))\n",
        "    for y in x:\n",
        "        print('\\tMatriz 1D',list(y))\n",
        "        for z in y:\n",
        "            print('\\t\\tMatriz 0D',z)"
      ]
    },
    {
      "cell_type": "code",
      "execution_count": null,
      "metadata": {
        "id": "UngLYJJd-7mO"
      },
      "outputs": [],
      "source": [
        "arr = np.array([[[1, 2], [3, 4]], [[5, 6], [7, 8]]])\n",
        "for x in np.nditer(arr):\n",
        "  print(x)"
      ]
    },
    {
      "cell_type": "markdown",
      "metadata": {
        "id": "lSuhukb__k0y"
      },
      "source": [
        "##**Búsqueda en Matrices NumPy**\n",
        "\n",
        "Puede buscar en una matriz un valor determinado y devolver los índices que coinciden. Para buscar una matriz, use el método `where()`.\n",
        "\n",
        "```python\n",
        "arr = np.array([1, 2, 3, 4, 5, 4, 4])\n",
        "x = np.where(arr == 4)\n",
        "print(x)\n",
        "```\n",
        "El ejemplo anterior devolverá una tupla: `(array([3, 5, 6]),)`\n",
        "Lo que significa que el valor 4 está presente en los índices 3, 5 y 6.\n",
        "\n",
        "Ejemplo: Detallar los índices pares.\n",
        "```python\n",
        "arr = np.array([1, 2, 3, 4, 5, 6, 7, 8])\n",
        "x = np.where(arr%2 == 0)\n",
        "print(x)\n",
        "```\n",
        "Ejemplo: Detallar los indices impares.\n",
        "```python\n",
        "arr = np.array([1, 2, 3, 4, 5, 6, 7, 8])\n",
        "x = np.where(arr%2 == 1)\n",
        "print(x)\n",
        "```"
      ]
    },
    {
      "cell_type": "code",
      "execution_count": null,
      "metadata": {
        "id": "lxMxVwc__y6l"
      },
      "outputs": [],
      "source": [
        "arr = np.array([1, 2, 3, 4, 5, 4, 4])\n",
        "x = np.where(arr == 4)\n",
        "print(x)"
      ]
    },
    {
      "cell_type": "code",
      "execution_count": null,
      "metadata": {
        "id": "e2HrXodOAWlw"
      },
      "outputs": [],
      "source": [
        "arr = np.array([1, 2, 3, 4, 5, 6, 7, 8])\n",
        "x = np.where(arr%2 == 0)\n",
        "print(x)"
      ]
    },
    {
      "cell_type": "code",
      "execution_count": null,
      "metadata": {
        "id": "1Z5cxJv-AYWm"
      },
      "outputs": [],
      "source": [
        "arr = np.array([1, 2, 3, 4, 5, 6, 7, 8])\n",
        "x = np.where(arr%2 == 1)\n",
        "print(x)"
      ]
    },
    {
      "cell_type": "markdown",
      "metadata": {
        "id": "iZPn_JqoEHQn"
      },
      "source": [
        "##**Filtros en Matrices NumPy**\n",
        "\n",
        "Obtener algunos elementos de una matriz existente y crear una nueva matriz a partir de ellos se llama filtrado. En NumPy, filtrar una matriz se hace usando una lista de índice booleano. Una lista de índices booleanos es una lista de valores booleanos correspondientes a los índices de la matriz.\n",
        "\n",
        "Si el valor de un índice es Verdadero, ese elemento está contenido en la matriz filtrada, si el valor de ese índice es Falso, ese elemento se excluye de la matriz filtrada.\n",
        "\n",
        "```python\n",
        "arr = np.array([41, 42, 43, 44])\n",
        "x = [True, False, True, False]\n",
        "newarr = arr[x]\n",
        "print(newarr)\n",
        "```\n",
        "\n",
        "###**Filtros en Matrices NumPy con condicionales**\n",
        "\n",
        "En el ejemplo anterior codificamos los valores Verdadero y Falso, pero el uso común es crear una matriz de filtros basada en condiciones.\n",
        "\n",
        "```python\n",
        "arr = np.array([41, 42, 43, 44])\n",
        "# Creamos una lista vacía\n",
        "filter_arr = []\n",
        "# Recorremos los elementos de la matriz\n",
        "for element in arr:\n",
        "  # Si el elemento es mayor a 42 se marca como verdadero de lo contrario se marca falso\n",
        "  if element > 42:\n",
        "    filter_arr.append(True)\n",
        "  else:\n",
        "    filter_arr.append(False)\n",
        "#Creamos la nueva matriz filtrada\n",
        "newarr = arr[filter_arr]\n",
        "print(filter_arr)\n",
        "print(newarr)\n",
        "```"
      ]
    },
    {
      "cell_type": "code",
      "execution_count": null,
      "metadata": {
        "id": "N2E4vDHDEfIK"
      },
      "outputs": [],
      "source": [
        "arr = np.array([41, 42, 43, 44])\n",
        "x = [True, False, True, False]\n",
        "newarr = arr[x]\n",
        "print(newarr)"
      ]
    },
    {
      "cell_type": "code",
      "execution_count": null,
      "metadata": {
        "id": "ET2lXDDvFF6U"
      },
      "outputs": [],
      "source": [
        "arr = np.array([41, 42, 43, 44])\n",
        "# Creamos una lista vacía\n",
        "filter_arr = []\n",
        "# Recorremos los elementos de la matriz\n",
        "for element in arr:\n",
        "  # Si el elemento es mayor a 42 se marca como verdadero de lo contrario se marca falso\n",
        "  if element > 42:\n",
        "    filter_arr.append(True)\n",
        "  else:\n",
        "    filter_arr.append(False)\n",
        "#Creamos la nueva matriz filtrada\n",
        "newarr = arr[filter_arr]\n",
        "print(filter_arr)\n",
        "print(newarr)"
      ]
    },
    {
      "cell_type": "code",
      "execution_count": null,
      "metadata": {
        "id": "-LSDkTGsFLAF"
      },
      "outputs": [],
      "source": [
        "#Ejemplo\n",
        "arr = np.array([1, 2, 3, 4, 5, 6, 7])\n",
        "filter_arr = []\n",
        "for element in arr:\n",
        "    if element % 2 == 0:\n",
        "        filter_arr.append(True)\n",
        "    else:\n",
        "        filter_arr.append(False)\n",
        "newarr = arr[filter_arr]\n",
        "print(filter_arr)\n",
        "print(newarr)"
      ]
    },
    {
      "cell_type": "markdown",
      "metadata": {
        "id": "uciMsYcnFW93"
      },
      "source": [
        "##**Otras formas de crear matrices en NumPy**\n",
        "\n",
        "Se pueden crear matrices usando funciones detalladas por NumPy de la siguiente manera:\n",
        "\n",
        "\n",
        "```python\n",
        "a = np.zeros((2,2))                        # Creación de un array de zeros\n",
        "print(\"Array de ceros\", a)                 # Imprime \"[[ 0.  0.]\n",
        "                                           #          [ 0.  0.]]\"\n",
        "\n",
        "b = np.ones((1,2))                         # Creación de un array de unos\n",
        "print(\"Arrays de unos\", b)                 # Imprime \"[[ 1.  1.]]\"\n",
        "\n",
        "c = np.full((2,2), 8)                      # Creación de un array de una costante\n",
        "print(\"Array constante\", c)                # Imprime \"[[ 8.  8.]\n",
        "                                           #          [ 8.  8.]]\"\n",
        "\n",
        "d = np.eye(2)                              # Creación de la matriz indentidad de 2x2.\n",
        "print(\"Matriz identidad 2x2\", d)           # Imprime \"[[ 1.  0.]\n",
        "                                           #          [ 0.  1.]]\"\n",
        "\n",
        "e = np.arange(0, 20, 2)                    # Creación de un vector lleno de una secuencia lineal\n",
        "print(\"Array de una secuencia lineal\" ,e)  # que comience en 0, finalice en 18, con paso 2.\n",
        "\n",
        "\n",
        "f = np.linspace(0, 1, 5)                   # Crea un vector de cinco valores espaciados\n",
        "print(\"Array de una secuencia lineal2\",f)  # uniformemente entre 0 y 1.   \n",
        "\n",
        "\n",
        "g = np.random.random((2,2))                # Creación de una matriz de 2x2 de valores aleatorios.\n",
        "print(\"Array de números aleatorios(u)\", g) # distribuidos uniformemente.\n",
        "\n",
        "\n",
        "h = np.random.normal(0, 1, (3, 3))         # Creación una matriz 3x3 de valores aleatorios normalmente\n",
        "print(\"Array de números aleatorios(n)\", h) # distribuidos con media 0 y desviación estándar 1.\n",
        "\n",
        "\n",
        "i = np.random.randint(0, 10, (3, 3))       # Creación de una matriz 3x3 de números enteros aleatorios\n",
        "print(\"Array de números aleatorios(i)\",i)  # en el intervalo [0,10)\n",
        "```\n",
        "\n"
      ]
    },
    {
      "cell_type": "code",
      "execution_count": null,
      "metadata": {
        "id": "kF0JbmkPFnqB"
      },
      "outputs": [],
      "source": [
        "print('---------------------++++++++++++++++++----------------------')\n",
        "a = np.zeros((2,2))                        # Creación de un array de zeros\n",
        "print(\"Array de ceros\", a)                 # Imprime \"[[ 0.  0.]\n",
        "                                           #          [ 0.  0.]]\"\n",
        "print('---------------------++++++++++++++++++----------------------')\n",
        "b = np.ones((1,2))                         # Creación de un array de unos\n",
        "print(\"Arrays de unos\", b)                 # Imprime \"[[ 1.  1.]]\"\n",
        "print('---------------------++++++++++++++++++----------------------')\n",
        "c = np.full((2,2), 8)                      # Creación de un array de una costante\n",
        "print(\"Array constante\", c)                # Imprime \"[[ 8.  8.]\n",
        "                                           #          [ 8.  8.]]\"\n",
        "print('---------------------++++++++++++++++++----------------------')\n",
        "d = np.eye(2)                              # Creación de la matriz indentidad de 2x2.\n",
        "print(\"Matriz identidad 2x2\", d)           # Imprime \"[[ 1.  0.]\n",
        "                                           #          [ 0.  1.]]\"\n",
        "print('---------------------++++++++++++++++++----------------------')\n",
        "e = np.arange(0, 20, 2)                    # Creación de un vector lleno de una secuencia lineal\n",
        "print(\"Array de una secuencia lineal\" ,e)  # que comience en 0, finalice en 18, con paso 2.\n",
        "print('---------------------++++++++++++++++++----------------------')\n",
        "f = np.linspace(0, 1, 5)                   # Crea un vector de cinco valores espaciados\n",
        "print(\"Array de una secuencia lineal2\",f)  # uniformemente entre 0 y 1.\n",
        "print('---------------------++++++++++++++++++----------------------')\n",
        "g = np.random.random((2,2))                # Creación de una matriz de 2x2 de valores aleatorios.\n",
        "print(\"Array de números aleatorios(u)\", g) # distribuidos uniformemente.\n",
        "print('---------------------++++++++++++++++++----------------------')\n",
        "h = np.random.normal(0, 1, (3, 3))         # Creación una matriz 3x3 de valores aleatorios normalmente\n",
        "print(\"Array de números aleatorios(n)\", h) # distribuidos con media 0 y desviación estándar 1.\n",
        "print('---------------------++++++++++++++++++----------------------')\n",
        "i = np.random.randint(0, 10, (3, 3))       # Creación de una matriz 3x3 de números enteros aleatorios\n",
        "print(\"Array de números aleatorios(i)\",i)  # en el intervalo [0,10)\n",
        "print('---------------------++++++++++++++++++----------------------')"
      ]
    },
    {
      "cell_type": "markdown",
      "metadata": {
        "id": "s0yn8hzNF7Ok"
      },
      "source": [
        "##**Operaciones Básicas**\n",
        "\n",
        "Las operaciones matemáticas básicas entre matrices, son operaciones elemento a elemento, y están disponibles, tanto como sobrecarga de operadores como en funciones en NumPy.\n",
        "\n",
        "\n",
        "\n",
        "```python\n",
        "x = np.array([[1,2],[3,4]], dtype=np.float64)\n",
        "y = np.array([[5,6],[7,8]], dtype=np.float64)\n",
        "# Suma elemento a elemento\n",
        "print(x + y)\n",
        "print(np.add(x, y))\n",
        "# Resta elemento a elemento.\n",
        "print(x - y)\n",
        "print(np.subtract(x, y))\n",
        "# Multiplicación elemento a elemento.\n",
        "print(x * y)\n",
        "print(np.multiply(x, y))\n",
        "# División elemento a elemento.\n",
        "print(x / y)\n",
        "print(np.divide(x, y))\n",
        "# Raiz cuadrada a cada elmento.\n",
        "print(np.sqrt(x))\n",
        "```\n",
        "Nótese que la multiplicación mediante el operador `*` corresponde a una multiplicación elemento a elemento entre dos matrices. En Python, la multiplicación matricial entre dos matrices se realiza mediante la función punto (`dot`).\n",
        "\n",
        "```python\n",
        "x = np.array([[1,2],[3,4]])\n",
        "y = np.array([[5,6],[7,8]])\n",
        "v = np.array([9,10])\n",
        "w = np.array([11, 12])\n",
        "# Producto entre vectores\n",
        "print(\"Producto vector-vector\",v.dot(w))\n",
        "print(\"Producto vector-vector\", np.dot(v, w),\"\\n\")\n",
        "# Producto matriz/vector;\n",
        "print(\"Producto matriz/vector \\n\",x.dot(v))\n",
        "print(\"Producto matriz/vector \\n\", np.dot(x, v),\"\\n\")\n",
        "# Producto matrix/matrix ;\n",
        "print(\"Producto matriz/matriz \\n\",x.dot(y),\"\\n\")\n",
        "print(\"Producto matriz/matriz \\n\",np.dot(x, y))\n",
        "```\n",
        "\n"
      ]
    },
    {
      "cell_type": "code",
      "execution_count": null,
      "metadata": {
        "id": "baCLFN1KMB1j"
      },
      "outputs": [],
      "source": [
        "x = np.array([[1,2],[3,4]], dtype=np.float64)\n",
        "y = np.array([[5,6],[7,8]], dtype=np.float64)\n",
        "# Suma elemento a elemento\n",
        "print('---------------------++++++++++++++++++----------------------')\n",
        "print('Suma elemento a elemento')\n",
        "print(x + y)\n",
        "print(np.add(x, y))\n",
        "print('---------------------++++++++++++++++++----------------------')\n",
        "# Resta elemento a elemento.\n",
        "print('Resta elemento a elemento')\n",
        "print(x - y)\n",
        "print(np.subtract(x, y))\n",
        "print('---------------------++++++++++++++++++----------------------')\n",
        "# Multiplicación elemento a elemento.\n",
        "print('Multiplicación elemento a elemento')\n",
        "print(x * y)\n",
        "print(np.multiply(x, y))\n",
        "print('---------------------++++++++++++++++++----------------------')\n",
        "# División elemento a elemento.\n",
        "print('División elemento a elemento')\n",
        "print(x / y)\n",
        "print(np.divide(x, y))\n",
        "print('---------------------++++++++++++++++++----------------------')\n",
        "# Raiz cuadrada a cada elmento.\n",
        "print('Raiz cuadrada a cada elmento')\n",
        "print(np.sqrt(x))\n",
        "print('---------------------++++++++++++++++++----------------------')"
      ]
    },
    {
      "cell_type": "code",
      "execution_count": null,
      "metadata": {
        "id": "KB0x8niNMxJ8"
      },
      "outputs": [],
      "source": [
        "x = np.array([[1,2],[3,4]])\n",
        "y = np.array([[5,6],[7,8]])\n",
        "\n",
        "v = np.array([9,10])\n",
        "w = np.array([11, 12])\n",
        "\n",
        "# Producto entre vectores\n",
        "print(\"Producto vector-vector\",v.dot(w))\n",
        "print(\"Producto vector-vector\", np.dot(v, w),\"\\n\")\n",
        "\n",
        "# Producto matriz/vector;\n",
        "print(\"Producto matriz/vector \\n\",x.dot(v))\n",
        "print(\"Producto matriz/vector \\n\", np.dot(x, v),\"\\n\")\n",
        "\n",
        "# Producto matrix/matrix ;\n",
        "print(\"Producto matriz/matriz \\n\",x.dot(y),\"\\n\")\n",
        "print(\"Producto matriz/matriz \\n\",np.dot(x, y))"
      ]
    },
    {
      "cell_type": "markdown",
      "metadata": {
        "id": "TBP_yrGfZZKn"
      },
      "source": [
        "<p><a name=\"s2\"></a></p>\n",
        "\n",
        "# **02. Pandas**\n",
        "[[Contenidos]](#contents)\n",
        "\n",
        "<p><img alt=\"Pandas\" height=\"200px\" src=\"https://raw.githubusercontent.com/juliancastillo-iudigital/FundamentosProgramacionPosgrados2021-1/feee1baad810e4671256f00d1231bd0b94fffdd1/pandas.svg\" align=\"left\" hspace=\"10px\" vspace=\"0px\"></p></div>"
      ]
    },
    {
      "cell_type": "markdown",
      "metadata": {
        "id": "SNfdns2zR6Ub"
      },
      "source": [
        "##**¿Qué es [Pandas](https://pandas.pydata.org/)?**\n",
        "\n",
        "En Computación y Ciencia de datos, pandas es una biblioteca de software escrita como extensión de NumPy para manipulación y análisis de datos para el lenguaje de programación Python. En particular, ofrece estructuras de datos y operaciones para manipular tablas numéricas y series temporales. Es un software libre distribuido bajo la licencia [BSD](https://es.wikipedia.org/wiki/Licencia_BSD) versión tres cláusulas.​ El nombre deriva del término \"datos de panel\", término de econometría que designa datos que combinan una dimensión temporal con otra dimensión transversal.\n",
        "\n",
        "###**Características de la biblioteca**\n",
        "\n",
        "*   Tipo de datos DataFrame para manipulación de datos con indexación integrada.\n",
        "*   Herramientas para leer y escribir datos entre estructuras de dato en-memoria y formatos de archivo variados.\n",
        "*   Alineación de dato y manejo integrado de datos faltantes.\n",
        "*   Reestructuración y segmentación de conjuntos de datos.\n",
        "*   Segmentación vertical basada en etiquetas, indexación elegante, y segmentación horizontal de grandes conjuntos de datos.\n",
        "*   Inserción y eliminación de columnas en estructuras de datos.\n",
        "*   Agrupación predefinida en la biblioteca lo que permite realizar cadenas de operaciones dividir-aplicar-combinar sobre conjuntos de datos.\n",
        "*   Mezcla y unión de datos.\n",
        "*   Indexación jerárquica de ejes para trabajar con datos de altas dimensiones en estructuras de datos de menor dimensión.\n",
        "*   Funcionalidad de series de tiempo: generación de rangos de fechas y conversión de frecuencias, desplazamiento de ventanas estadísticas y de regresiones lineales, desplazamiento de fechas y retrasos.\n",
        "\n",
        "La biblioteca ha sido altamente optimizada en cuanto a rendimiento, con caminos de código crítico escritos en Cython o en C.\n",
        "\n",
        "\n",
        "\n",
        "*   Pandas nos permite analizar big data y sacar conclusiones basadas en teorías estadísticas.\n",
        "*   Los pandas pueden limpiar conjuntos de datos desordenados y hacerlos legibles y relevantes.\n",
        "*   Los datos relevantes son muy importantes en la ciencia de datos.\n",
        "\n",
        "###**¿Qué pueden hacer Pandas?**\n",
        "\n",
        "Pandas te da respuestas sobre los datos. Como:\n",
        "\n",
        "*   ¿Existe una correlación entre dos o más columnas?\n",
        "*   ¿Qué es el valor medio?\n",
        "*   ¿Valor máximo?\n",
        "*   ¿Valor mínimo?\n",
        "\n",
        "Pandas también pueden eliminar filas que no son relevantes o que contienen valores incorrectos, como valores vacíos o NULL. A esto se le llama limpiar los datos.\n",
        "\n",
        "###**¿Dónde está el código fuente de Pandas?**\n",
        "\n",
        "El código fuente de Pandas se encuentra en este repositorio de github\n",
        "*   [https://github.com/pandas-dev/pandas](https://github.com/pandas-dev/pandas)\n"
      ]
    },
    {
      "cell_type": "markdown",
      "metadata": {
        "id": "wuU6KxSRPcbD"
      },
      "source": [
        "##**Instalación de Pandas**\n",
        "\n",
        "Instalar Pandas en Google Colab no es necesario, dicho módulo se encuentra instalado, en caso de necesitar la instalación relacionamos un `pip install` con la llamada al módulo Pandas.\n",
        "\n",
        "\n",
        "```python\n",
        "!pip install Pandas\n",
        "```\n",
        "Importar el módulo Pandas se realiza con la palabra clave `import` y nótese el alias asignado al módulo es `pd` el cual es de uso generalizado en la comunidad de Pandas.\n",
        "\n",
        "```python\n",
        "import pandas as pd\n",
        "```\n",
        "\n",
        "Para verficar la versión de Pandas se puede realizar con `!pip list` o con la llamada especifica usando `!pip show pandas` o `!pip show --verbose pandas`\n",
        "\n",
        "\n"
      ]
    },
    {
      "cell_type": "code",
      "source": [
        "!pip install Pandas"
      ],
      "metadata": {
        "id": "VaGvRVNtDZdG",
        "outputId": "292f4985-871b-4f48-d9e5-27d896480bef",
        "colab": {
          "base_uri": "https://localhost:8080/"
        }
      },
      "execution_count": 2,
      "outputs": [
        {
          "output_type": "stream",
          "name": "stdout",
          "text": [
            "Requirement already satisfied: Pandas in /usr/local/lib/python3.10/dist-packages (1.5.3)\n",
            "Requirement already satisfied: python-dateutil>=2.8.1 in /usr/local/lib/python3.10/dist-packages (from Pandas) (2.8.2)\n",
            "Requirement already satisfied: pytz>=2020.1 in /usr/local/lib/python3.10/dist-packages (from Pandas) (2023.3.post1)\n",
            "Requirement already satisfied: numpy>=1.21.0 in /usr/local/lib/python3.10/dist-packages (from Pandas) (1.23.5)\n",
            "Requirement already satisfied: six>=1.5 in /usr/local/lib/python3.10/dist-packages (from python-dateutil>=2.8.1->Pandas) (1.16.0)\n"
          ]
        }
      ]
    },
    {
      "cell_type": "code",
      "execution_count": 3,
      "metadata": {
        "id": "H_UKkRiGY9C4"
      },
      "outputs": [],
      "source": [
        "import pandas as pd"
      ]
    },
    {
      "cell_type": "code",
      "execution_count": 4,
      "metadata": {
        "id": "3-8b5oteY_jA",
        "outputId": "c56218ca-6e7c-4ffe-84c6-891fcbb75f8e",
        "colab": {
          "base_uri": "https://localhost:8080/"
        }
      },
      "outputs": [
        {
          "output_type": "stream",
          "name": "stdout",
          "text": [
            "Name: pandas\n",
            "Version: 1.5.3\n",
            "Summary: Powerful data structures for data analysis, time series, and statistics\n",
            "Home-page: https://pandas.pydata.org\n",
            "Author: The Pandas Development Team\n",
            "Author-email: pandas-dev@python.org\n",
            "License: BSD-3-Clause\n",
            "Location: /usr/local/lib/python3.10/dist-packages\n",
            "Requires: numpy, python-dateutil, pytz\n",
            "Required-by: altair, arviz, bigframes, bokeh, bqplot, cmdstanpy, cufflinks, datascience, db-dtypes, dopamine-rl, fastai, geemap, geopandas, google-colab, gspread-dataframe, holoviews, ibis-framework, lida, mizani, mlxtend, pandas-datareader, pandas-gbq, panel, plotnine, prophet, pymc, seaborn, sklearn-pandas, statsmodels, vega-datasets, xarray, yfinance\n"
          ]
        }
      ],
      "source": [
        "!pip show pandas"
      ]
    },
    {
      "cell_type": "code",
      "execution_count": 5,
      "metadata": {
        "id": "zvxBLDKaP4gV",
        "outputId": "bab32bbf-67a5-4ab2-c5a1-5710878c1b23",
        "colab": {
          "base_uri": "https://localhost:8080/"
        }
      },
      "outputs": [
        {
          "output_type": "stream",
          "name": "stdout",
          "text": [
            "Name: pandas\n",
            "Version: 1.5.3\n",
            "Summary: Powerful data structures for data analysis, time series, and statistics\n",
            "Home-page: https://pandas.pydata.org\n",
            "Author: The Pandas Development Team\n",
            "Author-email: pandas-dev@python.org\n",
            "License: BSD-3-Clause\n",
            "Location: /usr/local/lib/python3.10/dist-packages\n",
            "Requires: numpy, python-dateutil, pytz\n",
            "Required-by: altair, arviz, bigframes, bokeh, bqplot, cmdstanpy, cufflinks, datascience, db-dtypes, dopamine-rl, fastai, geemap, geopandas, google-colab, gspread-dataframe, holoviews, ibis-framework, lida, mizani, mlxtend, pandas-datareader, pandas-gbq, panel, plotnine, prophet, pymc, seaborn, sklearn-pandas, statsmodels, vega-datasets, xarray, yfinance\n",
            "Metadata-Version: 2.1\n",
            "Installer: pip\n",
            "Classifiers:\n",
            "  Development Status :: 5 - Production/Stable\n",
            "  Environment :: Console\n",
            "  Intended Audience :: Science/Research\n",
            "  License :: OSI Approved :: BSD License\n",
            "  Operating System :: OS Independent\n",
            "  Programming Language :: Cython\n",
            "  Programming Language :: Python\n",
            "  Programming Language :: Python :: 3\n",
            "  Programming Language :: Python :: 3 :: Only\n",
            "  Programming Language :: Python :: 3.8\n",
            "  Programming Language :: Python :: 3.9\n",
            "  Programming Language :: Python :: 3.10\n",
            "  Programming Language :: Python :: 3.11\n",
            "  Topic :: Scientific/Engineering\n",
            "Entry-points:\n",
            "  [pandas_plotting_backends]\n",
            "  matplotlib = pandas:plotting._matplotlib\n",
            "Project-URLs:\n",
            "  Bug Tracker, https://github.com/pandas-dev/pandas/issues\n",
            "  Documentation, https://pandas.pydata.org/docs/\n",
            "  Source Code, https://github.com/pandas-dev/pandas\n"
          ]
        }
      ],
      "source": [
        "!pip show --verbose pandas"
      ]
    },
    {
      "cell_type": "markdown",
      "metadata": {
        "id": "oGCSS9B2X6Jg"
      },
      "source": [
        "##**¿Qué es una serie de Pandas?**\n",
        "\n",
        "Una serie Pandas es como una columna en una tabla. Es una matriz unidimensional que contiene datos de cualquier tipo.\n",
        "\n",
        "```python\n",
        "a = [1, 7, 2]\n",
        "myvar = pd.Series(a)\n",
        "print(myvar)\n",
        "```\n",
        "\n"
      ]
    },
    {
      "cell_type": "code",
      "execution_count": 6,
      "metadata": {
        "id": "SqGU9O8oZNDm",
        "outputId": "41b03685-b856-423e-caff-7a3ab12f0879",
        "colab": {
          "base_uri": "https://localhost:8080/"
        }
      },
      "outputs": [
        {
          "output_type": "stream",
          "name": "stdout",
          "text": [
            "0    1\n",
            "1    7\n",
            "2    2\n",
            "dtype: int64\n"
          ]
        }
      ],
      "source": [
        "a = [1, 7, 2]\n",
        "myvar = pd.Series(a)\n",
        "print(myvar)"
      ]
    },
    {
      "cell_type": "markdown",
      "metadata": {
        "id": "dKudNhhCZdnC"
      },
      "source": [
        "##**Etiquetas-Labels**\n",
        "\n",
        "Si no se especifica nada más, los valores se etiquetan con su número de índice. El primer valor tiene índice 0, el segundo valor tiene índice 1, etc.\n",
        "\n",
        "Esta etiqueta se puede utilizar para acceder a un valor especificado.\n",
        "\n",
        "Ejemplo\n",
        "Devuelve el primer valor de la serie:\n",
        "\n",
        "```python\n",
        "print(myvar[0])\n",
        "```\n",
        "\n",
        "###**Crear etiquetas**\n",
        "\n",
        "Con el argumento de índice, puede nombrar sus propias etiquetas.\n",
        "Ejemplo\n",
        "Crea tus propias etiquetas:\n",
        "```python\n",
        "a = [1, 7, 2]\n",
        "myvar = pd.Series(a, index = [\"x\", \"y\", \"z\"])\n",
        "print(myvar)\n",
        "```\n",
        "\n",
        "Cuando haya creado etiquetas, puede acceder a un elemento consultando la etiqueta.\n",
        "\n",
        "Ejemplo\n",
        "Devuelve el valor de \"y\":\n",
        "\n",
        "```python\n",
        "print(myvar[\"y\"])\n",
        "```\n",
        "\n",
        "###**Objetos `clave/valor` como serie**\n",
        "\n",
        "También puede utilizar un objeto `clave/valor`, como un diccionario, al crear una serie.\n",
        "\n",
        "Ejemplo\n",
        "Cree una serie Pandas simple a partir de un diccionario:\n",
        "```python\n",
        "calories = {\"day1\": 420, \"day2\": 380, \"day3\": 390}\n",
        "myvar = pd.Series(calories)\n",
        "print(myvar)\n",
        "```\n",
        "Nota: Las claves del diccionario se convierten en etiquetas.\n",
        "\n",
        "Para seleccionar solo algunos de los elementos del diccionario, use el argumento del índice y especifique solo los elementos que desea incluir en la Serie.\n",
        "\n",
        "Ejemplo\n",
        "Cree una serie utilizando solo datos de \"día1\" y \"día2\":\n",
        "```python\n",
        "calories = {\"day1\": 420, \"day2\": 380, \"day3\": 390}\n",
        "myvar = pd.Series(calories, index = [\"day1\", \"day2\"])\n",
        "print(myvar)\n",
        "```\n"
      ]
    },
    {
      "cell_type": "code",
      "execution_count": null,
      "metadata": {
        "id": "6icFJDx6bmI3"
      },
      "outputs": [],
      "source": [
        "print(myvar[0])"
      ]
    },
    {
      "cell_type": "code",
      "execution_count": null,
      "metadata": {
        "id": "rao5GcnfcIzi"
      },
      "outputs": [],
      "source": [
        "a = [1, 7, 2]\n",
        "myvar = pd.Series(a, index = [\"x\", \"y\", \"z\"])\n",
        "print(myvar)"
      ]
    },
    {
      "cell_type": "code",
      "execution_count": null,
      "metadata": {
        "id": "8474bnmMcSj8"
      },
      "outputs": [],
      "source": [
        "print(myvar[\"y\"])"
      ]
    },
    {
      "cell_type": "code",
      "execution_count": null,
      "metadata": {
        "id": "jdIeQIyccuT3"
      },
      "outputs": [],
      "source": [
        "calories = {\"day1\": 420, \"day2\": 380, \"day3\": 390}\n",
        "myvar = pd.Series(calories)\n",
        "print(myvar)"
      ]
    },
    {
      "cell_type": "code",
      "execution_count": null,
      "metadata": {
        "id": "wmc6AOiwdAFl"
      },
      "outputs": [],
      "source": [
        "calories = {\"day1\": 420, \"day2\": 380, \"day3\": 390}\n",
        "myvar = pd.Series(calories, index = [\"day1\", \"day2\"])\n",
        "print(myvar)"
      ]
    },
    {
      "cell_type": "markdown",
      "metadata": {
        "id": "yEMdn5D6g2Ir"
      },
      "source": [
        "##**DataFrames**\n",
        "\n",
        "![](https://pandas.pydata.org/docs/_images/01_table_dataframe.svg)\n",
        "\n",
        "Los conjuntos de datos en Pandas suelen ser tablas multidimensionales, llamadas DataFrames. La serie es como una columna, un DataFrame es la tabla completa.\n",
        "\n",
        "Ejemplo\n",
        "Cree un DataFrame a partir de dos series:\n",
        "\n",
        "```python\n",
        "data = {\n",
        "  \"calories\": [420, 380, 390],\n",
        "  \"duration\": [50, 40, 45]\n",
        "}\n",
        "df = pd.DataFrame(data)\n",
        "print(df)\n",
        "```\n",
        "\n",
        "###**Localizar fila**\n",
        "\n",
        "Pandas utiliza el atributo loc para devolver una o más filas especificadas\n",
        "\n",
        "```python\n",
        "print(df.loc[0])\n",
        "```\n",
        "Nota: Este ejemplo devuelve una serie Pandas.\n",
        "\n",
        "Ahora retornaremos la fila 0 y 1\n",
        "```python\n",
        "print(df.loc[[0, 1]])\n",
        "```\n",
        "Nota: Al usar `[]`, el resultado es un DataFrame de Pandas.\n",
        "\n",
        "###**Índices nombrados**\n",
        "\n",
        "Con el argumento de `index`, puede nombrar sus propios índices.\n",
        "\n",
        "Ejemplo\n",
        "Agregue una lista de nombres para darle un nombre a cada fila:\n",
        "\n",
        "```python\n",
        "data = {\n",
        "  \"calories\": [420, 380, 390],\n",
        "  \"duration\": [50, 40, 45]\n",
        "}\n",
        "df = pd.DataFrame(data, index = [\"day1\", \"day2\", \"day3\"])\n",
        "print(df)\n",
        "```\n",
        "\n",
        "###**Localizar Índices nombrados**\n",
        "\n",
        "Utilice el índice nombrado en el atributo `loc` para devolver las filas especificadas:\n",
        "\n",
        "```python\n",
        "print(df.loc[\"day2\"])\n",
        "```"
      ]
    },
    {
      "cell_type": "code",
      "execution_count": null,
      "metadata": {
        "id": "Z8K9e39ghB6Z"
      },
      "outputs": [],
      "source": [
        "data = {\n",
        "  \"calories\": [420, 380, 390],\n",
        "  \"duration\": [50, 40, 45]\n",
        "}\n",
        "df = pd.DataFrame(data)\n",
        "print(df)"
      ]
    },
    {
      "cell_type": "code",
      "execution_count": null,
      "metadata": {
        "id": "S8U5d5fIi-xk"
      },
      "outputs": [],
      "source": [
        "print(df.loc[0])"
      ]
    },
    {
      "cell_type": "code",
      "execution_count": null,
      "metadata": {
        "id": "PUQQYMBxjt6J"
      },
      "outputs": [],
      "source": [
        "print(df.loc[[0, 1]])"
      ]
    },
    {
      "cell_type": "code",
      "execution_count": null,
      "metadata": {
        "id": "vyYrLw0rkU22"
      },
      "outputs": [],
      "source": [
        "data = {\n",
        "  \"calories\": [420, 380, 390],\n",
        "  \"duration\": [50, 40, 45]\n",
        "}\n",
        "df = pd.DataFrame(data, index = [\"day1\", \"day2\", \"day3\"])\n",
        "print(df)"
      ]
    },
    {
      "cell_type": "code",
      "execution_count": null,
      "metadata": {
        "id": "Z0-w7ABElNGn"
      },
      "outputs": [],
      "source": [
        "print(df.loc[\"day2\"])"
      ]
    },
    {
      "cell_type": "markdown",
      "metadata": {
        "id": "zHxTKj26mKrQ"
      },
      "source": [
        "##**Cargar archivos en un DataFrame**\n",
        "\n",
        "\n",
        "Si sus conjuntos de datos están almacenados en un archivo, Pandas puede cargarlos en un DataFrame. A continuación, mostraremos los ejemplos básicos de carga de datos y los archivos genéricos para ello.\n",
        "\n",
        "###**Pandas - Leer CSV**\n",
        "\n",
        "Una forma sencilla de almacenar grandes conjuntos de datos es utilizar archivos CSV (archivos separados por comas). Los archivos CSV contienen texto plano y es un formato bien conocido que puede ser leído por muchos programas, incluido Pandas.\n",
        "\n",
        "En nuestros ejemplos usaremos un archivo CSV llamado `'california_housing_test.csv'`\n",
        "\n",
        "`'california_housing_test.csv'` se encuentra por defecto en la ruta '/content/sample_data/california_housing_test.csv'\n",
        "\n",
        "```python\n",
        "df = pd.read_csv('/content/sample_data/california_housing_test.csv')\n",
        "print(df.to_string())\n",
        "```\n",
        "De forma predeterminada, cuando imprime un DataFrame, solo obtendrá las primeras 5 filas y las últimas 5 filas.\n",
        "\n",
        "Nota: Usamos la función `to_string()` para imprimir todo el conjunto de datos.\n",
        "\n",
        "---\n",
        "\n",
        "<p><img alt=\"Pandas\" height=\"150px\" src=\"https://upload.wikimedia.org/wikipedia/commons/thumb/3/38/CsvDelimited001.svg/800px-CsvDelimited001.svg.png\" align=\"left\" hspace=\"10px\" vspace=\"0px\"></p></div>\n",
        "\n",
        "\n",
        "Los archivos CSV (del inglés comma-separated values) son un tipo de documento en formato abierto sencillo para representar datos en forma de tabla, en las que las columnas se separan por comas (o punto y coma en donde la coma es el separador decimal como en Chile, Perú, Argentina, España, Brasil, entre otros) y las filas por saltos de línea.\n",
        "El formato CSV es muy sencillo y no indica un juego de caracteres concreto, ni cómo van situados los bytes, ni el formato para el salto de línea. Estos puntos deben indicarse muchas veces al abrir el archivo, por ejemplo, con una hoja de cálculo.\n",
        "\n",
        "---\n",
        "\n",
        "###**Pandas - Leer JSON**\n",
        "\n",
        "Los grandes conjuntos de datos a menudo se almacenan o extraen como JSON. JSON es texto sin formato, pero tiene el formato de un objeto y es muy conocido en el mundo de la programación, incluido Pandas.\n",
        "\n",
        "En nuestros ejemplos usaremos un archivo JSON llamado `'anscombe.json'`\n",
        "\n",
        "`'anscombe.json'` se encuentra por defecto en la ruta '/content/sample_data/anscombe.json'\n",
        "\n",
        "```python\n",
        "df = pd.read_json('/content/sample_data/anscombe.json')\n",
        "print(df.to_string())\n",
        "```\n",
        "De forma predeterminada, cuando imprime un DataFrame, solo obtendrá las primeras 5 filas y las últimas 5 filas.\n",
        "\n",
        "Nota: Usamos la función `head()` para imprimir los primeros cinco datos.\n",
        "Nota: Usamos la función `tail()` para imprimir los últimos cinco datos incluyendo los encabezados.\n",
        "\n",
        "---\n",
        "\n",
        "<p><img alt=\"Pandas\" height=\"180px\" src=\"https://upload.wikimedia.org/wikipedia/commons/thumb/c/c9/JSON_vector_logo.svg/1200px-JSON_vector_logo.svg.png\" align=\"left\" hspace=\"10px\" vspace=\"0px\"></p></div>\n",
        "\n",
        "\n",
        "JSON (acrónimo de JavaScript Object Notation, «notación de objeto de JavaScript») es un formato de texto sencillo para el intercambio de datos. Se trata de un subconjunto de la notación literal de objetos de JavaScript, aunque, debido a su amplia adopción como alternativa a XML, se considera (año 2019) un formato independiente del lenguaje. Una de las supuestas ventajas de JSON sobre XML como formato de intercambio de datos es que resulta mucho más sencillo escribir un analizador sintáctico (parser) para él. En JavaScript, un texto JSON se puede analizar fácilmente usando la función eval(), algo que (debido a la ubicuidad de JavaScript en casi cualquier navegador web) ha sido fundamental para que haya sido aceptado por parte de la comunidad de desarrolladores AJAX.\n",
        "\n",
        "---\n",
        "###**Información sobre los datos**\n",
        "\n",
        "El objeto DataFrames tiene un método llamado `info()`, que le brinda más información sobre el conjunto de datos.\n",
        "```python\n",
        "df = pd.read_json('/content/sample_data/anscombe.json')\n",
        "print(df.info())\n",
        "```\n",
        "```python\n",
        "<class 'pandas.core.frame.DataFrame'>\n",
        "RangeIndex: 44 entries, 0 to 43\n",
        "Data columns (total 3 columns):\n",
        " #   Column  Non-Null Count  Dtype  \n",
        "---  ------  --------------  -----  \n",
        " 0   Series  44 non-null     object\n",
        " 1   X       44 non-null     int64  \n",
        " 2   Y       44 non-null     float64\n",
        "dtypes: float64(1), int64(1), object(1)\n",
        "memory usage: 1.2+ KB\n",
        "None\n",
        "```\n",
        "\n"
      ]
    },
    {
      "cell_type": "code",
      "execution_count": 14,
      "metadata": {
        "id": "EaKe9hU8qe1K",
        "outputId": "5a393ec3-172b-429b-a863-89faff97f8e7",
        "colab": {
          "base_uri": "https://localhost:8080/"
        }
      },
      "outputs": [
        {
          "output_type": "stream",
          "name": "stdout",
          "text": [
            "      longitude  latitude  housing_median_age  total_rooms  total_bedrooms  \\\n",
            "0       -122.05     37.37                27.0       3885.0           661.0   \n",
            "1       -118.30     34.26                43.0       1510.0           310.0   \n",
            "2       -117.81     33.78                27.0       3589.0           507.0   \n",
            "3       -118.36     33.82                28.0         67.0            15.0   \n",
            "4       -119.67     36.33                19.0       1241.0           244.0   \n",
            "...         ...       ...                 ...          ...             ...   \n",
            "2995    -119.86     34.42                23.0       1450.0           642.0   \n",
            "2996    -118.14     34.06                27.0       5257.0          1082.0   \n",
            "2997    -119.70     36.30                10.0        956.0           201.0   \n",
            "2998    -117.12     34.10                40.0         96.0            14.0   \n",
            "2999    -119.63     34.42                42.0       1765.0           263.0   \n",
            "\n",
            "      population  households  median_income  median_house_value  \n",
            "0         1537.0       606.0         6.6085            344700.0  \n",
            "1          809.0       277.0         3.5990            176500.0  \n",
            "2         1484.0       495.0         5.7934            270500.0  \n",
            "3           49.0        11.0         6.1359            330000.0  \n",
            "4          850.0       237.0         2.9375             81700.0  \n",
            "...          ...         ...            ...                 ...  \n",
            "2995      1258.0       607.0         1.1790            225000.0  \n",
            "2996      3496.0      1036.0         3.3906            237200.0  \n",
            "2997       693.0       220.0         2.2895             62000.0  \n",
            "2998        46.0        14.0         3.2708            162500.0  \n",
            "2999       753.0       260.0         8.5608            500001.0  \n",
            "\n",
            "[3000 rows x 9 columns]\n"
          ]
        }
      ],
      "source": [
        "df = pd.read_csv('/content/sample_data/california_housing_test.csv')\n",
        "print(df)"
      ]
    },
    {
      "cell_type": "code",
      "execution_count": null,
      "metadata": {
        "id": "tnlyUuO0rPHc"
      },
      "outputs": [],
      "source": [
        "#df = pd.read_csv('/content/sample_data/california_housing_test.csv')\n",
        "#print(df.to_string())"
      ]
    },
    {
      "cell_type": "code",
      "source": [
        "print(df.shape)"
      ],
      "metadata": {
        "id": "ZtSxQ2daGoBj",
        "outputId": "fd350786-88c8-4558-9a25-1bfc84ad4718",
        "colab": {
          "base_uri": "https://localhost:8080/"
        }
      },
      "execution_count": 9,
      "outputs": [
        {
          "output_type": "stream",
          "name": "stdout",
          "text": [
            "(3000, 9)\n"
          ]
        }
      ]
    },
    {
      "cell_type": "code",
      "source": [
        "print(df.head)"
      ],
      "metadata": {
        "id": "OahgYWgEIWU6",
        "outputId": "22930271-3be7-44fc-c02e-59c3c427b87f",
        "colab": {
          "base_uri": "https://localhost:8080/"
        }
      },
      "execution_count": 15,
      "outputs": [
        {
          "output_type": "stream",
          "name": "stdout",
          "text": [
            "<bound method NDFrame.head of       longitude  latitude  housing_median_age  total_rooms  total_bedrooms  \\\n",
            "0       -122.05     37.37                27.0       3885.0           661.0   \n",
            "1       -118.30     34.26                43.0       1510.0           310.0   \n",
            "2       -117.81     33.78                27.0       3589.0           507.0   \n",
            "3       -118.36     33.82                28.0         67.0            15.0   \n",
            "4       -119.67     36.33                19.0       1241.0           244.0   \n",
            "...         ...       ...                 ...          ...             ...   \n",
            "2995    -119.86     34.42                23.0       1450.0           642.0   \n",
            "2996    -118.14     34.06                27.0       5257.0          1082.0   \n",
            "2997    -119.70     36.30                10.0        956.0           201.0   \n",
            "2998    -117.12     34.10                40.0         96.0            14.0   \n",
            "2999    -119.63     34.42                42.0       1765.0           263.0   \n",
            "\n",
            "      population  households  median_income  median_house_value  \n",
            "0         1537.0       606.0         6.6085            344700.0  \n",
            "1          809.0       277.0         3.5990            176500.0  \n",
            "2         1484.0       495.0         5.7934            270500.0  \n",
            "3           49.0        11.0         6.1359            330000.0  \n",
            "4          850.0       237.0         2.9375             81700.0  \n",
            "...          ...         ...            ...                 ...  \n",
            "2995      1258.0       607.0         1.1790            225000.0  \n",
            "2996      3496.0      1036.0         3.3906            237200.0  \n",
            "2997       693.0       220.0         2.2895             62000.0  \n",
            "2998        46.0        14.0         3.2708            162500.0  \n",
            "2999       753.0       260.0         8.5608            500001.0  \n",
            "\n",
            "[3000 rows x 9 columns]>\n"
          ]
        }
      ]
    },
    {
      "cell_type": "code",
      "execution_count": 10,
      "metadata": {
        "id": "fATeCuMqtnSc",
        "outputId": "23506a6b-ae9c-4e2a-e48e-068ba2fcff04",
        "colab": {
          "base_uri": "https://localhost:8080/"
        }
      },
      "outputs": [
        {
          "output_type": "stream",
          "name": "stdout",
          "text": [
            "  Series   X     Y\n",
            "0      I  10  8.04\n",
            "1      I   8  6.95\n",
            "2      I  13  7.58\n",
            "3      I   9  8.81\n",
            "4      I  11  8.33\n"
          ]
        }
      ],
      "source": [
        "df = pd.read_json('/content/sample_data/anscombe.json')\n",
        "print(df.head())"
      ]
    },
    {
      "cell_type": "code",
      "execution_count": 11,
      "metadata": {
        "id": "V6WQzrlStihq",
        "outputId": "43de92e2-6321-4632-922e-3ed4fd99ba14",
        "colab": {
          "base_uri": "https://localhost:8080/"
        }
      },
      "outputs": [
        {
          "output_type": "stream",
          "name": "stdout",
          "text": [
            "   Series   X      Y\n",
            "39     IV   8   5.25\n",
            "40     IV  19  12.50\n",
            "41     IV   8   5.56\n",
            "42     IV   8   7.91\n",
            "43     IV   8   6.89\n"
          ]
        }
      ],
      "source": [
        "print(df.tail())"
      ]
    },
    {
      "cell_type": "code",
      "execution_count": 12,
      "metadata": {
        "id": "MIZn6aNCzbhv",
        "outputId": "cf25781f-d3b0-4885-b885-e71a5acc22f1",
        "colab": {
          "base_uri": "https://localhost:8080/"
        }
      },
      "outputs": [
        {
          "output_type": "stream",
          "name": "stdout",
          "text": [
            "<class 'pandas.core.frame.DataFrame'>\n",
            "RangeIndex: 44 entries, 0 to 43\n",
            "Data columns (total 3 columns):\n",
            " #   Column  Non-Null Count  Dtype  \n",
            "---  ------  --------------  -----  \n",
            " 0   Series  44 non-null     object \n",
            " 1   X       44 non-null     int64  \n",
            " 2   Y       44 non-null     float64\n",
            "dtypes: float64(1), int64(1), object(1)\n",
            "memory usage: 1.2+ KB\n",
            "None\n"
          ]
        }
      ],
      "source": [
        "print(df.info())"
      ]
    },
    {
      "cell_type": "code",
      "source": [
        "df1 = pd.read_csv('/content/sample_data/mnist_test.csv')"
      ],
      "metadata": {
        "id": "XJDpKueVJx2q"
      },
      "execution_count": 16,
      "outputs": []
    },
    {
      "cell_type": "code",
      "source": [
        "print(df1.info())"
      ],
      "metadata": {
        "id": "YFr936y_J_nM",
        "outputId": "54d1aafd-7055-44cc-e9d1-989510730e1c",
        "colab": {
          "base_uri": "https://localhost:8080/"
        }
      },
      "execution_count": 21,
      "outputs": [
        {
          "output_type": "stream",
          "name": "stdout",
          "text": [
            "<class 'pandas.core.frame.DataFrame'>\n",
            "RangeIndex: 9999 entries, 0 to 9998\n",
            "Columns: 785 entries, 7 to 0.667\n",
            "dtypes: int64(785)\n",
            "memory usage: 59.9 MB\n",
            "None\n"
          ]
        }
      ]
    },
    {
      "cell_type": "code",
      "source": [
        "print(df1.head)"
      ],
      "metadata": {
        "id": "iLlajtx0KfuE",
        "outputId": "52433055-e2df-4a89-8bee-5589b794b167",
        "colab": {
          "base_uri": "https://localhost:8080/"
        }
      },
      "execution_count": 23,
      "outputs": [
        {
          "output_type": "stream",
          "name": "stdout",
          "text": [
            "<bound method NDFrame.head of       7  0  0.1  0.2  0.3  0.4  0.5  0.6  0.7  0.8  ...  0.658  0.659  0.660  \\\n",
            "0     2  0    0    0    0    0    0    0    0    0  ...      0      0      0   \n",
            "1     1  0    0    0    0    0    0    0    0    0  ...      0      0      0   \n",
            "2     0  0    0    0    0    0    0    0    0    0  ...      0      0      0   \n",
            "3     4  0    0    0    0    0    0    0    0    0  ...      0      0      0   \n",
            "4     1  0    0    0    0    0    0    0    0    0  ...      0      0      0   \n",
            "...  .. ..  ...  ...  ...  ...  ...  ...  ...  ...  ...    ...    ...    ...   \n",
            "9994  2  0    0    0    0    0    0    0    0    0  ...      0      0      0   \n",
            "9995  3  0    0    0    0    0    0    0    0    0  ...      0      0      0   \n",
            "9996  4  0    0    0    0    0    0    0    0    0  ...      0      0      0   \n",
            "9997  5  0    0    0    0    0    0    0    0    0  ...      0      0      0   \n",
            "9998  6  0    0    0    0    0    0    0    0    0  ...      0      0      0   \n",
            "\n",
            "      0.661  0.662  0.663  0.664  0.665  0.666  0.667  \n",
            "0         0      0      0      0      0      0      0  \n",
            "1         0      0      0      0      0      0      0  \n",
            "2         0      0      0      0      0      0      0  \n",
            "3         0      0      0      0      0      0      0  \n",
            "4         0      0      0      0      0      0      0  \n",
            "...     ...    ...    ...    ...    ...    ...    ...  \n",
            "9994      0      0      0      0      0      0      0  \n",
            "9995      0      0      0      0      0      0      0  \n",
            "9996      0      0      0      0      0      0      0  \n",
            "9997      0      0      0      0      0      0      0  \n",
            "9998      0      0      0      0      0      0      0  \n",
            "\n",
            "[9999 rows x 785 columns]>\n"
          ]
        }
      ]
    },
    {
      "cell_type": "code",
      "source": [
        "df1.describe()"
      ],
      "metadata": {
        "id": "teQYhLYGK8DD",
        "outputId": "8e7ac136-e1fc-47a9-860a-54817ff996ee",
        "colab": {
          "base_uri": "https://localhost:8080/",
          "height": 349
        }
      },
      "execution_count": 24,
      "outputs": [
        {
          "output_type": "execute_result",
          "data": {
            "text/plain": [
              "                 7       0     0.1     0.2     0.3     0.4     0.5     0.6  \\\n",
              "count  9999.000000  9999.0  9999.0  9999.0  9999.0  9999.0  9999.0  9999.0   \n",
              "mean      4.443144     0.0     0.0     0.0     0.0     0.0     0.0     0.0   \n",
              "std       2.895897     0.0     0.0     0.0     0.0     0.0     0.0     0.0   \n",
              "min       0.000000     0.0     0.0     0.0     0.0     0.0     0.0     0.0   \n",
              "25%       2.000000     0.0     0.0     0.0     0.0     0.0     0.0     0.0   \n",
              "50%       4.000000     0.0     0.0     0.0     0.0     0.0     0.0     0.0   \n",
              "75%       7.000000     0.0     0.0     0.0     0.0     0.0     0.0     0.0   \n",
              "max       9.000000     0.0     0.0     0.0     0.0     0.0     0.0     0.0   \n",
              "\n",
              "          0.7     0.8  ...        0.658        0.659        0.660  \\\n",
              "count  9999.0  9999.0  ...  9999.000000  9999.000000  9999.000000   \n",
              "mean      0.0     0.0  ...     0.179318     0.163616     0.052605   \n",
              "std       0.0     0.0  ...     5.674433     5.736359     2.420125   \n",
              "min       0.0     0.0  ...     0.000000     0.000000     0.000000   \n",
              "25%       0.0     0.0  ...     0.000000     0.000000     0.000000   \n",
              "50%       0.0     0.0  ...     0.000000     0.000000     0.000000   \n",
              "75%       0.0     0.0  ...     0.000000     0.000000     0.000000   \n",
              "max       0.0     0.0  ...   253.000000   253.000000   156.000000   \n",
              "\n",
              "             0.661   0.662   0.663   0.664   0.665   0.666   0.667  \n",
              "count  9999.000000  9999.0  9999.0  9999.0  9999.0  9999.0  9999.0  \n",
              "mean      0.000600     0.0     0.0     0.0     0.0     0.0     0.0  \n",
              "std       0.060003     0.0     0.0     0.0     0.0     0.0     0.0  \n",
              "min       0.000000     0.0     0.0     0.0     0.0     0.0     0.0  \n",
              "25%       0.000000     0.0     0.0     0.0     0.0     0.0     0.0  \n",
              "50%       0.000000     0.0     0.0     0.0     0.0     0.0     0.0  \n",
              "75%       0.000000     0.0     0.0     0.0     0.0     0.0     0.0  \n",
              "max       6.000000     0.0     0.0     0.0     0.0     0.0     0.0  \n",
              "\n",
              "[8 rows x 785 columns]"
            ],
            "text/html": [
              "\n",
              "  <div id=\"df-35fd76d2-e6c8-494f-b4ea-8ce35bc9b16c\" class=\"colab-df-container\">\n",
              "    <div>\n",
              "<style scoped>\n",
              "    .dataframe tbody tr th:only-of-type {\n",
              "        vertical-align: middle;\n",
              "    }\n",
              "\n",
              "    .dataframe tbody tr th {\n",
              "        vertical-align: top;\n",
              "    }\n",
              "\n",
              "    .dataframe thead th {\n",
              "        text-align: right;\n",
              "    }\n",
              "</style>\n",
              "<table border=\"1\" class=\"dataframe\">\n",
              "  <thead>\n",
              "    <tr style=\"text-align: right;\">\n",
              "      <th></th>\n",
              "      <th>7</th>\n",
              "      <th>0</th>\n",
              "      <th>0.1</th>\n",
              "      <th>0.2</th>\n",
              "      <th>0.3</th>\n",
              "      <th>0.4</th>\n",
              "      <th>0.5</th>\n",
              "      <th>0.6</th>\n",
              "      <th>0.7</th>\n",
              "      <th>0.8</th>\n",
              "      <th>...</th>\n",
              "      <th>0.658</th>\n",
              "      <th>0.659</th>\n",
              "      <th>0.660</th>\n",
              "      <th>0.661</th>\n",
              "      <th>0.662</th>\n",
              "      <th>0.663</th>\n",
              "      <th>0.664</th>\n",
              "      <th>0.665</th>\n",
              "      <th>0.666</th>\n",
              "      <th>0.667</th>\n",
              "    </tr>\n",
              "  </thead>\n",
              "  <tbody>\n",
              "    <tr>\n",
              "      <th>count</th>\n",
              "      <td>9999.000000</td>\n",
              "      <td>9999.0</td>\n",
              "      <td>9999.0</td>\n",
              "      <td>9999.0</td>\n",
              "      <td>9999.0</td>\n",
              "      <td>9999.0</td>\n",
              "      <td>9999.0</td>\n",
              "      <td>9999.0</td>\n",
              "      <td>9999.0</td>\n",
              "      <td>9999.0</td>\n",
              "      <td>...</td>\n",
              "      <td>9999.000000</td>\n",
              "      <td>9999.000000</td>\n",
              "      <td>9999.000000</td>\n",
              "      <td>9999.000000</td>\n",
              "      <td>9999.0</td>\n",
              "      <td>9999.0</td>\n",
              "      <td>9999.0</td>\n",
              "      <td>9999.0</td>\n",
              "      <td>9999.0</td>\n",
              "      <td>9999.0</td>\n",
              "    </tr>\n",
              "    <tr>\n",
              "      <th>mean</th>\n",
              "      <td>4.443144</td>\n",
              "      <td>0.0</td>\n",
              "      <td>0.0</td>\n",
              "      <td>0.0</td>\n",
              "      <td>0.0</td>\n",
              "      <td>0.0</td>\n",
              "      <td>0.0</td>\n",
              "      <td>0.0</td>\n",
              "      <td>0.0</td>\n",
              "      <td>0.0</td>\n",
              "      <td>...</td>\n",
              "      <td>0.179318</td>\n",
              "      <td>0.163616</td>\n",
              "      <td>0.052605</td>\n",
              "      <td>0.000600</td>\n",
              "      <td>0.0</td>\n",
              "      <td>0.0</td>\n",
              "      <td>0.0</td>\n",
              "      <td>0.0</td>\n",
              "      <td>0.0</td>\n",
              "      <td>0.0</td>\n",
              "    </tr>\n",
              "    <tr>\n",
              "      <th>std</th>\n",
              "      <td>2.895897</td>\n",
              "      <td>0.0</td>\n",
              "      <td>0.0</td>\n",
              "      <td>0.0</td>\n",
              "      <td>0.0</td>\n",
              "      <td>0.0</td>\n",
              "      <td>0.0</td>\n",
              "      <td>0.0</td>\n",
              "      <td>0.0</td>\n",
              "      <td>0.0</td>\n",
              "      <td>...</td>\n",
              "      <td>5.674433</td>\n",
              "      <td>5.736359</td>\n",
              "      <td>2.420125</td>\n",
              "      <td>0.060003</td>\n",
              "      <td>0.0</td>\n",
              "      <td>0.0</td>\n",
              "      <td>0.0</td>\n",
              "      <td>0.0</td>\n",
              "      <td>0.0</td>\n",
              "      <td>0.0</td>\n",
              "    </tr>\n",
              "    <tr>\n",
              "      <th>min</th>\n",
              "      <td>0.000000</td>\n",
              "      <td>0.0</td>\n",
              "      <td>0.0</td>\n",
              "      <td>0.0</td>\n",
              "      <td>0.0</td>\n",
              "      <td>0.0</td>\n",
              "      <td>0.0</td>\n",
              "      <td>0.0</td>\n",
              "      <td>0.0</td>\n",
              "      <td>0.0</td>\n",
              "      <td>...</td>\n",
              "      <td>0.000000</td>\n",
              "      <td>0.000000</td>\n",
              "      <td>0.000000</td>\n",
              "      <td>0.000000</td>\n",
              "      <td>0.0</td>\n",
              "      <td>0.0</td>\n",
              "      <td>0.0</td>\n",
              "      <td>0.0</td>\n",
              "      <td>0.0</td>\n",
              "      <td>0.0</td>\n",
              "    </tr>\n",
              "    <tr>\n",
              "      <th>25%</th>\n",
              "      <td>2.000000</td>\n",
              "      <td>0.0</td>\n",
              "      <td>0.0</td>\n",
              "      <td>0.0</td>\n",
              "      <td>0.0</td>\n",
              "      <td>0.0</td>\n",
              "      <td>0.0</td>\n",
              "      <td>0.0</td>\n",
              "      <td>0.0</td>\n",
              "      <td>0.0</td>\n",
              "      <td>...</td>\n",
              "      <td>0.000000</td>\n",
              "      <td>0.000000</td>\n",
              "      <td>0.000000</td>\n",
              "      <td>0.000000</td>\n",
              "      <td>0.0</td>\n",
              "      <td>0.0</td>\n",
              "      <td>0.0</td>\n",
              "      <td>0.0</td>\n",
              "      <td>0.0</td>\n",
              "      <td>0.0</td>\n",
              "    </tr>\n",
              "    <tr>\n",
              "      <th>50%</th>\n",
              "      <td>4.000000</td>\n",
              "      <td>0.0</td>\n",
              "      <td>0.0</td>\n",
              "      <td>0.0</td>\n",
              "      <td>0.0</td>\n",
              "      <td>0.0</td>\n",
              "      <td>0.0</td>\n",
              "      <td>0.0</td>\n",
              "      <td>0.0</td>\n",
              "      <td>0.0</td>\n",
              "      <td>...</td>\n",
              "      <td>0.000000</td>\n",
              "      <td>0.000000</td>\n",
              "      <td>0.000000</td>\n",
              "      <td>0.000000</td>\n",
              "      <td>0.0</td>\n",
              "      <td>0.0</td>\n",
              "      <td>0.0</td>\n",
              "      <td>0.0</td>\n",
              "      <td>0.0</td>\n",
              "      <td>0.0</td>\n",
              "    </tr>\n",
              "    <tr>\n",
              "      <th>75%</th>\n",
              "      <td>7.000000</td>\n",
              "      <td>0.0</td>\n",
              "      <td>0.0</td>\n",
              "      <td>0.0</td>\n",
              "      <td>0.0</td>\n",
              "      <td>0.0</td>\n",
              "      <td>0.0</td>\n",
              "      <td>0.0</td>\n",
              "      <td>0.0</td>\n",
              "      <td>0.0</td>\n",
              "      <td>...</td>\n",
              "      <td>0.000000</td>\n",
              "      <td>0.000000</td>\n",
              "      <td>0.000000</td>\n",
              "      <td>0.000000</td>\n",
              "      <td>0.0</td>\n",
              "      <td>0.0</td>\n",
              "      <td>0.0</td>\n",
              "      <td>0.0</td>\n",
              "      <td>0.0</td>\n",
              "      <td>0.0</td>\n",
              "    </tr>\n",
              "    <tr>\n",
              "      <th>max</th>\n",
              "      <td>9.000000</td>\n",
              "      <td>0.0</td>\n",
              "      <td>0.0</td>\n",
              "      <td>0.0</td>\n",
              "      <td>0.0</td>\n",
              "      <td>0.0</td>\n",
              "      <td>0.0</td>\n",
              "      <td>0.0</td>\n",
              "      <td>0.0</td>\n",
              "      <td>0.0</td>\n",
              "      <td>...</td>\n",
              "      <td>253.000000</td>\n",
              "      <td>253.000000</td>\n",
              "      <td>156.000000</td>\n",
              "      <td>6.000000</td>\n",
              "      <td>0.0</td>\n",
              "      <td>0.0</td>\n",
              "      <td>0.0</td>\n",
              "      <td>0.0</td>\n",
              "      <td>0.0</td>\n",
              "      <td>0.0</td>\n",
              "    </tr>\n",
              "  </tbody>\n",
              "</table>\n",
              "<p>8 rows × 785 columns</p>\n",
              "</div>\n",
              "    <div class=\"colab-df-buttons\">\n",
              "\n",
              "  <div class=\"colab-df-container\">\n",
              "    <button class=\"colab-df-convert\" onclick=\"convertToInteractive('df-35fd76d2-e6c8-494f-b4ea-8ce35bc9b16c')\"\n",
              "            title=\"Convert this dataframe to an interactive table.\"\n",
              "            style=\"display:none;\">\n",
              "\n",
              "  <svg xmlns=\"http://www.w3.org/2000/svg\" height=\"24px\" viewBox=\"0 -960 960 960\">\n",
              "    <path d=\"M120-120v-720h720v720H120Zm60-500h600v-160H180v160Zm220 220h160v-160H400v160Zm0 220h160v-160H400v160ZM180-400h160v-160H180v160Zm440 0h160v-160H620v160ZM180-180h160v-160H180v160Zm440 0h160v-160H620v160Z\"/>\n",
              "  </svg>\n",
              "    </button>\n",
              "\n",
              "  <style>\n",
              "    .colab-df-container {\n",
              "      display:flex;\n",
              "      gap: 12px;\n",
              "    }\n",
              "\n",
              "    .colab-df-convert {\n",
              "      background-color: #E8F0FE;\n",
              "      border: none;\n",
              "      border-radius: 50%;\n",
              "      cursor: pointer;\n",
              "      display: none;\n",
              "      fill: #1967D2;\n",
              "      height: 32px;\n",
              "      padding: 0 0 0 0;\n",
              "      width: 32px;\n",
              "    }\n",
              "\n",
              "    .colab-df-convert:hover {\n",
              "      background-color: #E2EBFA;\n",
              "      box-shadow: 0px 1px 2px rgba(60, 64, 67, 0.3), 0px 1px 3px 1px rgba(60, 64, 67, 0.15);\n",
              "      fill: #174EA6;\n",
              "    }\n",
              "\n",
              "    .colab-df-buttons div {\n",
              "      margin-bottom: 4px;\n",
              "    }\n",
              "\n",
              "    [theme=dark] .colab-df-convert {\n",
              "      background-color: #3B4455;\n",
              "      fill: #D2E3FC;\n",
              "    }\n",
              "\n",
              "    [theme=dark] .colab-df-convert:hover {\n",
              "      background-color: #434B5C;\n",
              "      box-shadow: 0px 1px 3px 1px rgba(0, 0, 0, 0.15);\n",
              "      filter: drop-shadow(0px 1px 2px rgba(0, 0, 0, 0.3));\n",
              "      fill: #FFFFFF;\n",
              "    }\n",
              "  </style>\n",
              "\n",
              "    <script>\n",
              "      const buttonEl =\n",
              "        document.querySelector('#df-35fd76d2-e6c8-494f-b4ea-8ce35bc9b16c button.colab-df-convert');\n",
              "      buttonEl.style.display =\n",
              "        google.colab.kernel.accessAllowed ? 'block' : 'none';\n",
              "\n",
              "      async function convertToInteractive(key) {\n",
              "        const element = document.querySelector('#df-35fd76d2-e6c8-494f-b4ea-8ce35bc9b16c');\n",
              "        const dataTable =\n",
              "          await google.colab.kernel.invokeFunction('convertToInteractive',\n",
              "                                                    [key], {});\n",
              "        if (!dataTable) return;\n",
              "\n",
              "        const docLinkHtml = 'Like what you see? Visit the ' +\n",
              "          '<a target=\"_blank\" href=https://colab.research.google.com/notebooks/data_table.ipynb>data table notebook</a>'\n",
              "          + ' to learn more about interactive tables.';\n",
              "        element.innerHTML = '';\n",
              "        dataTable['output_type'] = 'display_data';\n",
              "        await google.colab.output.renderOutput(dataTable, element);\n",
              "        const docLink = document.createElement('div');\n",
              "        docLink.innerHTML = docLinkHtml;\n",
              "        element.appendChild(docLink);\n",
              "      }\n",
              "    </script>\n",
              "  </div>\n",
              "\n",
              "\n",
              "<div id=\"df-2b008b8d-b338-443a-8404-eade4238d8db\">\n",
              "  <button class=\"colab-df-quickchart\" onclick=\"quickchart('df-2b008b8d-b338-443a-8404-eade4238d8db')\"\n",
              "            title=\"Suggest charts.\"\n",
              "            style=\"display:none;\">\n",
              "\n",
              "<svg xmlns=\"http://www.w3.org/2000/svg\" height=\"24px\"viewBox=\"0 0 24 24\"\n",
              "     width=\"24px\">\n",
              "    <g>\n",
              "        <path d=\"M19 3H5c-1.1 0-2 .9-2 2v14c0 1.1.9 2 2 2h14c1.1 0 2-.9 2-2V5c0-1.1-.9-2-2-2zM9 17H7v-7h2v7zm4 0h-2V7h2v10zm4 0h-2v-4h2v4z\"/>\n",
              "    </g>\n",
              "</svg>\n",
              "  </button>\n",
              "\n",
              "<style>\n",
              "  .colab-df-quickchart {\n",
              "      --bg-color: #E8F0FE;\n",
              "      --fill-color: #1967D2;\n",
              "      --hover-bg-color: #E2EBFA;\n",
              "      --hover-fill-color: #174EA6;\n",
              "      --disabled-fill-color: #AAA;\n",
              "      --disabled-bg-color: #DDD;\n",
              "  }\n",
              "\n",
              "  [theme=dark] .colab-df-quickchart {\n",
              "      --bg-color: #3B4455;\n",
              "      --fill-color: #D2E3FC;\n",
              "      --hover-bg-color: #434B5C;\n",
              "      --hover-fill-color: #FFFFFF;\n",
              "      --disabled-bg-color: #3B4455;\n",
              "      --disabled-fill-color: #666;\n",
              "  }\n",
              "\n",
              "  .colab-df-quickchart {\n",
              "    background-color: var(--bg-color);\n",
              "    border: none;\n",
              "    border-radius: 50%;\n",
              "    cursor: pointer;\n",
              "    display: none;\n",
              "    fill: var(--fill-color);\n",
              "    height: 32px;\n",
              "    padding: 0;\n",
              "    width: 32px;\n",
              "  }\n",
              "\n",
              "  .colab-df-quickchart:hover {\n",
              "    background-color: var(--hover-bg-color);\n",
              "    box-shadow: 0 1px 2px rgba(60, 64, 67, 0.3), 0 1px 3px 1px rgba(60, 64, 67, 0.15);\n",
              "    fill: var(--button-hover-fill-color);\n",
              "  }\n",
              "\n",
              "  .colab-df-quickchart-complete:disabled,\n",
              "  .colab-df-quickchart-complete:disabled:hover {\n",
              "    background-color: var(--disabled-bg-color);\n",
              "    fill: var(--disabled-fill-color);\n",
              "    box-shadow: none;\n",
              "  }\n",
              "\n",
              "  .colab-df-spinner {\n",
              "    border: 2px solid var(--fill-color);\n",
              "    border-color: transparent;\n",
              "    border-bottom-color: var(--fill-color);\n",
              "    animation:\n",
              "      spin 1s steps(1) infinite;\n",
              "  }\n",
              "\n",
              "  @keyframes spin {\n",
              "    0% {\n",
              "      border-color: transparent;\n",
              "      border-bottom-color: var(--fill-color);\n",
              "      border-left-color: var(--fill-color);\n",
              "    }\n",
              "    20% {\n",
              "      border-color: transparent;\n",
              "      border-left-color: var(--fill-color);\n",
              "      border-top-color: var(--fill-color);\n",
              "    }\n",
              "    30% {\n",
              "      border-color: transparent;\n",
              "      border-left-color: var(--fill-color);\n",
              "      border-top-color: var(--fill-color);\n",
              "      border-right-color: var(--fill-color);\n",
              "    }\n",
              "    40% {\n",
              "      border-color: transparent;\n",
              "      border-right-color: var(--fill-color);\n",
              "      border-top-color: var(--fill-color);\n",
              "    }\n",
              "    60% {\n",
              "      border-color: transparent;\n",
              "      border-right-color: var(--fill-color);\n",
              "    }\n",
              "    80% {\n",
              "      border-color: transparent;\n",
              "      border-right-color: var(--fill-color);\n",
              "      border-bottom-color: var(--fill-color);\n",
              "    }\n",
              "    90% {\n",
              "      border-color: transparent;\n",
              "      border-bottom-color: var(--fill-color);\n",
              "    }\n",
              "  }\n",
              "</style>\n",
              "\n",
              "  <script>\n",
              "    async function quickchart(key) {\n",
              "      const quickchartButtonEl =\n",
              "        document.querySelector('#' + key + ' button');\n",
              "      quickchartButtonEl.disabled = true;  // To prevent multiple clicks.\n",
              "      quickchartButtonEl.classList.add('colab-df-spinner');\n",
              "      try {\n",
              "        const charts = await google.colab.kernel.invokeFunction(\n",
              "            'suggestCharts', [key], {});\n",
              "      } catch (error) {\n",
              "        console.error('Error during call to suggestCharts:', error);\n",
              "      }\n",
              "      quickchartButtonEl.classList.remove('colab-df-spinner');\n",
              "      quickchartButtonEl.classList.add('colab-df-quickchart-complete');\n",
              "    }\n",
              "    (() => {\n",
              "      let quickchartButtonEl =\n",
              "        document.querySelector('#df-2b008b8d-b338-443a-8404-eade4238d8db button');\n",
              "      quickchartButtonEl.style.display =\n",
              "        google.colab.kernel.accessAllowed ? 'block' : 'none';\n",
              "    })();\n",
              "  </script>\n",
              "</div>\n",
              "    </div>\n",
              "  </div>\n"
            ]
          },
          "metadata": {},
          "execution_count": 24
        }
      ]
    },
    {
      "cell_type": "markdown",
      "metadata": {
        "id": "LPOr4JDc8WkQ"
      },
      "source": [
        "<p><a name=\"s3\"></a></p>\n",
        "\n",
        "# **03. Matplotlib**\n",
        "[[Contenidos]](#contents)\n",
        "\n",
        "<p><img alt=\"matplotlib\" height=\"200px\" src=\"https://matplotlib.org/stable/_static/logo_light.svg\" align=\"left\" hspace=\"10px\" vspace=\"0px\"></p></div>"
      ]
    },
    {
      "cell_type": "markdown",
      "metadata": {
        "id": "elhxRXZx3trq"
      },
      "source": [
        "##**¿Qué es [Matplotlib](https://matplotlib.org/)?**\n",
        "\n",
        "Matplotlib es una biblioteca de trazado para el lenguaje de programación Python y su extensión matemática numérica NumPy. Proporciona una API orientada a objetos para incrustar gráficos en aplicaciones que utilizan kits de herramientas de GUI de uso general como Tkinter, wxPython, Qt o GTK. También hay una interfaz de procedimiento \"pylab\" basada en una máquina de estado (como OpenGL), diseñada para parecerse mucho a la de MATLAB, aunque se desaconseja su uso. SciPy hace uso de Matplotlib. Matplotlib fue escrito originalmente por John D. Hunter. Desde entonces tiene una comunidad de desarrollo activa y se distribuye bajo una licencia estilo BSD. Michael Droettboom fue nominado como desarrollador principal de matplotlib poco antes de la muerte de John Hunter en agosto de 2012 y se le unió Thomas Caswell.\n",
        "\n",
        "![](https://matplotlib.org/stable/_images/sphx_glr_anatomy_001.png)"
      ]
    },
    {
      "cell_type": "markdown",
      "metadata": {
        "id": "QB0C8BrH3trs"
      },
      "source": [
        "##**Instalación de Matplotlib**\n",
        "\n",
        "Instalar Matplotlib en Google Colab no es necesario, dicho módulo se encuentra instalado, en caso de necesitar la instalación relacionamos un `pip install` con la llamada al módulo Matplotlib.\n",
        "\n",
        "\n",
        "```python\n",
        "!pip install matplotlib\n",
        "```\n",
        "Importar el módulo Matplotlib se realiza con la palabra clave `import` y nótese el alias asignado al módulo es `pd` el cual es de uso generalizado en la comunidad de Matplotlib.\n",
        "\n",
        "```python\n",
        "import matplotlib as pd\n",
        "```\n",
        "\n",
        "Para verficar la versión de Matplotlib se puede realizar con `!pip list` o con la llamada especifica usando `!pip show matplotlib` o `!pip show --verbose matplotlib`\n",
        "\n",
        "\n"
      ]
    },
    {
      "cell_type": "code",
      "execution_count": null,
      "metadata": {
        "id": "jZ0cmMJb3trt"
      },
      "outputs": [],
      "source": [
        "import matplotlib as pd"
      ]
    },
    {
      "cell_type": "code",
      "execution_count": null,
      "metadata": {
        "id": "Em0QwsO83tru"
      },
      "outputs": [],
      "source": [
        "!pip show matplotlib"
      ]
    },
    {
      "cell_type": "code",
      "execution_count": null,
      "metadata": {
        "id": "OH9CkcvX3trv"
      },
      "outputs": [],
      "source": [
        "!pip show --verbose matplotlib"
      ]
    },
    {
      "cell_type": "markdown",
      "metadata": {
        "id": "xvZpQhkR6RDY"
      },
      "source": [
        "##**Matplotlib - Pyplot**\n",
        "\n",
        "La mayoría de las utilidades de Matplotlib se encuentran en el submódulo pyplot y, por lo general, se importan con el alias plt:\n",
        "\n",
        "```python\n",
        "import matplotlib.pyplot as plt\n",
        "```\n",
        "\n",
        "Ahora se puede hacer referencia al paquete Pyplot como `plt`.\n",
        "\n",
        "Ejemplo: Dibuje una línea en una gráfica desde la posición (0,0) hasta la posición (6,250):\n",
        "\n",
        "```python\n",
        "import matplotlib.pyplot as plt\n",
        "import numpy as np\n",
        "xpoints = np.array([0, 6])\n",
        "ypoints = np.array([0, 250])\n",
        "plt.plot(xpoints, ypoints)\n",
        "plt.show()\n",
        "```\n",
        "\n",
        "![](https://raw.githubusercontent.com/juliancastillo-iudigital/FundamentosProgramacionPosgrados2021-1/main/matplotlib1.png)\n",
        "\n",
        "###**Graficar puntos $x$ e $y$**\n",
        "\n",
        "La función `plot()` se usa para dibujar puntos (marcadores) en una gráfica.\n",
        "De forma predeterminada, la función `plot()` dibuja una línea de un punto a otro. La función toma parámetros para especificar puntos en el gráfico.\n",
        "\n",
        "*   El parámetro 1 es una matriz que contiene los puntos en el eje $x$.\n",
        "*   El parámetro 2 es una matriz que contiene los puntos en el eje $y$.\n",
        "\n",
        "Si necesitamos trazar una línea de `(1, 3)` a `(8, 10)`, tenemos que pasar dos matrices `[1, 8]` y `[3, 10]` a la función de trazado.\n",
        "\n",
        "Ejemplo\n",
        "Dibuje una línea en un diagrama desde la posición `(1, 3)` a la posición `(8, 10)`:\n",
        "\n",
        "```python\n",
        "xpoints = np.array([1, 8])\n",
        "ypoints = np.array([3, 10])\n",
        "plt.plot(xpoints, ypoints)\n",
        "plt.show()\n",
        "```\n",
        "![](https://raw.githubusercontent.com/juliancastillo-iudigital/FundamentosProgramacionPosgrados2021-1/main/matplotlib2.png)\n",
        "\n",
        "***x-axis es el eje horizontal.***\n",
        "\n",
        "***y-axis es el eje vertical.***\n",
        "\n",
        "###**Trazado sin línea**\n",
        "\n",
        "Para trazar solo los marcadores, podemos utilizar el atajo tipo texto `'o'` como argumento que simboliza a anillos en el contexto de Pyplot.\n",
        "\n",
        "Ejemplo\n",
        "Dibuje dos puntos en el diagrama, uno en la posición `(1, 3)` y otro en la posición `(8, 10)`:\n",
        "\n",
        "```python\n",
        "xpoints = np.array([1, 8])\n",
        "ypoints = np.array([3, 10])\n",
        "plt.plot(xpoints, ypoints, 'o')\n",
        "plt.show()\n",
        "```\n",
        "![](https://raw.githubusercontent.com/juliancastillo-iudigital/FundamentosProgramacionPosgrados2021-1/main/matplotlib3.png)\n",
        "\n",
        "###**Múltiples puntos**\n",
        "\n",
        "Se pueden trazar múltiples puntos siempre y cuando existan los mismos puntos en ambos ejes.\n",
        "\n",
        "Ejemplo\n",
        "Dibuje una línea en un diagrama desde la posición `(1, 3)` a `(2, 8)` luego a `(6, 1)` y finalmente a la posición `(8, 10)`:\n",
        "\n",
        "```python\n",
        "xpoints = np.array([1, 2, 6, 8])\n",
        "ypoints = np.array([3, 8, 1, 10])\n",
        "plt.plot(xpoints, ypoints)\n",
        "plt.show()\n",
        "```\n",
        "![](https://raw.githubusercontent.com/juliancastillo-iudigital/FundamentosProgramacionPosgrados2021-1/main/matplotlib4.png)"
      ]
    },
    {
      "cell_type": "code",
      "execution_count": null,
      "metadata": {
        "id": "Q2s315fw63Td"
      },
      "outputs": [],
      "source": [
        "import matplotlib.pyplot as plt"
      ]
    },
    {
      "cell_type": "code",
      "execution_count": null,
      "metadata": {
        "id": "nuky2yjn6-Ta"
      },
      "outputs": [],
      "source": [
        "import numpy as np\n",
        "xpoints = np.array([0, 6])\n",
        "ypoints = np.array([0, 250])\n",
        "plt.plot(xpoints, ypoints)\n",
        "plt.show()\n",
        "print(xpoints, ypoints)"
      ]
    },
    {
      "cell_type": "code",
      "execution_count": null,
      "metadata": {
        "id": "VIMiBncaFrXL"
      },
      "outputs": [],
      "source": [
        "xpoints = np.array([1, 8])\n",
        "ypoints = np.array([3, 10])\n",
        "plt.plot(xpoints, ypoints)\n",
        "plt.show()"
      ]
    },
    {
      "cell_type": "code",
      "execution_count": null,
      "metadata": {
        "id": "5dKzzpnjHkQ8"
      },
      "outputs": [],
      "source": [
        "xpoints = np.array([1, 8])\n",
        "ypoints = np.array([3, 10])\n",
        "plt.plot(xpoints, ypoints, 'o')\n",
        "plt.show()"
      ]
    },
    {
      "cell_type": "code",
      "execution_count": null,
      "metadata": {
        "id": "oBSMXmo1I-n1"
      },
      "outputs": [],
      "source": [
        "xpoints = np.array([1, 2, 6, 8])\n",
        "ypoints = np.array([3, 8, 1, 10])\n",
        "plt.plot(xpoints, ypoints)\n",
        "plt.show()"
      ]
    },
    {
      "cell_type": "markdown",
      "metadata": {
        "id": "Lm8G-IGAJSFz"
      },
      "source": [
        "###**Puntos $x$ predeterminados**\n",
        "\n",
        "Si no especificamos los puntos en el eje $x$, obtendrán los valores predeterminados 0, 1, 2, 3, (etc., dependiendo de la longitud de $y$).\n",
        "\n",
        "Entonces, si tomamos el mismo ejemplo anterior y omitimos los puntos $x$, el diagrama se verá así:\n",
        "\n",
        "Ejemplo: Trazado sin puntos $x$:\n",
        "\n",
        "**Los x-points en el ejemplo son [0, 1, 2, 3, 4, 5].**"
      ]
    },
    {
      "cell_type": "code",
      "execution_count": null,
      "metadata": {
        "id": "oeI4NXFvJm6i"
      },
      "outputs": [],
      "source": [
        "ypoints = np.array([3, 8, 1, 10, 5, 7])\n",
        "plt.plot(ypoints)\n",
        "plt.show()"
      ]
    },
    {
      "cell_type": "markdown",
      "metadata": {
        "id": "mMWt8lzKKY5D"
      },
      "source": [
        "###**Matplotlib Markers - Marcadores**\n",
        "\n",
        "###**Markers - Marcadores**\n",
        "\n",
        "Puede utilizar el argumento tipo `keyword` para enfatizar cada punto de un gráfico con un marcador especifico.\n",
        "\n",
        "Ejemplo: Marque cada punto con un círculo y una estrella:\n"
      ]
    },
    {
      "cell_type": "code",
      "execution_count": null,
      "metadata": {
        "id": "MPAEC5TxLITW"
      },
      "outputs": [],
      "source": [
        "ypoints = np.array([3, 8, 1, 10])\n",
        "plt.plot(ypoints, marker = 'o')\n",
        "plt.show()\n",
        "plt.plot(ypoints, marker = '*')\n",
        "plt.show()"
      ]
    },
    {
      "cell_type": "markdown",
      "metadata": {
        "id": "x15Eu7SlLZ4C"
      },
      "source": [
        "###**Markers - Referencias**\n",
        "\n",
        "Se pueden utilizar los siguientes marcadores.\n",
        "\n",
        "Marcador|Descripción\n",
        "---|---\n",
        "<center>`'*'`</center>|<center>Estrella</center>\n",
        "<center>`'.'`</center>|<center>Punto</center>\n",
        "<center>`','`</center>|<center>Pixel</center>\n",
        "<center>`'x'`</center>|<center>x</center>\n",
        "<center>`'X'`</center>|<center>X (Negrita)</center>\n",
        "<center>`'+'`</center>|<center>+</center>\n",
        "<center>`'P'`</center>|<center>+ (Negrita)</center>\n",
        "<center>`'s'`</center>|<center>Cuadro</center>\n",
        "<center>`'D'`</center>|<center>Diamante</center>\n",
        "<center>`'d'`</center>|<center>Diamante delgado</center>\n",
        "<center>`'p'`</center>|<center>Pentágono</center>\n",
        "<center>`'H'`</center>|<center>Hexágono</center>\n",
        "<center>`'h'`</center>|<center>Hexágono</center>\n",
        "<center>`'v'`</center>|<center>Triangulo Abajo</center>\n",
        "<center>`'^'`</center>|<center>Triangulo Arriba</center>\n",
        "<center>`'<'`</center>|<center>Triangulo Izquierda</center>\n",
        "<center>`'>'`</center>|<center>Triangulo Derecha</center>\n",
        "<center>`'1'`</center>|<center>Tri Abajo</center>\n",
        "<center>`'2'`</center>|<center>Tri Arriba</center>\n",
        "<center>`'3'`</center>|<center>Tri Izquierda</center>\n",
        "<center>`'4'`</center>|<center>Tri Derecha</center>\n",
        "<center>\\|</center>|<center>Vline(Pipe)</center>\n",
        "<center>`'_'`</center>|<center>Hline(Underscore)</center>\n"
      ]
    },
    {
      "cell_type": "markdown",
      "metadata": {
        "id": "SQuhaTEaQJhH"
      },
      "source": [
        "###**Format Strings `fmt`**\n",
        "\n",
        "También se puede usar el atajo `shortcut string notation` para especificar el marcador, este parámetro es también llamado `fmt` y su sintaxis se detalla de la siguiente manera:\n",
        "\n",
        "`marker|line|color`\n",
        "\n",
        "El marcador puede ser cualquiera de los detallados previamente y la línea puede ser cualquiera de las detalladas a continuación:\n",
        "\n",
        "Línea Sintaxis|Descripción\n",
        "---|---\n",
        "`'-'`|Línea solida\n",
        "`':'`|Línea de puntos\n",
        "`'--'`|Línea de guiones\n",
        "`'-.'`|Línea de puntos y guiones\n",
        "\n",
        "Nota: Si omite el valor de la línea en el parámetro `fmt`, no se trazará ninguna línea."
      ]
    },
    {
      "cell_type": "code",
      "execution_count": null,
      "metadata": {
        "id": "4kIwtu32RuJp"
      },
      "outputs": [],
      "source": [
        "ypoints = np.array([3, 8, 1, 10])\n",
        "plt.plot(ypoints, 'o:r')\n",
        "plt.show()"
      ]
    },
    {
      "cell_type": "markdown",
      "metadata": {
        "id": "UIEzVaj8S_co"
      },
      "source": [
        "###**Colores**\n",
        "\n",
        "El color puede ser uno de los siguientes:\n",
        "\n",
        "Color Syntaxis|Descripción\n",
        "---|---\n",
        "`'r'`|Rojo\n",
        "`'g'`|Verde\n",
        "`'b'`|Azul\n",
        "`'c'`|Cyan\n",
        "`'m'`|Magenta\n",
        "`'y'`|Amarillo\n",
        "`'k'`|Negro\n",
        "`'w'`|Blanco"
      ]
    },
    {
      "cell_type": "code",
      "execution_count": null,
      "metadata": {
        "id": "wFpJkyP0T7DQ"
      },
      "outputs": [],
      "source": [
        "plt.plot(ypoints, 'o:g')\n",
        "plt.show()"
      ]
    },
    {
      "cell_type": "markdown",
      "metadata": {
        "id": "-BtxofetT-Ua"
      },
      "source": [
        "###**Etiquetas**\n",
        "\n",
        "Con Pyplot, se pueden usar los parámetros `xlabel()` y `ylabel()` para detallar el texto de `x-axis y-axis`"
      ]
    },
    {
      "cell_type": "code",
      "execution_count": null,
      "metadata": {
        "id": "shnEoxMtUefB"
      },
      "outputs": [],
      "source": [
        "x = np.array([80, 85, 90, 95, 100, 105, 110, 115, 120, 125])\n",
        "y = np.array([240, 250, 260, 270, 280, 290, 300, 310, 320, 330])\n",
        "plt.plot(x, y)\n",
        "plt.xlabel(\"Pulso Promedio\")\n",
        "plt.ylabel(\"Quema de calorías\")\n",
        "plt.show()"
      ]
    },
    {
      "cell_type": "markdown",
      "metadata": {
        "id": "_8Ln3HyGUpTw"
      },
      "source": [
        "###**Crear un título**\n",
        "\n",
        "Con Pyplot, puede usar la función `title()` para establecer el título de un gráfico."
      ]
    },
    {
      "cell_type": "code",
      "execution_count": null,
      "metadata": {
        "id": "tmPgf6-1U2Cr"
      },
      "outputs": [],
      "source": [
        "x = np.array([80, 85, 90, 95, 100, 105, 110, 115, 120, 125])\n",
        "y = np.array([240, 250, 260, 270, 280, 290, 300, 310, 320, 330])\n",
        "plt.plot(x, y)\n",
        "plt.title(\"Datos del reloj deportivo\")\n",
        "plt.xlabel(\"Pulso Promedio\")\n",
        "plt.ylabel(\"Quema de calorías\")\n",
        "plt.show()"
      ]
    },
    {
      "cell_type": "markdown",
      "metadata": {
        "id": "En4zBbCQVEix"
      },
      "source": [
        "###**Agregar líneas de cuadrícula a una gráfica**\n",
        "\n",
        "Con Pyplot, puede usar la función `grid()` para agregar líneas de cuadrícula a una gráfica."
      ]
    },
    {
      "cell_type": "code",
      "execution_count": null,
      "metadata": {
        "id": "rdhzHRQZVTS8"
      },
      "outputs": [],
      "source": [
        "x = np.array([80, 85, 90, 95, 100, 105, 110, 115, 120, 125])\n",
        "y = np.array([240, 250, 260, 270, 280, 290, 300, 310, 320, 330])\n",
        "plt.title(\"Datos del reloj deportivo\")\n",
        "plt.xlabel(\"Pulso Promedio\")\n",
        "plt.ylabel(\"Quema de calorías\")\n",
        "plt.plot(x, y)\n",
        "plt.grid()\n",
        "plt.show()"
      ]
    },
    {
      "cell_type": "markdown",
      "metadata": {
        "id": "e74PQL59VcSX"
      },
      "source": [
        "###**Especificar las líneas de cuadrícula a mostrar**\n",
        "\n",
        "Se puede usar el parámetro `axis` en la función `grid()` para especificar que líneas de cuadricula mostrar.\n",
        "\n",
        "Valores permitidos: `'x'`, `'y'` y `'both'`, si no se especifica el valor por defecto es `'both'`"
      ]
    },
    {
      "cell_type": "code",
      "execution_count": null,
      "metadata": {
        "id": "vfdIi-5jYFSF"
      },
      "outputs": [],
      "source": [
        "x = np.array([80, 85, 90, 95, 100, 105, 110, 115, 120, 125])\n",
        "y = np.array([240, 250, 260, 270, 280, 290, 300, 310, 320, 330])\n",
        "plt.title(\"Datos del reloj deportivo\")\n",
        "plt.xlabel(\"Pulso Promedio\")\n",
        "plt.ylabel(\"Quema de calorías\")\n",
        "plt.plot(x, y)\n",
        "plt.grid(axis = 'x')\n",
        "plt.show()"
      ]
    },
    {
      "cell_type": "markdown",
      "metadata": {
        "id": "EWXx_UOFbFkZ"
      },
      "source": [
        "###**Multiples Gráficas**\n",
        "\n",
        "Con la función `subplots()` se crea una figura y una cuadrícula de subfiguras.\n",
        "\n",
        "El siguiente ejemplo gráfica dos figuras.\n"
      ]
    },
    {
      "cell_type": "code",
      "execution_count": null,
      "metadata": {
        "id": "yuRJUsTnbFCs"
      },
      "outputs": [],
      "source": [
        "#plot 1:\n",
        "x = np.array([0, 1, 2, 3])\n",
        "y = np.array([3, 8, 1, 10])\n",
        "plt.subplot(1, 2, 1)\n",
        "plt.plot(x,y)\n",
        "\n",
        "#plot 2:\n",
        "x = np.array([0, 1, 2, 3])\n",
        "y = np.array([10, 20, 30, 40])\n",
        "plt.subplot(1, 2, 2)\n",
        "plt.plot(x,y)\n",
        "\n",
        "plt.show()"
      ]
    },
    {
      "cell_type": "markdown",
      "metadata": {
        "id": "OtaSov-YeTNd"
      },
      "source": [
        "###**La Función `subplots()`**\n",
        "\n",
        "La función `subplots()` toma tres argumentos que describen el diseño de la figura. El diseño está organizado en filas y columnas, que están representadas por el primer y segundo argumento. El tercer argumento representa el índice de la gráfica actual.\n",
        "\n",
        "```python\n",
        "plt.subplot(1, 2, 1)\n",
        "#la figura tiene 1 fila, 2 columnas y estamos en el primer gráfico\n",
        "plt.subplot(1, 2, 2)\n",
        "#la figura tiene 1 fila, 2 columnas y estamos en el segundo gráfico\n",
        "```\n",
        "A continuación detallaremos un ejemplo en donde un subplot tenga dos filas y una columna.\n",
        "\n",
        "Puede dibujar tantas gráficas como desee en una figura, simplemente describa el número de filas, columnas y el índice de la gráfica.\n",
        "\n",
        "A continuación detallaremos 6 gráficas.\n",
        "\n",
        "Para agregar un título a las gráficas con la función `title()`.\n",
        "\n",
        "Para agregar un título para todas las gráficas se utiliza la función `suptitle()`\n"
      ]
    },
    {
      "cell_type": "code",
      "execution_count": null,
      "metadata": {
        "id": "pWyy4NEKfSz4"
      },
      "outputs": [],
      "source": [
        "#plot 1:\n",
        "x = np.array([0, 1, 2, 3])\n",
        "y = np.array([3, 8, 1, 10])\n",
        "\n",
        "plt.subplot(2, 1, 1)\n",
        "plt.plot(x,y)\n",
        "\n",
        "#plot 2:\n",
        "x = np.array([0, 1, 2, 3])\n",
        "y = np.array([10, 20, 30, 40])\n",
        "\n",
        "plt.subplot(2, 1, 2)\n",
        "plt.plot(x,y)\n",
        "\n",
        "plt.show()"
      ]
    },
    {
      "cell_type": "code",
      "execution_count": null,
      "metadata": {
        "id": "NKiveLgjfj9c"
      },
      "outputs": [],
      "source": [
        "x = np.array([0, 1, 2, 3])\n",
        "y = np.array([3, 8, 1, 10])\n",
        "\n",
        "plt.subplot(2, 3, 1)\n",
        "plt.plot(x,y)\n",
        "\n",
        "x = np.array([0, 1, 2, 3])\n",
        "y = np.array([10, 20, 30, 40])\n",
        "\n",
        "plt.subplot(2, 3, 2)\n",
        "plt.plot(x,y)\n",
        "\n",
        "x = np.array([0, 1, 2, 3])\n",
        "y = np.array([3, 8, 1, 10])\n",
        "\n",
        "plt.subplot(2, 3, 3)\n",
        "plt.plot(x,y)\n",
        "\n",
        "x = np.array([0, 1, 2, 3])\n",
        "y = np.array([10, 20, 30, 40])\n",
        "\n",
        "plt.subplot(2, 3, 4)\n",
        "plt.plot(x,y)\n",
        "\n",
        "x = np.array([0, 1, 2, 3])\n",
        "y = np.array([3, 8, 1, 10])\n",
        "\n",
        "plt.subplot(2, 3, 5)\n",
        "plt.plot(x,y)\n",
        "\n",
        "x = np.array([0, 1, 2, 3])\n",
        "y = np.array([10, 20, 30, 40])\n",
        "\n",
        "plt.subplot(2, 3, 6)\n",
        "plt.plot(x,y)\n",
        "\n",
        "plt.show()"
      ]
    },
    {
      "cell_type": "code",
      "execution_count": null,
      "metadata": {
        "id": "WPnucX-mf2FT"
      },
      "outputs": [],
      "source": [
        "#plot 1:\n",
        "x = np.array([0, 1, 2, 3])\n",
        "y = np.array([3, 8, 1, 10])\n",
        "\n",
        "plt.subplot(1, 2, 1)\n",
        "plt.plot(x,y)\n",
        "plt.title(\"Ventas\")\n",
        "\n",
        "#plot 2:\n",
        "x = np.array([0, 1, 2, 3])\n",
        "y = np.array([10, 20, 30, 40])\n",
        "\n",
        "plt.subplot(1, 2, 2)\n",
        "plt.plot(x,y)\n",
        "plt.title(\"Ganancias\")\n",
        "\n",
        "plt.show()"
      ]
    },
    {
      "cell_type": "code",
      "execution_count": null,
      "metadata": {
        "id": "_J37fOVogH8F"
      },
      "outputs": [],
      "source": [
        "#plot 1:\n",
        "x = np.array([0, 1, 2, 3])\n",
        "y = np.array([3, 8, 1, 10])\n",
        "\n",
        "plt.subplot(1, 2, 1)\n",
        "plt.plot(x,y)\n",
        "plt.title(\"Ventas\")\n",
        "\n",
        "#plot 2:\n",
        "x = np.array([0, 1, 2, 3])\n",
        "y = np.array([10, 20, 30, 40])\n",
        "\n",
        "plt.subplot(1, 2, 2)\n",
        "plt.plot(x,y)\n",
        "plt.title(\"Ganancias\")\n",
        "\n",
        "plt.suptitle(\"Tienda - Los Hermanos Brothers\")\n",
        "plt.show()"
      ]
    },
    {
      "cell_type": "markdown",
      "metadata": {
        "id": "Ty4vJ5QcgjiT"
      },
      "source": [
        "###**Gráficas de dispersión**\n",
        "\n",
        "Con Pyplot, puede usar la función `scatter()` para dibujar un diagrama de dispersión. La función `scatter()` traza un punto para cada observación. Necesita dos matrices de la misma longitud, una para los valores del eje $x$ y otra para los valores del eje $y$.\n",
        "\n",
        "Los valores detallan la siguiente información:\n",
        "*   La observación detalla el resultado del paso de 13 automóviles por una cámara de fotomultas.\n",
        "*   El eje X muestra la antigüedad del automóvil.\n",
        "*   El eje Y muestra la velocidad del automóvil cuando pasa.\n",
        "\n",
        "¿Existe alguna relación entre las observaciones?\n",
        "\n",
        "Parece que cuanto más nuevo es el automóvil, más rápido conduce, pero eso podría ser una coincidencia, después de todo, solo registramos 13 automóviles.\n"
      ]
    },
    {
      "cell_type": "code",
      "execution_count": null,
      "metadata": {
        "id": "EiE1rqDehI9r"
      },
      "outputs": [],
      "source": [
        "x = np.array([5,7,8,7,2,17,2,9,4,11,12,9,6])\n",
        "y = np.array([99,86,87,88,111,86,103,87,94,78,77,85,86])\n",
        "\n",
        "plt.scatter(x, y)\n",
        "plt.show()"
      ]
    },
    {
      "cell_type": "markdown",
      "metadata": {
        "id": "LZJbpTAHhXsG"
      },
      "source": [
        "###**Comparación de gráficas**\n",
        "\n",
        "En el ejemplo anterior, parece haber una relación entre la velocidad y la edad, pero ¿qué pasa si también graficamos las observaciones de otro día? ¿El diagrama de dispersión nos dirá algo más?\n",
        "\n",
        "Al comparar los dos gráficos, creo que es seguro decir que ambos nos dan la misma conclusión: cuanto más nuevo es el automóvil, más rápido conduce.\n"
      ]
    },
    {
      "cell_type": "code",
      "execution_count": null,
      "metadata": {
        "id": "IqLAkaOth4J1"
      },
      "outputs": [],
      "source": [
        "#día 1 - 13 carros\n",
        "x = np.array([5,7,8,7,2,17,2,9,4,11,12,9,6])\n",
        "y = np.array([99,86,87,88,111,86,103,87,94,78,77,85,86])\n",
        "plt.scatter(x, y)\n",
        "\n",
        "#día 2 - 15 carros\n",
        "x = np.array([2,2,8,1,15,8,12,9,7,3,11,4,7,14,12])\n",
        "y = np.array([100,105,84,105,90,99,90,95,94,100,79,112,91,80,85])\n",
        "plt.scatter(x, y)\n",
        "\n",
        "plt.show()"
      ]
    },
    {
      "cell_type": "markdown",
      "metadata": {
        "id": "5Tvei0v0iIPP"
      },
      "source": [
        "###**Colores**\n",
        "\n",
        "Se puede establecer el color para cada gráfico de dispersión con el argumento `color` o `c`:"
      ]
    },
    {
      "cell_type": "code",
      "execution_count": null,
      "metadata": {
        "id": "GXY2EmakiW8o"
      },
      "outputs": [],
      "source": [
        "x = np.array([5,7,8,7,2,17,2,9,4,11,12,9,6])\n",
        "y = np.array([99,86,87,88,111,86,103,87,94,78,77,85,86])\n",
        "plt.scatter(x, y, color = 'hotpink')\n",
        "\n",
        "x = np.array([2,2,8,1,15,8,12,9,7,3,11,4,7,14,12])\n",
        "y = np.array([100,105,84,105,90,99,90,95,94,100,79,112,91,80,85])\n",
        "plt.scatter(x, y, color = '#88c999')\n",
        "\n",
        "plt.show()"
      ]
    },
    {
      "cell_type": "markdown",
      "metadata": {
        "id": "6sehNqHvimJl"
      },
      "source": [
        "###**Colores a cada punto**\n",
        "\n",
        "Se puede establecer un color específico para cada punto utilizando una matriz de colores como valor para el argumento `c`:\n",
        "\n",
        "Nota: No puede usar el argumento de `color` para esto, solo el argumento `c`."
      ]
    },
    {
      "cell_type": "code",
      "execution_count": null,
      "metadata": {
        "id": "yxKxi7LrizpH"
      },
      "outputs": [],
      "source": [
        "x = np.array([5,7,8,7,2,17,2,9,4,11,12,9,6])\n",
        "y = np.array([99,86,87,88,111,86,103,87,94,78,77,85,86])\n",
        "colors = np.array([\"red\",\"green\",\"blue\",\"yellow\",\"pink\",\"black\",\"orange\",\"purple\",\"beige\",\"brown\",\"gray\",\"cyan\",\"magenta\"])\n",
        "\n",
        "plt.scatter(x, y, c=colors)\n",
        "\n",
        "plt.show()"
      ]
    },
    {
      "cell_type": "markdown",
      "metadata": {
        "id": "LbM_m2xIi3QQ"
      },
      "source": [
        "###**Mapa de Colores**\n",
        "\n",
        "Matplotlib tiene diferentes mapas de colores (ColorMap) disponibles, un mapa de colores es como una lista de colores, donde cada color tiene un valor que va de 0 a 100.\n",
        "\n",
        "A continuación, se muestra un ejemplo de mapa de colores:\n",
        "\n",
        "![](https://www.w3schools.com/python/img_colorbar.png)\n",
        "\n",
        "Este mapa de colores se llama `'viridis'` y, como puede ver, va desde $0$, que es un color púrpura, y hasta $100$, que es un color amarillo.\n",
        "\n",
        "###**Cómo utilizar ColorMap**\n",
        "\n",
        "Puede especificar el mapa de colores con el argumento de palabra clave cmap con el valor del mapa de colores, en este caso 'viridis', que es uno de los mapas de colores integrados disponibles en Matplotlib.\n",
        "\n",
        "Además, debe crear una matriz con valores (de 0 a 100), un valor para cada uno de los puntos en el diagrama de dispersión:\n",
        "\n",
        "Puede incluir el mapa de colores en el dibujo si incluye la declaración `plt.colorbar()`"
      ]
    },
    {
      "cell_type": "code",
      "execution_count": null,
      "metadata": {
        "id": "P0m77oJljbJF"
      },
      "outputs": [],
      "source": [
        "x = np.array([5,7,8,7,2,17,2,9,4,11,12,9,6])\n",
        "y = np.array([99,86,87,88,111,86,103,87,94,78,77,85,86])\n",
        "colors = np.array([0, 10, 20, 30, 40, 45, 50, 55, 60, 70, 80, 90, 100])\n",
        "\n",
        "plt.scatter(x, y, c=colors, cmap='viridis')\n",
        "plt.colorbar()\n",
        "plt.show()"
      ]
    },
    {
      "cell_type": "markdown",
      "metadata": {
        "id": "usbWNIznjq68"
      },
      "source": [
        "###**ColorMap disponibles**\n",
        "\n",
        "<table>\n",
        "<thead>\n",
        "  <tr>\n",
        "    <th>Nombre</th>\n",
        "    <th>Reverso</th>\n",
        "    <th></th>\n",
        "    <th>Nombre</th>\n",
        "    <th>Reverso</th>\n",
        "    <th></th>\n",
        "    <th>Nombre</th>\n",
        "    <th>Reverso</th>\n",
        "    <th></th>\n",
        "    <th>Nombre</th>\n",
        "    <th>Reverso</th>\n",
        "  </tr>\n",
        "</thead>\n",
        "<tbody>\n",
        "  <tr>\n",
        "    <td>Accent</td>\n",
        "    <td>Accent_r</td>\n",
        "    <td></td>\n",
        "    <td>Purples</td>\n",
        "    <td>Purples_r</td>\n",
        "    <td></td>\n",
        "    <td>bwr</td>\n",
        "    <td>bwr_r</td>\n",
        "    <td></td>\n",
        "    <td>magma</td>\n",
        "    <td>magma_r</td>\n",
        "  </tr>\n",
        "  <tr>\n",
        "    <td>Blues</td>\n",
        "    <td>Blues_r</td>\n",
        "    <td></td>\n",
        "    <td>RdBu</td>\n",
        "    <td>RdBu_r</td>\n",
        "    <td></td>\n",
        "    <td>cividis</td>\n",
        "    <td>cividis_r</td>\n",
        "    <td></td>\n",
        "    <td>nipy_spectral</td>\n",
        "    <td>nipy_spectral_r</td>\n",
        "  </tr>\n",
        "  <tr>\n",
        "    <td>BrBG</td>\n",
        "    <td>BrBG_r</td>\n",
        "    <td></td>\n",
        "    <td>RdGy</td>\n",
        "    <td>RdGy_r</td>\n",
        "    <td></td>\n",
        "    <td>cool</td>\n",
        "    <td>cool_r</td>\n",
        "    <td></td>\n",
        "    <td>ocean</td>\n",
        "    <td>ocean_r</td>\n",
        "  </tr>\n",
        "  <tr>\n",
        "    <td>BuGn</td>\n",
        "    <td>BuGn_r</td>\n",
        "    <td></td>\n",
        "    <td>RdPu</td>\n",
        "    <td>RdPu_r</td>\n",
        "    <td></td>\n",
        "    <td>coolwarm</td>\n",
        "    <td>coolwarm_r</td>\n",
        "    <td></td>\n",
        "    <td>pink</td>\n",
        "    <td>pink_r</td>\n",
        "  </tr>\n",
        "  <tr>\n",
        "    <td>BuPu</td>\n",
        "    <td>BuPu_r</td>\n",
        "    <td></td>\n",
        "    <td>RdYlBu</td>\n",
        "    <td>RdYlBu_r</td>\n",
        "    <td></td>\n",
        "    <td>copper</td>\n",
        "    <td>copper_r</td>\n",
        "    <td></td>\n",
        "    <td>plasma</td>\n",
        "    <td>plasma_r</td>\n",
        "  </tr>\n",
        "  <tr>\n",
        "    <td>CMRmap</td>\n",
        "    <td>CMRmap_r</td>\n",
        "    <td></td>\n",
        "    <td>RdYlGn</td>\n",
        "    <td>RdYlGn_r</td>\n",
        "    <td></td>\n",
        "    <td>cubehelix</td>\n",
        "    <td>cubehelix_r</td>\n",
        "    <td></td>\n",
        "    <td>prism</td>\n",
        "    <td>prism_r</td>\n",
        "  </tr>\n",
        "  <tr>\n",
        "    <td>Dark2</td>\n",
        "    <td>Dark2_r</td>\n",
        "    <td></td>\n",
        "    <td>Reds</td>\n",
        "    <td>Reds_r</td>\n",
        "    <td></td>\n",
        "    <td>flag</td>\n",
        "    <td>flag_r</td>\n",
        "    <td></td>\n",
        "    <td>rainbow</td>\n",
        "    <td>rainbow_r</td>\n",
        "  </tr>\n",
        "  <tr>\n",
        "    <td>GnBu</td>\n",
        "    <td>GnBu_r</td>\n",
        "    <td></td>\n",
        "    <td>Set1</td>\n",
        "    <td>Set1_r</td>\n",
        "    <td></td>\n",
        "    <td>gist_earth</td>\n",
        "    <td>gist_earth_r</td>\n",
        "    <td></td>\n",
        "    <td>seismic</td>\n",
        "    <td>seismic_r</td>\n",
        "  </tr>\n",
        "  <tr>\n",
        "    <td>Greens</td>\n",
        "    <td>Greens_r</td>\n",
        "    <td></td>\n",
        "    <td>Set2</td>\n",
        "    <td>Set2_r</td>\n",
        "    <td></td>\n",
        "    <td>gist_gray</td>\n",
        "    <td>gist_gray_r</td>\n",
        "    <td></td>\n",
        "    <td>spring</td>\n",
        "    <td>spring_r</td>\n",
        "  </tr>\n",
        "  <tr>\n",
        "    <td>Greys</td>\n",
        "    <td>Greys_r</td>\n",
        "    <td></td>\n",
        "    <td>Set3</td>\n",
        "    <td>Set3_r</td>\n",
        "    <td></td>\n",
        "    <td>gist_heat</td>\n",
        "    <td>gist_heat_r</td>\n",
        "    <td></td>\n",
        "    <td>summer</td>\n",
        "    <td>summer_r</td>\n",
        "  </tr>\n",
        "  <tr>\n",
        "    <td>OrRd</td>\n",
        "    <td>OrRd_r</td>\n",
        "    <td></td>\n",
        "    <td>Spectral</td>\n",
        "    <td>Spectral_r</td>\n",
        "    <td></td>\n",
        "    <td>gist_ncar</td>\n",
        "    <td>gist_ncar_r</td>\n",
        "    <td></td>\n",
        "    <td>tab10</td>\n",
        "    <td>tab10_r</td>\n",
        "  </tr>\n",
        "  <tr>\n",
        "    <td>Oranges</td>\n",
        "    <td>Oranges_r</td>\n",
        "    <td></td>\n",
        "    <td>Wistia</td>\n",
        "    <td>Wistia_r</td>\n",
        "    <td></td>\n",
        "    <td>gist_rainbow</td>\n",
        "    <td>gist_rainbow_r</td>\n",
        "    <td></td>\n",
        "    <td>tab20</td>\n",
        "    <td>tab20_r</td>\n",
        "  </tr>\n",
        "  <tr>\n",
        "    <td>PRGn</td>\n",
        "    <td>PRGn_r</td>\n",
        "    <td></td>\n",
        "    <td>YlGn</td>\n",
        "    <td>YlGn_r</td>\n",
        "    <td></td>\n",
        "    <td>gist_stern</td>\n",
        "    <td>gist_stern_r</td>\n",
        "    <td></td>\n",
        "    <td>tab20b</td>\n",
        "    <td>tab20b_r</td>\n",
        "  </tr>\n",
        "  <tr>\n",
        "    <td>Paired</td>\n",
        "    <td>Paired_r</td>\n",
        "    <td></td>\n",
        "    <td>YlGnBu</td>\n",
        "    <td>YlGnBu_r</td>\n",
        "    <td></td>\n",
        "    <td>gist_yarg</td>\n",
        "    <td>gist_yarg_r</td>\n",
        "    <td></td>\n",
        "    <td>tab20c</td>\n",
        "    <td>tab20c_r</td>\n",
        "  </tr>\n",
        "  <tr>\n",
        "    <td>Pastel1</td>\n",
        "    <td>Pastel1_r</td>\n",
        "    <td></td>\n",
        "    <td>YlOrBr</td>\n",
        "    <td>YlOrBr_r</td>\n",
        "    <td></td>\n",
        "    <td>gnuplot</td>\n",
        "    <td>gnuplot_r</td>\n",
        "    <td></td>\n",
        "    <td>terrain</td>\n",
        "    <td>terrain_r</td>\n",
        "  </tr>\n",
        "  <tr>\n",
        "    <td>Pastel2</td>\n",
        "    <td>Pastel2_r</td>\n",
        "    <td></td>\n",
        "    <td>YlOrRd</td>\n",
        "    <td>YlOrRd_r</td>\n",
        "    <td></td>\n",
        "    <td>gnuplot2</td>\n",
        "    <td>gnuplot2_r</td>\n",
        "    <td></td>\n",
        "    <td>twilight</td>\n",
        "    <td>twilight_r</td>\n",
        "  </tr>\n",
        "  <tr>\n",
        "    <td>PiYG</td>\n",
        "    <td>PiYG_r</td>\n",
        "    <td></td>\n",
        "    <td>afmhot</td>\n",
        "    <td>afmhot_r</td>\n",
        "    <td></td>\n",
        "    <td>gray</td>\n",
        "    <td>gray_r</td>\n",
        "    <td></td>\n",
        "    <td>twilight_shifted</td>\n",
        "    <td>twilight_shifted_r</td>\n",
        "  </tr>\n",
        "  <tr>\n",
        "    <td>PuBu</td>\n",
        "    <td>PuBu_r</td>\n",
        "    <td></td>\n",
        "    <td>autumn</td>\n",
        "    <td>autumn_r</td>\n",
        "    <td></td>\n",
        "    <td>hot</td>\n",
        "    <td>hot_r</td>\n",
        "    <td></td>\n",
        "    <td>viridis</td>\n",
        "    <td>viridis_r</td>\n",
        "  </tr>\n",
        "  <tr>\n",
        "    <td>PuBuGn</td>\n",
        "    <td>PuBuGn_r</td>\n",
        "    <td></td>\n",
        "    <td>binary</td>\n",
        "    <td>binary_r</td>\n",
        "    <td></td>\n",
        "    <td>hsv</td>\n",
        "    <td>hsv_r</td>\n",
        "    <td></td>\n",
        "    <td>winter</td>\n",
        "    <td>winter_r</td>\n",
        "  </tr>\n",
        "  <tr>\n",
        "    <td>PuOr</td>\n",
        "    <td>PuOr_r</td>\n",
        "    <td></td>\n",
        "    <td>bone</td>\n",
        "    <td>bone_r</td>\n",
        "    <td></td>\n",
        "    <td>inferno</td>\n",
        "    <td>inferno_r</td>\n",
        "    <td></td>\n",
        "    <td></td>\n",
        "    <td></td>\n",
        "  </tr>\n",
        "  <tr>\n",
        "    <td>PuRd</td>\n",
        "    <td>PuRd_r</td>\n",
        "    <td></td>\n",
        "    <td>brg</td>\n",
        "    <td>brg_r</td>\n",
        "    <td></td>\n",
        "    <td>jet</td>\n",
        "    <td>jet_r</td>\n",
        "    <td></td>\n",
        "    <td></td>\n",
        "    <td></td>\n",
        "  </tr>\n",
        "</tbody>\n",
        "</table>\n"
      ]
    },
    {
      "cell_type": "markdown",
      "metadata": {
        "id": "m-rDp2Rft7FW"
      },
      "source": [
        "###**Tamaño de los marcadores**\n",
        "\n",
        "El tamaño de los marcadores o puntos se puede cambiar con el argumento `s`.\n",
        "\n",
        "Al igual que los colores, asegúrese de que la matriz de tamaños tenga la misma longitud que las matrices de los ejes $x$ e $y$:"
      ]
    },
    {
      "cell_type": "code",
      "execution_count": null,
      "metadata": {
        "id": "JwN74a9juLMD"
      },
      "outputs": [],
      "source": [
        "x = np.array([5,7,8,7,2,17,2,9,4,11,12,9,6])\n",
        "y = np.array([99,86,87,88,111,86,103,87,94,78,77,85,86])\n",
        "sizes = np.array([20,50,100,200,500,1000,60,90,10,300,600,800,75])\n",
        "\n",
        "plt.scatter(x, y, s=sizes)\n",
        "\n",
        "plt.show()"
      ]
    },
    {
      "cell_type": "markdown",
      "metadata": {
        "id": "dSi8aJfguQNe"
      },
      "source": [
        "###**Transparencia marcadores**\n",
        "\n",
        "**Alpha**\n",
        "\n",
        "Se puede ajustar la transparencia de los marcadores o puntos con el argumento `alpha`\n",
        "\n",
        "Al igual que los colores, asegúrese de que la matriz de tamaños tenga la misma longitud que las matrices de los ejes $x$ e $y$:"
      ]
    },
    {
      "cell_type": "code",
      "execution_count": null,
      "metadata": {
        "id": "UwcAmtZrukK0"
      },
      "outputs": [],
      "source": [
        "x = np.array([5,7,8,7,2,17,2,9,4,11,12,9,6])\n",
        "y = np.array([99,86,87,88,111,86,103,87,94,78,77,85,86])\n",
        "sizes = np.array([20,50,100,200,500,1000,60,90,10,300,600,800,75])\n",
        "\n",
        "plt.scatter(x, y, s=sizes, alpha=0.5)\n",
        "\n",
        "plt.show()"
      ]
    },
    {
      "cell_type": "markdown",
      "metadata": {
        "id": "ldZO5mCTuqDw"
      },
      "source": [
        "###**Combinar tamaño, color y Alpha**\n",
        "\n",
        "**Alpha**\n",
        "\n",
        "\n",
        "Puede combinar un mapa de colores con diferentes tamaños en los puntos. Esto se visualiza mejor si los puntos son transparentes:"
      ]
    },
    {
      "cell_type": "code",
      "execution_count": null,
      "metadata": {
        "id": "Ec8GqeFdu8qO"
      },
      "outputs": [],
      "source": [
        "x = np.random.randint(100, size=(100))\n",
        "y = np.random.randint(100, size=(100))\n",
        "colors = np.random.randint(100, size=(100))\n",
        "sizes = 10 * np.random.randint(100, size=(100))\n",
        "\n",
        "plt.scatter(x, y, c=colors, s=sizes, alpha=0.5, cmap='nipy_spectral')\n",
        "\n",
        "plt.colorbar()\n",
        "\n",
        "plt.show()"
      ]
    },
    {
      "cell_type": "markdown",
      "metadata": {
        "id": "4uVx7AAvvPZ6"
      },
      "source": [
        "###**Gráficas de barras**\n",
        "\n",
        "Con Pyplot, puede usar la función `bar()` para dibujar un diagrama de barras. La función `bar()` dibuja una barra para cada observación.\n",
        "\n",
        "La función `bar()` toma argumentos que describen el diseño de las barras. Las categorías y sus valores representados por el primer y segundo argumento como matrices."
      ]
    },
    {
      "cell_type": "code",
      "execution_count": null,
      "metadata": {
        "id": "4PpZHA5_vgKd"
      },
      "outputs": [],
      "source": [
        "x = np.array([\"A\", \"B\", \"C\", \"D\"])\n",
        "y = np.array([3, 8, 1, 10])\n",
        "\n",
        "plt.bar(x,y)\n",
        "plt.show()"
      ]
    },
    {
      "cell_type": "code",
      "execution_count": null,
      "metadata": {
        "id": "CKob37IfvqTH"
      },
      "outputs": [],
      "source": [
        "x = [\"Yuca\", \"Papa\"]\n",
        "y = [400, 350]\n",
        "plt.bar(x, y)\n",
        "plt.show()"
      ]
    },
    {
      "cell_type": "markdown",
      "metadata": {
        "id": "UvtxKBZLv0Zb"
      },
      "source": [
        "###**Gráficas de barras horizontales**\n",
        "\n",
        "Con Pyplot, puede usar la función `barh()` para dibujar un diagrama de barras horizontales. La función `barh()` dibuja una barra para cada observación."
      ]
    },
    {
      "cell_type": "code",
      "execution_count": null,
      "metadata": {
        "id": "xy84gmbUv98Z"
      },
      "outputs": [],
      "source": [
        "x = np.array([\"A\", \"B\", \"C\", \"D\"])\n",
        "y = np.array([3, 8, 1, 10])\n",
        "\n",
        "plt.barh(x, y)\n",
        "plt.show()"
      ]
    },
    {
      "cell_type": "markdown",
      "metadata": {
        "id": "g0nZomIywBQn"
      },
      "source": [
        "###**Colores de las barras**\n",
        "\n",
        "`bar()` y `barh()` utilizan el argumento `color` para detallar el color de las barras.\n",
        "\n",
        "![](https://matplotlib.org/stable/_images/sphx_glr_named_colors_001.png)\n",
        "\n",
        "![](https://matplotlib.org/stable/_images/sphx_glr_named_colors_002.png)\n",
        "\n",
        "![](https://matplotlib.org/stable/_images/sphx_glr_named_colors_003.png)"
      ]
    },
    {
      "cell_type": "code",
      "execution_count": null,
      "metadata": {
        "id": "2eIuiyQfwN4s"
      },
      "outputs": [],
      "source": [
        "x = np.array([\"A\", \"B\", \"C\", \"D\"])\n",
        "y = np.array([3, 8, 1, 10])\n",
        "\n",
        "plt.bar(x, y, color = \"red\")\n",
        "plt.show()"
      ]
    },
    {
      "cell_type": "markdown",
      "metadata": {
        "id": "Jx2-BifBw4-a"
      },
      "source": [
        "###**Ancho y alto de las barras**\n",
        "\n",
        "`bar()` utilizan el argumento `width` para detallar el ancho de las barras.\n",
        "\n",
        "`barh()` utilizan el argumento `height` para detallar el alto de las barras."
      ]
    },
    {
      "cell_type": "code",
      "execution_count": null,
      "metadata": {
        "id": "ifR-FJ7nxNK4"
      },
      "outputs": [],
      "source": [
        "x = np.array([\"A\", \"B\", \"C\", \"D\"])\n",
        "y = np.array([3, 8, 1, 10])\n",
        "\n",
        "plt.bar(x, y, width = 0.1)\n",
        "plt.show()\n",
        "\n",
        "plt.barh(x, y, height = 0.1)\n",
        "plt.show()"
      ]
    },
    {
      "cell_type": "markdown",
      "metadata": {
        "id": "Lxly24NvxWd8"
      },
      "source": [
        "###**Histogramas**\n",
        "\n",
        "Un histograma es un gráfico que muestra distribuciones de frecuencia.\n",
        "\n",
        "Es un gráfico que muestra el número de observaciones dentro de cada intervalo dado.\n",
        "\n",
        "Ejemplo: digamos que pregunta por la altura de 250 personas, podría terminar con un histograma como este:\n",
        "\n",
        "![](https://www.w3schools.com/python/img_matplotlib_histogram1.png)\n",
        "\n",
        "Puede leer en el histograma que hay aproximadamente:\n",
        "\n",
        "* 2 personas de 140 a 145cm\n",
        "* 5 personas de 145 a 150cm\n",
        "* 15 personas de 151 a 156cm\n",
        "* 31 personas de 157 a 162cm\n",
        "* 46 personas de 163 a 168cm\n",
        "* 53 personas de 168 a 173cm\n",
        "* 45 personas de 173 a 178cm\n",
        "* 28 personas de 179 a 184cm\n",
        "* 21 personas de 185 a 190cm\n",
        "* 4 personas de 190 a 195cm"
      ]
    },
    {
      "cell_type": "markdown",
      "metadata": {
        "id": "fcb1HzYk0ByJ"
      },
      "source": [
        "###**Crear un Histogramas**\n",
        "\n",
        "En Matplotlib, usamos la función `hist()` para crear histogramas.\n",
        "\n",
        "La función `hist()` usará una matriz de números para crear un histograma, la matriz se envía a la función como un argumento.\n",
        "\n",
        "Para simplificar, usamos NumPy para generar aleatoriamente una matriz con 250 valores, donde los valores se concentrarán alrededor de 170 y la desviación estándar es 10.\n",
        "\n",
        "```python\n",
        "x = np.random.normal(170, 10, 250)\n",
        "print(x)\n",
        "```\n",
        "La funcion `hist()` leerá la matriz y generará el histograma.\n",
        "\n"
      ]
    },
    {
      "cell_type": "code",
      "execution_count": null,
      "metadata": {
        "id": "XwdUumNX0S8G"
      },
      "outputs": [],
      "source": [
        "x = np.random.normal(170, 10, 250)\n",
        "\n",
        "plt.hist(x)\n",
        "plt.show()"
      ]
    },
    {
      "cell_type": "markdown",
      "metadata": {
        "id": "neoVEPN_0c_z"
      },
      "source": [
        "###**Gráficos circulares (torta)**\n",
        "\n",
        "Con Pyplot, puede usar la función `pie()` para dibujar gráficos circulares.\n",
        "\n",
        "Como puede ver, el gráfico circular dibuja una pieza (llamada wedge) para cada valor en la matriz (en este caso `[35, 25, 25, 15]`).\n",
        "\n",
        "De forma predeterminada, el trazado de la primera parte o `wedge` comienza desde el eje $x$ y se mueve en sentido antihorario.\n",
        "\n",
        "Nota: El tamaño de cada parte (`wedge`) se determina comparando el valor con todos los demás valores, utilizando esta fórmula:\n",
        "\n",
        "El valor dividido por la suma de todos los valores: `x / suma (x)`\n",
        "\n",
        "![](https://www.w3schools.com/python/img_matplotlib_pie_start.png)"
      ]
    },
    {
      "cell_type": "code",
      "execution_count": null,
      "metadata": {
        "id": "27RkzOsM0spI"
      },
      "outputs": [],
      "source": [
        "y = np.array([35, 25, 25, 15])\n",
        "\n",
        "plt.pie(y)\n",
        "plt.show()"
      ]
    },
    {
      "cell_type": "markdown",
      "metadata": {
        "id": "dG7OTsqc1cBN"
      },
      "source": [
        "###**Etiquetas de Gráficos circulares (torta)**\n",
        "\n",
        "Agregue etiquetas al gráfico circular con el parámetro de etiqueta `label`.\n",
        "\n",
        "El parámetro de etiqueta debe ser una matriz con una etiqueta para cada sector:\n"
      ]
    },
    {
      "cell_type": "code",
      "execution_count": null,
      "metadata": {
        "id": "zWDw9vGZ1ogD"
      },
      "outputs": [],
      "source": [
        "y = np.array([35, 25, 25, 15])\n",
        "mylabels = [\"Yuca\", \"Platano\", \"Papa\", \"Tomate\"]\n",
        "\n",
        "plt.pie(y, labels = mylabels)\n",
        "plt.show()"
      ]
    },
    {
      "cell_type": "markdown",
      "metadata": {
        "id": "o6VEeHX112m8"
      },
      "source": [
        "###**Colores de Gráficos circulares (torta)**\n",
        "\n",
        "Puede establecer el color de cada cuña con el parámetro de colores `colors`.\n",
        "\n",
        "El parámetro `colors`, si se especifica, debe ser una matriz con un valor para cada sector:\n"
      ]
    },
    {
      "cell_type": "code",
      "execution_count": null,
      "metadata": {
        "id": "AtxCf3dK2HbY"
      },
      "outputs": [],
      "source": [
        "y = np.array([35, 25, 25, 15])\n",
        "mylabels = [\"Yuca\", \"Platano\", \"Papa\", \"Tomate\"]\n",
        "mycolors = [\"sienna\", \"green\", \"peru\", \"red\"]\n",
        "\n",
        "plt.pie(y, labels = mylabels, colors = mycolors)\n",
        "plt.show()"
      ]
    },
    {
      "cell_type": "markdown",
      "metadata": {
        "id": "CT0-mUJH2oiw"
      },
      "source": [
        "###**Leyenda**\n",
        "\n",
        "Para agregar una lista de explicación tipo leyenda para cada sector, use la función `legend()`.\n",
        "\n",
        "Para agregar un encabezado a la leyenda, agregue el parámetro `title` a la función `legend()`.\n",
        "Para ubicar la leyenda podemos utilizar el parametro `loc` con la siguiente tabla:\n",
        "\n",
        "Location String|Location Code\n",
        "---|---\n",
        "'best'|0\n",
        "'upper right'|1\n",
        "'upper left'|2\n",
        "'lower left'|3\n",
        "'lower right'|4\n",
        "'right'|5\n",
        "'center left'|6\n",
        "'center right'|7\n",
        "'lower center'|8\n",
        "'upper center'|9\n",
        "'center'|10"
      ]
    },
    {
      "cell_type": "code",
      "execution_count": null,
      "metadata": {
        "id": "-hiixhYe3EZT"
      },
      "outputs": [],
      "source": [
        "y = np.array([35, 25, 25, 15])\n",
        "mylabels = [\"Yuca\", \"Platano\", \"Papa\", \"Tomate\"]\n",
        "\n",
        "plt.pie(y, labels = mylabels)\n",
        "plt.legend(title=\"Sancocho\", loc=2)\n",
        "plt.show()"
      ]
    },
    {
      "cell_type": "markdown",
      "metadata": {
        "id": "TqVQhTBWJ19d"
      },
      "source": [
        "<p><a name=\"s4\"></a></p>\n",
        "\n",
        "# **04. Manejo de archivos**\n",
        "[[Contenidos]](#contents)\n",
        "\n",
        "\n",
        "El manejo de archivos es una parte importante de cualquier aplicación web. Google Colab y Python tiene varias funciones para crear, leer, actualizar y eliminar archivos."
      ]
    },
    {
      "cell_type": "markdown",
      "metadata": {
        "id": "1P0itjVIJ-1d"
      },
      "source": [
        "##**Subir archivos desde el sistema de archivos local**\n",
        "\n",
        "El módulo `google.colab` se basa en una serie de complementos detallados para el ecosistema Google Colaboratory que permiten la interacción con muchos de los servicios de Google, tales como Google Drive o Google Spreadsheets.\n",
        "El método files del módulo Google Colab permite cargar archivos al sistema operativo virtualizado en el cual se aloja Google Colab.\n",
        "\n",
        "`files.upload` muestra un diccionario de los archivos que se cargaron.\n",
        "El diccionario está codificado según el nombre de archivo y los valores son los datos que se subieron.\n",
        "\n",
        "Para el siguiente ejercicio descargaremos el archivo detallado a continuación y procederemos a cargarlos con la función `files.upload()` con el cual se detalla una ventana de dialogo para realizar la selección del archivo y su posterior carga.\n",
        "\n",
        "El documento se carga en la carpeta content-> nombre\n",
        "*    `/content/california_housing_test_cargar.csv`\n",
        "\n",
        "Los archivos en el entorno virtualizado de Google Colab tienen el siguiente árbol de datos, nótese que los niveles y carpetas están separados por `/` y no por `\\` como se utiliza en Windows. Para todas las lecturas de archivos se debe detallar con  `/`.\n",
        "\n",
        "\n",
        "\n",
        "```\n",
        "directorio/\n",
        "|\n",
        "├── bin/\n",
        "|   └──/(archivos de sistema)\n",
        "|\n",
        "├── boot/\n",
        "|   └──/(archivos de sistema)\n",
        "|\n",
        "├── content/\n",
        "|   ├── sample_data/\n",
        "|   |   ├── README.md\n",
        "|   |   ├── anscombe.json\n",
        "|   |   ├── california_housing_test.csv\n",
        "|   |   ├── california_housing_train.csv\n",
        "|   |   ├── mnist_test.csv\n",
        "|   |   └── mnist_train_small.csv\n",
        "|   └── california_housing_test_cargar.csv\n",
        "|\n",
        "├── datalab/\n",
        "|   └──/(archivos de sistema)\n",
        "├── dev/\n",
        "|   └──/(archivos de sistema)\n",
        ".\n",
        ".\n",
        ".\n",
        "```\n",
        "\n"
      ]
    },
    {
      "cell_type": "code",
      "execution_count": null,
      "metadata": {
        "id": "vLNpCvjYXm9Q"
      },
      "outputs": [],
      "source": [
        "from google.colab import files\n",
        "uploaded = files.upload()\n",
        "for fn in uploaded.keys():\n",
        "  print('El usuario ha cargado el archivo: \"{name}\" con tamaño {length} bytes'.format(\n",
        "      name=fn, length=len(uploaded[fn])))\n"
      ]
    },
    {
      "cell_type": "markdown",
      "metadata": {
        "id": "bE1s1pIW1N4h"
      },
      "source": [
        "El presente código puede parecer avanzado, pero con nuestro conocimientos podemos deducir lo que pasa en el lector de archivos CSV."
      ]
    },
    {
      "cell_type": "code",
      "execution_count": null,
      "metadata": {
        "id": "l9fETCcXzC5t"
      },
      "outputs": [],
      "source": [
        "import csv\n",
        "with open('/content/sample_data/california_housing_test.csv') as csv_file:\n",
        "    objetoCSV = csv.reader(csv_file, delimiter=',')\n",
        "    for row in objetoCSV:\n",
        "        print(f'Nombres de Columna \\n{\", \".join(row)}') #el método join() del módulo str permite unir objetos iterables\n",
        "        break"
      ]
    },
    {
      "cell_type": "markdown",
      "metadata": {
        "id": "eD4nsmpl4X8u"
      },
      "source": [
        "##**Descargar archivos en el sistema de archivos local**\n",
        "\n",
        "El módulo `google.colab` tiene método `files.download` el cual invocará una descarga del archivo desde el navegador a tu computadora local. Es de anotar que el archivo invocado será descargado."
      ]
    },
    {
      "cell_type": "code",
      "execution_count": null,
      "metadata": {
        "id": "L46P17S04tKq"
      },
      "outputs": [],
      "source": [
        "files.download('/content/sample_data/california_housing_test.csv')"
      ]
    },
    {
      "cell_type": "markdown",
      "metadata": {
        "id": "Ru_r0kp5Az7y"
      },
      "source": [
        "##**Google Drive**\n",
        "\n",
        "Puedes acceder a archivos en Drive de varias maneras, incluidas las siguientes:\n",
        "- Activación de Google Drive en la máquina virtual del entorno de ejecución\n",
        "- Usar un wrapper alrededor de la API, como <a href=\"https://pythonhosted.org/PyDrive/\">PyDrive</a>\n",
        "- Usar la <a href=\"https://developers.google.com/drive/v3/web/about-sdk\">API nativa de REST*</a>\n",
        "\n",
        "A continuación, detallaremos unos ejemplos.\n",
        "\n",
        "\\* [Definición de API REST](https://es.wikipedia.org/wiki/Transferencia_de_Estado_Representacional)"
      ]
    },
    {
      "cell_type": "markdown",
      "metadata": {
        "id": "Xr4G76LiE02n"
      },
      "source": [
        "##**Activar Google Drive de forma local**\n",
        "\n",
        "El ejemplo siguiente muestra cómo activar Google Drive en el entorno de ejecución mediante un código de autorización y cómo escribir y leer archivos allí. Una vez ejecutado, podrás ver el archivo nuevo (foo.txt) en [https://drive.google.com/.](https://drive.google.com), la presente configuración solo permite leer, escribir y mover archivos.\n",
        "\n",
        "Nota: Si utilizas el botón \"Activar unidad de Drive\" en el navegador de archivos, no necesitas ningún código de autenticación para los notebooks que solo modificó el usuario actual."
      ]
    },
    {
      "cell_type": "code",
      "execution_count": null,
      "metadata": {
        "id": "AXwvjUrwHGhX"
      },
      "outputs": [],
      "source": [
        "from google.colab import drive\n",
        "drive.mount('/content/drive')"
      ]
    },
    {
      "cell_type": "markdown",
      "metadata": {
        "id": "_EgOdv0-eyJU"
      },
      "source": [
        "##**Crear un Archivo en Google Drive de forma local**\n",
        "\n",
        "El ejemplo siguiente muestra cómo activar Google Drive en el entorno de ejecución mediante un código de autorización y cómo escribir y leer archivos allí. Una vez ejecutado, podrás ver el archivo nuevo (foo.txt) en [https://drive.google.com/.](https://drive.google.com), la presente configuración solo permite leer, escribir y mover archivos.\n",
        "\n",
        "Nota: Si utilizas el botón \"Activar unidad de Drive\" en el navegador de archivos, no necesitas ningún código de autenticación para los notebooks que solo modificó el usuario actual."
      ]
    },
    {
      "cell_type": "code",
      "execution_count": null,
      "metadata": {
        "id": "cS0TW7tDfWgW"
      },
      "outputs": [],
      "source": [
        "with open('/content/drive/MyDrive/_EjemploFundamentosProgramacion/Texto.txt', 'w') as f:\n",
        "  f.write('Escribiendo Directamente en Google Drive')\n",
        "!cat /content/drive/MyDrive/_EjemploFundamentosProgramacion/Texto.txt\n",
        "!echo \"\"\n",
        "!echo \"Los comandos con admiracion son comandos de consola\""
      ]
    },
    {
      "cell_type": "markdown",
      "metadata": {
        "id": "in6nyn-Aj3Or"
      },
      "source": [
        "##**Cerrar Conexión con Google Drive**\n",
        "\n",
        "Cerramos la sesión con el siguiente código y desmontamos el disco.\n"
      ]
    },
    {
      "cell_type": "code",
      "execution_count": null,
      "metadata": {
        "id": "4kEofj99kH5b"
      },
      "outputs": [],
      "source": [
        "drive.flush_and_unmount()\n",
        "print('Conexión con Google Drive Terminada - Todos los cambios no guardados se perdieron')"
      ]
    },
    {
      "cell_type": "markdown",
      "metadata": {
        "id": "Y4eaU4ImkWOP"
      },
      "source": [
        "##**Abrir archivos con Pyhton**\n",
        "\n",
        "El manejo de archivos es una parte importante de cualquier aplicación o script.Python tiene varias funciones para crear, leer, actualizar y eliminar archivos.\n"
      ]
    },
    {
      "cell_type": "markdown",
      "metadata": {
        "id": "JO7JnqZuMzkY"
      },
      "source": [
        "###**Manejo de archivos**\n",
        "La función clave para trabajar con archivos en Python es la función `open()`. La función `open()` toma dos parámetros; nombre de archivo y modo.\n",
        "\n",
        "Hay cuatro métodos (modos) diferentes para abrir un archivo:\n",
        "\n",
        "\n",
        "*   `r` - Lectura - Valor predeterminado. Abre un archivo para lectura, error si el archivo no existe\n",
        "*   `a` - Adjuntar - Abre un archivo para agregar, crea el archivo si no existe\n",
        "*   `w` - Escribir - Abre un archivo para escribir, crea el archivo si no existe\n",
        "*   `x` - Crear - Crea el archivo especificado, devuelve un error si el archivo existe\n",
        "\n",
        "Además, puede especificar si el archivo debe manejarse en modo binario o de texto\n",
        "\n",
        "*   `t` - Texto - Valor predeterminado. Modo texto\n",
        "\n",
        "*   `b` - Binario - Modo binario (p. ej., imágenes)\n",
        "\n",
        "\n",
        "\n",
        "\n",
        "\n"
      ]
    },
    {
      "cell_type": "markdown",
      "metadata": {
        "id": "EX9gb1ASNa9z"
      },
      "source": [
        "###**Sintaxis**\n",
        "Para abrir un archivo en modo lectura, basta con especificar el nombre del archivo:\n",
        "\n",
        "`f = open(\"archivo.txt\")`\n",
        "\n",
        "El código anterior es el mismo que:\n",
        "\n",
        "`f = open(\"archivo.txt\", \"rt\")`\n",
        "\n",
        "Dado que \"r\" para lectura y \"t\" para texto son los valores predeterminados, no es necesario especificarlos.\n",
        "\n",
        "Nota: asegúrese de que el archivo exista o obtendrá un error.\n",
        "\n",
        "A continuación usaremos el siguiente archivo y lo cargaremos en el servicio virtualizado de Google Colab en la carpeta `'/content/'` o lo cargaremos a Google Drive y usaremos `'/content/MyDrive/'`\n",
        "\n",
        "[https://raw.githubusercontent.com/juliancastillo-iudigital/FundamentosProgramacionPosgrados2021-1/main/archivo.txt](https://raw.githubusercontent.com/juliancastillo-iudigital/FundamentosProgramacionPosgrados2021-1/main/archivo.txt)\n",
        "\n",
        "\n",
        "###**urllib**\n",
        "\n",
        "urllib es un paquete que recopila varios módulos para trabajar con URL:\n",
        "\n",
        "*   urllib.request para abrir y leer URL\n",
        ">*   urllib.request: biblioteca extensible para abrir URL\n",
        ">>\n",
        "El módulo urllib.request define funciones y clases que ayudan a abrir URL (principalmente HTTP) en un mundo complejo: autenticación básica y resumida, redirecciones, cookies y más.\n",
        "*   urllib.error que contiene las excepciones generadas por urllib.request\n",
        ">*   urllib.error: clases de excepción generadas por urllib.request  \n",
        ">>\n",
        "El módulo urllib.error define las clases de excepción para las excepciones generadas por urllib.request. La clase de excepción básica es URLError.\n",
        "*   urllib.parse para analizar URL\n",
        ">*   urllib.parse - Analizar URL en componentes\n",
        ">>\n",
        "Este módulo define una interfaz estándar para dividir las cadenas del Uniform Resource Locator (URL) en componentes (addressing scheme, network location, path etc.), para volver a combinar los componentes en una cadena de URL y convertir una \"relative URL\" en una URL absoluta dada una \"base URL.\"\n",
        "*   urllib.robotparser para analizar archivos robots.txt\n",
        ">*   urllib.robotparser: analizador de robots.txt\n",
        ">>\n",
        "Este módulo proporciona una clase única, RobotFileParser, que responde preguntas sobre si un agente de usuario en particular puede obtener una URL en el sitio web que publicó el archivo robots.txt. Para obtener más detalles sobre la estructura de los archivos robots.txt, consulte http://www.robotstxt.org/orig.html.\n",
        "\n"
      ]
    },
    {
      "cell_type": "code",
      "execution_count": null,
      "metadata": {
        "id": "zDrxhxf_a2PC"
      },
      "outputs": [],
      "source": [
        "from urllib.request import urlopen #Importamos urlopen\n",
        "#Creamos un link\n",
        "link = r'https://raw.githubusercontent.com/juliancastillo-iudigital/FundamentosProgramacionPosgrados/main/archivo.txt'\n",
        "#Asignamos el archivo mediante urlopen a una variable\n",
        "f = urlopen(link)\n",
        "archivo = f.read() #Archivo ahora contiene la lectura del archivo\n",
        "print(archivo) #Impresion del archivo"
      ]
    },
    {
      "cell_type": "code",
      "execution_count": null,
      "metadata": {
        "id": "GUxRe4qaUODG"
      },
      "outputs": [],
      "source": [
        "from urllib.request import urlopen\n",
        "\n",
        "origen = r'https://raw.githubusercontent.com/juliancastillo-iudigital/FundamentosProgramacionPosgrados/main/archivo.txt'\n",
        "destino = '/content/archivo.txt'\n",
        "\n",
        "datos = urlopen(origen)\n",
        "data = datos.read()\n",
        "archivo = '/content/archivo.txt'\n",
        "archivo_ = open(archivo, 'w')\n",
        "archivo_.write(str(data))\n",
        "archivo_.close()\n"
      ]
    },
    {
      "cell_type": "code",
      "execution_count": null,
      "metadata": {
        "id": "BmbdT4Lrc0Xb"
      },
      "outputs": [],
      "source": [
        "!cat /content/archivo.txt"
      ]
    },
    {
      "cell_type": "markdown",
      "metadata": {
        "id": "b2DO19-8oOh5"
      },
      "source": [
        "##**Manejo de archivos en `/content/`**\n",
        "\n",
        "Cargaremos el archivo proporcionado en el Classroom de la Clase 07 llamado `archivo.txt`"
      ]
    },
    {
      "cell_type": "code",
      "execution_count": null,
      "metadata": {
        "id": "g44IQf-xovGy"
      },
      "outputs": [],
      "source": [
        "from google.colab import files\n",
        "uploaded = files.upload()\n",
        "for fn in uploaded.keys():\n",
        "  print('El usuario ha cargado el archivo: \"{name}\" con tamaño {length} bytes'.format(\n",
        "      name=fn, length=len(uploaded[fn])))"
      ]
    },
    {
      "cell_type": "markdown",
      "metadata": {
        "id": "YzAkjFtLjyDA"
      },
      "source": [
        "###**Abrir archivos ubicados en `/content/`**\n",
        "\n",
        "Ahora ya tenemos el archivo llamado `archivo.txt`\n",
        "\n",
        "Para abrirlo, usaremos la función `Built-in` `open()`. Esta devuelve un objeto tipo archivo, que tiene un método `read()` para leer el contenido del archivo:\n",
        "\n",
        "\n",
        "```python\n",
        "f = open('/content/archivo.txt', 'r')\n",
        "print(f.read())\n",
        "```\n",
        "\n",
        "###**Leer solo partes del archivo**\n",
        "\n",
        "De forma predeterminada, el método `read()` devuelve el texto completo, pero también puede especificar cuántos caracteres desea devolver:\n",
        "```python\n",
        "f = open('/content/archivo.txt', 'r')\n",
        "print(f.read(5))\n",
        "```\n",
        "\n",
        "###**Leer líneas**\n",
        "\n",
        "Podemos devolver una línea utilizando el método `readline()`:\n",
        "```python\n",
        "f = open('/content/archivo.txt', 'r')\n",
        "print(f.readline())\n",
        "```\n",
        "Al llamar a `readline()` dos veces, puede leer las dos primeras líneas:\n",
        "```python\n",
        "f = open('/content/archivo.txt', 'r')\n",
        "print(f.readline())\n",
        "print(f.readline())\n",
        "```\n",
        "Al iterar las líneas del archivo, puede leer el archivo completo, línea por línea:\n",
        "```python\n",
        "f = open('/content/archivo.txt', 'r')\n",
        "for x in f:\n",
        "    print(x)\n",
        "```\n",
        "\n",
        "###**Cerrar archivos**\n",
        "\n",
        "Es una buena práctica cerrar siempre el archivo cuando haya terminado.\n",
        "```python\n",
        "f = open('/content/archivo.txt', 'r')\n",
        "print(f.readline())\n",
        "f.close()\n",
        "```\n",
        "\n",
        "Nota: Siempre debe cerrar sus archivos; en algunos casos, debido al almacenamiento en búfer, es posible que los cambios realizados en un archivo no se muestren hasta que cierre el archivo."
      ]
    },
    {
      "cell_type": "code",
      "execution_count": null,
      "metadata": {
        "id": "c8ywhPNxmmmG"
      },
      "outputs": [],
      "source": [
        "f = open('/content/archivo.txt', 'r')\n",
        "print(f.read())"
      ]
    },
    {
      "cell_type": "code",
      "execution_count": null,
      "metadata": {
        "id": "B7ITL3ZWm5__"
      },
      "outputs": [],
      "source": [
        "f = open('/content/archivo.txt', 'r')\n",
        "print(f.read(5))"
      ]
    },
    {
      "cell_type": "code",
      "execution_count": null,
      "metadata": {
        "id": "HD38MhYnnEGk"
      },
      "outputs": [],
      "source": [
        "f = open('/content/archivo.txt', 'r')\n",
        "print(f.readline())"
      ]
    },
    {
      "cell_type": "code",
      "execution_count": null,
      "metadata": {
        "id": "Ltos7LalncvH"
      },
      "outputs": [],
      "source": [
        "f = open('/content/archivo.txt', 'r')\n",
        "print(f.readline())\n",
        "print(f.readline())"
      ]
    },
    {
      "cell_type": "code",
      "execution_count": null,
      "metadata": {
        "id": "-TKNN31uniqs"
      },
      "outputs": [],
      "source": [
        "f = open('/content/archivo.txt', 'r')\n",
        "for x in f:\n",
        "    print(x)"
      ]
    },
    {
      "cell_type": "code",
      "execution_count": null,
      "metadata": {
        "id": "vyfCMc77p624"
      },
      "outputs": [],
      "source": [
        "f = open('/content/archivo.txt', 'r')\n",
        "print(f.readline())\n",
        "f.close()"
      ]
    },
    {
      "cell_type": "markdown",
      "metadata": {
        "id": "fE2SqpZVqqmA"
      },
      "source": [
        "###**El módulo `shutil`**\n",
        "\n",
        "El módulo `shutil` en Python proporciona muchas funciones de operaciones de alto nivel en archivos y colecciones de archivos. Viene bajo los módulos de utilidad estándar de Python. Este módulo ayuda a automatizar el proceso de copia y eliminación de archivos y directorios."
      ]
    },
    {
      "cell_type": "code",
      "execution_count": null,
      "metadata": {
        "id": "ylT1MSL1q2vG"
      },
      "outputs": [],
      "source": [
        "import os\n",
        "import shutil\n",
        "\n",
        "origen = '/content/archivo.txt'\n",
        "destino = '/content/archivo2.txt'\n",
        "\n",
        "# Tipo de retorno: este método devuelve una cadena que representa la ruta del archivo recién creado.\n",
        "nuevodestino = shutil.copyfile(origen, destino)\n",
        "\n",
        "print(os.listdir('/content/'))\n",
        "\n",
        "print('Archivo copiado satisfactoriamente en la ruta: ', nuevodestino)"
      ]
    },
    {
      "cell_type": "markdown",
      "metadata": {
        "id": "fiDSUPnVqC1R"
      },
      "source": [
        "###**Escritura de archivos**\n",
        "\n",
        "Para escribir en un archivo existente, debe agregar un parámetro a la función `open()`:\n",
        "\n",
        "*   `'a'` - Append - se agregará al final del archivo\n",
        "*   `'w' `- Write - sobrescribirá cualquier contenido existente\n",
        "\n",
        "###**Escritura de archivos usando Append**\n",
        "\n",
        "Usando el nuevo archivo creado `archivo2.txt` agregaremos una nueva línea al final del texto usando el parámetro `a` de Append.\n",
        "\n",
        "```python\n",
        "f = open('archivo2.txt', 'a')\n",
        "f.write('\\nEl final es diferente, ahora soy yo el final')\n",
        "f.close()\n",
        "\n",
        "f = open('archivo2.txt', 'r')\n",
        "print(f.read())\n",
        "```\n",
        "\n",
        "Nota: `\\n` Crea una nueva línea\n",
        "\n",
        "###**Escritura de archivos usando Write**\n",
        "\n",
        "Crear un nuevo archivo copia de `archivo.txt` llamado originalmente `archivo3.txt`\n",
        "Usando el nuevo archivo creado `archivo3.txt` eliminaremos todo el contenido del archivo y sobrescribiremos en él.\n",
        "\n",
        "```python\n",
        "f = open('archivo2.txt', 'w')\n",
        "f.write(\"Ahora soy la unica línea de texto en el archivo 3, JAJAJAJAJAJA\")\n",
        "f.close()\n",
        "\n",
        "f = open('archivo2.txt', 'r')\n",
        "print(f.read())\n",
        "```\n",
        "\n",
        "Nota: `\\n` Crea una nueva línea"
      ]
    },
    {
      "cell_type": "code",
      "execution_count": null,
      "metadata": {
        "id": "IxH0DhMNsK7d"
      },
      "outputs": [],
      "source": [
        "f = open(\"archivo2.txt\", \"a\")\n",
        "f.write(\"\\nEl final es diferente, ahora soy yo el final\")\n",
        "f.close()\n",
        "\n",
        "f = open(\"archivo2.txt\", \"r\")\n",
        "print(f.read())"
      ]
    },
    {
      "cell_type": "code",
      "execution_count": null,
      "metadata": {
        "id": "hBZ3kT3AtBso"
      },
      "outputs": [],
      "source": [
        "import os\n",
        "import shutil\n",
        "\n",
        "origen = '/content/archivo.txt'\n",
        "destino = '/content/archivo3.txt'\n",
        "\n",
        "# Tipo de retorno: este método devuelve una cadena que representa la ruta del archivo recién creado.\n",
        "nuevodestino = shutil.copyfile(origen, destino)\n",
        "\n",
        "print(os.listdir('/content/'))\n",
        "\n",
        "print('Archivo copiado satisfactoriamente en la ruta: ', nuevodestino)"
      ]
    },
    {
      "cell_type": "code",
      "execution_count": null,
      "metadata": {
        "id": "DVdS4GXgt5m9"
      },
      "outputs": [],
      "source": [
        "f = open('archivo2.txt', 'w')\n",
        "f.write(\"Ahora soy la unica línea de texto en el archivo 3, JAJAJAJAJAJA\")\n",
        "f.close()\n",
        "\n",
        "f = open('archivo2.txt', 'r')\n",
        "print(f.read())"
      ]
    },
    {
      "cell_type": "markdown",
      "metadata": {
        "id": "r4fsYQoVuE4p"
      },
      "source": [
        "###**Crear un archivo nuevo**\n",
        "\n",
        "Para crear un nuevo archivo en Python, usamos el mismo método `open()`, con uno de los siguientes parámetros:\n",
        "\n",
        "*   `'x'` - Create - creará un archivo, devuelve un error si el archivo existe\n",
        "*   `'a'` - Append - creará un archivo si el archivo especificado no existe\n",
        "*   `'w'` - Write - creará un archivo si el archivo especificado no existe\n",
        "\n",
        "Creamos un archivo llamado `nuevoarchivo.txt`\n",
        "\n",
        "```python\n",
        "f = open('nuevoarchivo.txt', 'x')\n",
        "```\n",
        "\n",
        "Creamos un archivo nuevo llamado `nuevoarchivo.txt` si este no existe.\n",
        "\n",
        "```python\n",
        "f = open('nuevoarchivo.txt', 'w')\n",
        "```\n",
        "\n",
        "Nota: Nótese que no estamos llamando el directorio `/content/`, Python en Google Colab crea por defecto todos los archivos e interacciones en dicha carpeta.\n",
        "\n",
        "\n"
      ]
    },
    {
      "cell_type": "code",
      "execution_count": null,
      "metadata": {
        "id": "lSGcpw94vBIU"
      },
      "outputs": [],
      "source": [
        "f = open('nuevoarchivo.txt', 'x')"
      ]
    },
    {
      "cell_type": "code",
      "execution_count": null,
      "metadata": {
        "id": "gp7wodIzvGAh"
      },
      "outputs": [],
      "source": [
        "f = open('nuevoarchivo.txt', 'w')"
      ]
    },
    {
      "cell_type": "markdown",
      "metadata": {
        "id": "R6w-n3a9wCQs"
      },
      "source": [
        "Si el archivo existe y utilizamos el parámetro `x` nos presenta el siguiente error:\n",
        "\n",
        "\n",
        "```\n",
        "---------------------------------------------------------------------------\n",
        "FileExistsError Traceback (most recent call last)\n",
        "<ipython-input-39-81b73c73b5bd> in <module>()\n",
        "----> 1 f = open('nuevoarchivo.txt', 'x')\n",
        "FileExistsError: [Errno 17] File exists: 'nuevoarchivo.txt'\n",
        "```"
      ]
    },
    {
      "cell_type": "markdown",
      "metadata": {
        "id": "vHLacNQjwjO9"
      },
      "source": [
        "###**Borrar archivos**\n",
        "\n",
        "Para eliminar un archivo, debe importar el módulo del sistema operativo y ejecutar su función `os.remove()`:\n",
        "Creamos un archivo llamado `nuevoarchivo.txt`\n",
        "\n",
        "A continuación eliminaremos el nuevo archivo,\n",
        "```python\n",
        "import os\n",
        "os.remove(\"nuevoarchivo.txt\")\n",
        "```\n",
        "\n",
        "Ahora verifiquemos que el archivo ya no exista.\n",
        "\n",
        "```python\n",
        "import os\n",
        "if os.path.exists(\"nuevoarchivo.txt\"):\n",
        "  os.remove(\"nuevoarchivo.txt\")\n",
        "else:\n",
        "  print(\"El Archivo nuevo, ha muerto, ya no existe\")\n",
        "```\n",
        "\n"
      ]
    },
    {
      "cell_type": "code",
      "execution_count": null,
      "metadata": {
        "id": "bd8D4SnJxI8f"
      },
      "outputs": [],
      "source": [
        "import os\n",
        "os.remove(\"nuevoarchivo.txt\")"
      ]
    },
    {
      "cell_type": "code",
      "execution_count": null,
      "metadata": {
        "id": "6ZwS0soyxLUA"
      },
      "outputs": [],
      "source": [
        "import os\n",
        "if os.path.exists(\"nuevoarchivo.txt\"):\n",
        "  os.remove(\"nuevoarchivo.txt\")\n",
        "else:\n",
        "  print(\"El Archivo nuevo, ha muerto, ya no existe\")"
      ]
    },
    {
      "cell_type": "markdown",
      "metadata": {
        "id": "9o_79djY8ZgC"
      },
      "source": [
        "<p><a name=\"s5\"></a></p>\n",
        "\n",
        "# **05. Notas Finales**\n",
        "[[Contenidos]](#contents)"
      ]
    },
    {
      "cell_type": "markdown",
      "metadata": {
        "id": "Sj7tLr6j1myZ"
      },
      "source": [
        "<table>\n",
        "   <tbody>\n",
        "      <tr>\n",
        "         <strong><td>Quantum Computing</td><strong>\n",
        "         <h1><td>Statistical Computing</td></h1>\n",
        "         <h1><td>Signal Processing</td></h1>\n",
        "         <h1><td>Image Processing</td></h1>\n",
        "         <h1><td>Graphs and Networks</td></h1>\n",
        "         <h1><td>Astronomy Processes</td></h1>\n",
        "         <h1><td>Cognitive Psychology</td></h1>\n",
        "      </tr>\n",
        "      <tr>\n",
        "         <td><img class=\"cell-layout\" height=\"30px\" src=\"https://github.com/juliancastillo-iudigital/FundamentosProgramacionPosgrados2021-1/blob/main/quantum_computing.svg?raw=True\" alt=\"A computer chip.\"></td>\n",
        "         <td><img class=\"cell-layout\" height=\"30px\" src=\"https://github.com/juliancastillo-iudigital/FundamentosProgramacionPosgrados2021-1/blob/main/statistical_computing.svg?raw=True\" alt=\"A line graph with the line moving up.\"></td>\n",
        "         <td><img class=\"cell-layout\" height=\"30px\" src=\"https://github.com/juliancastillo-iudigital/FundamentosProgramacionPosgrados2021-1/blob/main/signal_processing.svg?raw=True\" alt=\"A bar chart with positive and negative values.\"></td>\n",
        "         <td><img class=\"cell-layout\" height=\"30px\" src=\"https://github.com/juliancastillo-iudigital/FundamentosProgramacionPosgrados2021-1/blob/main/image_processing.svg?raw=True\" alt=\"An photograph of the mountains.\"></td>\n",
        "         <td><img class=\"cell-layout\" height=\"30px\" src=\"https://github.com/juliancastillo-iudigital/FundamentosProgramacionPosgrados2021-1/blob/main/sd6.svg?raw=True\" alt=\"A simple graph.\"></td>\n",
        "         <td><img class=\"cell-layout\" height=\"30px\" src=\"https://github.com/juliancastillo-iudigital/FundamentosProgramacionPosgrados2021-1/blob/main/astronomy_processes.svg?raw=True\" alt=\"A telescope.\"></td>\n",
        "         <td><img class=\"cell-layout\" height=\"30px\" src=\"https://github.com/juliancastillo-iudigital/FundamentosProgramacionPosgrados2021-1/blob/main/cognitive_psychology.svg?raw=True\" alt=\"A human head with gears.\"></td>\n",
        "      </tr>\n",
        "      <tr>\n",
        "         <td class=\"center-text\"><a href=\"http://qutip.org\">QuTiP</a></td>\n",
        "         <td class=\"center-text\"><a href=\"https://pandas.pydata.org\">Pandas</a></td>\n",
        "         <td class=\"center-text\"><a href=\"https://www.scipy.org\">SciPy</a></td>\n",
        "         <td class=\"center-text\"><a href=\"https://scikit-image.org\">Scikit-image</a></td>\n",
        "         <td class=\"center-text\"><a href=\"https://networkx.org\">NetworkX</a></td>\n",
        "         <td class=\"center-text\"><a href=\"https://www.astropy.org\">AstroPy</a></td>\n",
        "         <td class=\"center-text\"><a href=\"https://www.psychopy.org\">PsychoPy</a></td>\n",
        "      </tr>\n",
        "      <tr>\n",
        "         <td class=\"center-text\"><a href=\"https://pyquil-docs.rigetti.com/en/stable\">PyQuil</a></td>\n",
        "         <td class=\"center-text\"><a href=\"https://github.com/statsmodels/statsmodels\">statsmodels</a></td>\n",
        "         <td class=\"center-text\"><a href=\"https://pywavelets.readthedocs.io\">PyWavelets</a></td>\n",
        "         <td class=\"center-text\"><a href=\"https://opencv.org\">OpenCV</a></td>\n",
        "         <td class=\"center-text\"><a href=\"https://graph-tool.skewed.de/\">graph-tool</a></td>\n",
        "         <td class=\"center-text\"><a href=\"https://github.com/sunpy/sunpy\">SunPy</a></td>\n",
        "         <td class=\"center-text\"></td>\n",
        "      </tr>\n",
        "      <tr>\n",
        "         <td class=\"center-text\"><a href=\"https://qiskit.org\">Qiskit</a></td>\n",
        "         <td class=\"center-text\"><a href=\"https://xarray.pydata.org/en/stable/\">Xarray</a></td>\n",
        "         <td class=\"center-text\"><a href=\"https://python-control.org\">python-control</a></td>\n",
        "         <td class=\"center-text\"><a href=\"https://mahotas.rtfd.io/\">Mahotas</a></td>\n",
        "         <td class=\"center-text\"><a href=\"https://igraph.org/python/\">igraph</a></td>\n",
        "         <td class=\"center-text\"><a href=\"https://github.com/spacepy/spacepy\">SpacePy</a></td>\n",
        "         <td class=\"center-text\"></td>\n",
        "      </tr>\n",
        "      <tr>\n",
        "         <td class=\"lastrow-center-text\"></td>\n",
        "         <td class=\"center-text\"><a href=\"https://github.com/mwaskom/seaborn\">Seaborn</a></td>\n",
        "         <td class=\"lastrow-center-text\"></td>\n",
        "         <td class=\"lastrow-center-text\"></td>\n",
        "         <td class=\"center-text\"><a href=\"https://pygsp.rtfd.io\">PyGSP</a></td>\n",
        "         <td class=\"lastrow-center-text\"></td>\n",
        "         <td class=\"lastrow-center-text\"></td>\n",
        "      </tr>\n",
        "      <tr class=\"highlight-th\">\n",
        "         <h1><td class=\"bold-text\">Bioinformatics</td></h1>\n",
        "         <h1><td class=\"bold-text\">Bayesian Inference</td></h1>\n",
        "         <h1><td class=\"bold-text\">Mathematical Analysis</td></h1>\n",
        "         <h1><td class=\"bold-text\">Chemistry</td></h1>\n",
        "         <h1><td class=\"bold-text\">Geoscience</td></h1>\n",
        "         <h1><td class=\"bold-text\">Geographic Processing</td></h1>\n",
        "         <h1><td class=\"bold-text\">Architecture &amp; Engineering</td></h1>\n",
        "      </tr>\n",
        "      <tr>\n",
        "         <td><img class=\"cell-layout\" height=\"30px\" src=\"https://github.com/juliancastillo-iudigital/FundamentosProgramacionPosgrados2021-1/blob/main/bioinformatics.svg?raw=True\" alt=\"A strand of DNA.\"></td>\n",
        "         <td><img class=\"cell-layout\" height=\"30px\" src=\"https://github.com/juliancastillo-iudigital/FundamentosProgramacionPosgrados2021-1/blob/main/bayesian_inference.svg?raw=True\" alt=\"A graph with a bell-shaped curve.\"></td>\n",
        "         <td><img class=\"cell-layout\" height=\"30px\" src=\"https://github.com/juliancastillo-iudigital/FundamentosProgramacionPosgrados2021-1/blob/main/mathematical_analysis.svg?raw=True\" alt=\"Four mathematical symbols.\"></td>\n",
        "         <td><img class=\"cell-layout\" height=\"30px\" src=\"https://github.com/juliancastillo-iudigital/FundamentosProgramacionPosgrados2021-1/blob/main/chemistry.svg?raw=True\" alt=\"A test tube.\"></td>\n",
        "         <td><img class=\"cell-layout\" height=\"30px\" src=\"https://github.com/juliancastillo-iudigital/FundamentosProgramacionPosgrados2021-1/blob/main/geoscience.svg?raw=True\" alt=\"The Earth.\"></td>\n",
        "         <td><img class=\"cell-layout\" height=\"30px\" src=\"https://github.com/juliancastillo-iudigital/FundamentosProgramacionPosgrados2021-1/blob/main/GIS.svg?raw=True\" alt=\"A map.\"></td>\n",
        "         <td><img class=\"cell-layout\" height=\"30px\" src=\"https://github.com/juliancastillo-iudigital/FundamentosProgramacionPosgrados2021-1/blob/main/robotics.svg?raw=True\" alt=\"A microprocessor development board.\"></td>\n",
        "      </tr>\n",
        "      <tr>\n",
        "         <td class=\"center-text\"><a href=\"https://biopython.org\">BioPython</a></td>\n",
        "         <td class=\"center-text\"><a href=\"https://pystan.readthedocs.io/en/latest/\">PyStan</a></td>\n",
        "         <td class=\"center-text\"><a href=\"https://www.scipy.org\">SciPy</a></td>\n",
        "         <td class=\"center-text\"><a href=\"https://cantera.org/\">Cantera</a></td>\n",
        "         <td class=\"center-text\"><a href=\"https://pangeo.io/\">Pangeo</a></td>\n",
        "         <td class=\"center-text\"><a href=\"https://shapely.readthedocs.io\">Shapely</a></td>\n",
        "         <td class=\"center-text\"><a href=\"https://compas.dev/\">COMPAS</a></td>\n",
        "      </tr>\n",
        "      <tr>\n",
        "         <td class=\"center-text\"><a href=\"http://scikit-bio.org\">Scikit-Bio</a></td>\n",
        "         <td class=\"center-text\"><a href=\"https://docs.pymc.io\">PyMC3</a></td>\n",
        "         <td class=\"center-text\"><a href=\"https://www.sympy.org\">SymPy</a></td>\n",
        "         <td class=\"center-text\"><a href=\"https://www.mdanalysis.org/\">MDAnalysis</a></td>\n",
        "         <td class=\"center-text\"><a href=\"https://simpeg.xyz/\">Simpeg</a></td>\n",
        "         <td class=\"center-text\"><a href=\"https://geopandas.org/\">GeoPandas</a></td>\n",
        "         <td class=\"center-text\"><a href=\"https://cityenergyanalyst.com/\">City Energy Analyst</a></td>\n",
        "      </tr>\n",
        "      <tr>\n",
        "         <td class=\"center-text\"><a href=\"https://github.com/openvax/pyensembl\">PyEnsembl</a></td>\n",
        "         <td class=\"center-text\"><a href=\"https://arviz-devs.github.io/arviz/\">ArviZ</a></td>\n",
        "         <td class=\"center-text\"><a href=\"https://github.com/cvxgrp/cvxpy\">cvxpy</a></td>\n",
        "         <td class=\"center-text\"><a href=\"https://github.com/rdkit/rdkit\">RDKit</a></td>\n",
        "         <td class=\"center-text\"><a href=\"https://github.com/obspy/obspy/wiki\">ObsPy</a></td>\n",
        "         <td class=\"center-text\"><a href=\"https://python-visualization.github.io/folium\">Folium</a></td>\n",
        "         <td class=\"center-text\"><a href=\"https://nortikin.github.io/sverchok/\">Sverchok</a></td>\n",
        "      </tr>\n",
        "      <tr>\n",
        "         <td class=\"lastrow-center-text\"><a href=\"http://etetoolkit.org/\">ETE</a></td>\n",
        "         <td class=\"lastrow-center-text\"><a href=\"https://emcee.readthedocs.io/\">emcee</a></td>\n",
        "         <td class=\"lastrow-center-text\"><a href=\"https://fenicsproject.org/\">FEniCS</a></td>\n",
        "         <td class=\"lastrow-center-text\"></td>\n",
        "         <td class=\"lastrow-center-text\"><a href=\"https://www.fatiando.org/\">Fatiando a Terra</a></td>\n",
        "         <td class=\"lastrow-center-text\"></td>\n",
        "         <td class=\"lastrow-center-text\"></td>\n",
        "      </tr>\n",
        "   </tbody>\n",
        "</table>"
      ]
    }
  ],
  "metadata": {
    "colab": {
      "provenance": [],
      "include_colab_link": true
    },
    "kernelspec": {
      "display_name": "Python 3.9.7 64-bit",
      "language": "python",
      "name": "python3"
    },
    "language_info": {
      "name": "python",
      "version": "3.9.7"
    },
    "vscode": {
      "interpreter": {
        "hash": "ad2bdc8ecc057115af97d19610ffacc2b4e99fae6737bb82f5d7fb13d2f2c186"
      }
    }
  },
  "nbformat": 4,
  "nbformat_minor": 0
}